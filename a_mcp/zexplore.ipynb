{
 "cells": [
  {
   "cell_type": "code",
   "execution_count": 1,
   "metadata": {},
   "outputs": [],
   "source": [
    "import asyncio\n",
    "from langchain_mcp_adapters.client import MultiServerMCPClient\n",
    "from langgraph.prebuilt import create_react_agent"
   ]
  },
  {
   "cell_type": "code",
   "execution_count": 3,
   "metadata": {},
   "outputs": [],
   "source": [
    "mcp_config = {\n",
    "    \"math\": {\n",
    "        \"command\": \"python\",\n",
    "        \"args\": [\"/Volumes/Projects/TemporalProjects/McpDemo/a_mcp/math_server.py\"],\n",
    "        \"transport\": \"stdio\",\n",
    "    },\n",
    "    \"weather\": {\n",
    "        \"url\": \"http://localhost:8000/sse\",\n",
    "        \"transport\": \"sse\",\n",
    "    },\n",
    "}"
   ]
  },
  {
   "cell_type": "code",
   "execution_count": 4,
   "metadata": {},
   "outputs": [],
   "source": [
    "async def init_agent():\n",
    "    client = MultiServerMCPClient(mcp_config)\n",
    "    await client.__aenter__()  # inicia el contexto manualmente\n",
    "\n",
    "    tools = client.get_tools()\n",
    "    agent = create_react_agent(\"openai:gpt-4o\", tools)\n",
    "\n",
    "    return agent, client"
   ]
  },
  {
   "cell_type": "code",
   "execution_count": 7,
   "metadata": {},
   "outputs": [],
   "source": [
    "async def test_agent(agent):\n",
    "    # Pregunta matemática\n",
    "    math_response = await agent.ainvoke(\n",
    "        {\"messages\": [{\"role\": \"user\", \"content\": \"what's (3 + 5) x 12?\"}]}\n",
    "    )\n",
    "    print(\"Math response:\", math_response)\n",
    "\n",
    "    # Pregunta sobre el clima\n",
    "    weather_response = await agent.ainvoke(\n",
    "        {\"messages\": [{\"role\": \"user\", \"content\": \"what is the weather in nyc?\"}]}\n",
    "    )\n",
    "    print(\"Weather response:\", weather_response)"
   ]
  },
  {
   "cell_type": "code",
   "execution_count": 8,
   "metadata": {},
   "outputs": [
    {
     "name": "stdout",
     "output_type": "stream",
     "text": [
      "Math response: {'messages': [HumanMessage(content=\"what's (3 + 5) x 12?\", additional_kwargs={}, response_metadata={}, id='e94efd43-9cef-40fb-9cdd-4da53270874c'), AIMessage(content='', additional_kwargs={'tool_calls': [{'id': 'call_ywxwUQamQYNMoW9Z2sP0eySI', 'function': {'arguments': '{\"a\": 3, \"b\": 5}', 'name': 'add'}, 'type': 'function'}, {'id': 'call_3Ytgg3o6pPCpuRXm1jY2GSjY', 'function': {'arguments': '{\"a\": 8, \"b\": 12}', 'name': 'multiply'}, 'type': 'function'}], 'refusal': None}, response_metadata={'token_usage': {'completion_tokens': 51, 'prompt_tokens': 96, 'total_tokens': 147, 'completion_tokens_details': {'accepted_prediction_tokens': 0, 'audio_tokens': 0, 'reasoning_tokens': 0, 'rejected_prediction_tokens': 0}, 'prompt_tokens_details': {'audio_tokens': 0, 'cached_tokens': 0}}, 'model_name': 'gpt-4o-2024-08-06', 'system_fingerprint': 'fp_f5bdcc3276', 'id': 'chatcmpl-BUu5rVt37khseNQJBZpQlp1mIUFfJ', 'service_tier': 'default', 'finish_reason': 'tool_calls', 'logprobs': None}, id='run--d80a6c73-c1b8-4b98-8baa-552a72b17536-0', tool_calls=[{'name': 'add', 'args': {'a': 3, 'b': 5}, 'id': 'call_ywxwUQamQYNMoW9Z2sP0eySI', 'type': 'tool_call'}, {'name': 'multiply', 'args': {'a': 8, 'b': 12}, 'id': 'call_3Ytgg3o6pPCpuRXm1jY2GSjY', 'type': 'tool_call'}], usage_metadata={'input_tokens': 96, 'output_tokens': 51, 'total_tokens': 147, 'input_token_details': {'audio': 0, 'cache_read': 0}, 'output_token_details': {'audio': 0, 'reasoning': 0}}), ToolMessage(content='8', name='add', id='987388b3-de4a-44dc-86da-a5d47a195745', tool_call_id='call_ywxwUQamQYNMoW9Z2sP0eySI'), ToolMessage(content='96', name='multiply', id='4896dfb1-9721-41c6-9e9e-1f6f7bfd8889', tool_call_id='call_3Ytgg3o6pPCpuRXm1jY2GSjY'), AIMessage(content='The result of \\\\( (3 + 5) \\\\times 12 \\\\) is 96.', additional_kwargs={'refusal': None}, response_metadata={'token_usage': {'completion_tokens': 22, 'prompt_tokens': 162, 'total_tokens': 184, 'completion_tokens_details': {'accepted_prediction_tokens': 0, 'audio_tokens': 0, 'reasoning_tokens': 0, 'rejected_prediction_tokens': 0}, 'prompt_tokens_details': {'audio_tokens': 0, 'cached_tokens': 0}}, 'model_name': 'gpt-4o-2024-08-06', 'system_fingerprint': 'fp_f5bdcc3276', 'id': 'chatcmpl-BUu5s8ZVywzx9YWzKe0SYu9D8uX6U', 'service_tier': 'default', 'finish_reason': 'stop', 'logprobs': None}, id='run--8d09affe-ade5-4434-8649-0c92d862efd1-0', usage_metadata={'input_tokens': 162, 'output_tokens': 22, 'total_tokens': 184, 'input_token_details': {'audio': 0, 'cache_read': 0}, 'output_token_details': {'audio': 0, 'reasoning': 0}})]}\n",
      "Weather response: {'messages': [HumanMessage(content='what is the weather in nyc?', additional_kwargs={}, response_metadata={}, id='4d1eca6f-dc13-4408-a9e2-a68e6c79f972'), AIMessage(content='', additional_kwargs={'tool_calls': [{'id': 'call_rHZ4VcvLECkBD5QNeudt52Tj', 'function': {'arguments': '{\"location\":\"new york city\"}', 'name': 'get_weather'}, 'type': 'function'}], 'refusal': None}, response_metadata={'token_usage': {'completion_tokens': 17, 'prompt_tokens': 92, 'total_tokens': 109, 'completion_tokens_details': {'accepted_prediction_tokens': 0, 'audio_tokens': 0, 'reasoning_tokens': 0, 'rejected_prediction_tokens': 0}, 'prompt_tokens_details': {'audio_tokens': 0, 'cached_tokens': 0}}, 'model_name': 'gpt-4o-2024-08-06', 'system_fingerprint': 'fp_f5bdcc3276', 'id': 'chatcmpl-BUu5t7BozRBvNJ3xkmJkZ8CVG4ZGH', 'service_tier': 'default', 'finish_reason': 'tool_calls', 'logprobs': None}, id='run--c0731526-1908-458d-b4a7-3b4616332bf0-0', tool_calls=[{'name': 'get_weather', 'args': {'location': 'new york city'}, 'id': 'call_rHZ4VcvLECkBD5QNeudt52Tj', 'type': 'tool_call'}], usage_metadata={'input_tokens': 92, 'output_tokens': 17, 'total_tokens': 109, 'input_token_details': {'audio': 0, 'cache_read': 0}, 'output_token_details': {'audio': 0, 'reasoning': 0}}), ToolMessage(content=\"It's always sunny in New York\", name='get_weather', id='d96eebf2-b49f-4a2b-b533-c400e2e71b4a', tool_call_id='call_rHZ4VcvLECkBD5QNeudt52Tj'), AIMessage(content='The weather in New York City is always sunny!', additional_kwargs={'refusal': None}, response_metadata={'token_usage': {'completion_tokens': 12, 'prompt_tokens': 122, 'total_tokens': 134, 'completion_tokens_details': {'accepted_prediction_tokens': 0, 'audio_tokens': 0, 'reasoning_tokens': 0, 'rejected_prediction_tokens': 0}, 'prompt_tokens_details': {'audio_tokens': 0, 'cached_tokens': 0}}, 'model_name': 'gpt-4o-2024-08-06', 'system_fingerprint': 'fp_f5bdcc3276', 'id': 'chatcmpl-BUu5uW70cRaNiNNz71kznMBFAkpN2', 'service_tier': 'default', 'finish_reason': 'stop', 'logprobs': None}, id='run--89f9ff9f-4ced-4f3d-bf24-914022b96ee4-0', usage_metadata={'input_tokens': 122, 'output_tokens': 12, 'total_tokens': 134, 'input_token_details': {'audio': 0, 'cache_read': 0}, 'output_token_details': {'audio': 0, 'reasoning': 0}})]}\n"
     ]
    }
   ],
   "source": [
    "agent, client = await init_agent()\n",
    "await test_agent(agent)\n"
   ]
  },
  {
   "cell_type": "code",
   "execution_count": 9,
   "metadata": {},
   "outputs": [],
   "source": [
    "async def ask_agent(agent, question: str):\n",
    "    response = await agent.ainvoke(\n",
    "        {\"messages\": [{\"role\": \"user\", \"content\": question}]}\n",
    "    )\n",
    "    print(f\"💬 Pregunta: {question}\\n🧠 Respuesta: {response}\")"
   ]
  },
  {
   "cell_type": "code",
   "execution_count": 10,
   "metadata": {},
   "outputs": [
    {
     "name": "stdout",
     "output_type": "stream",
     "text": [
      "💬 Pregunta: what's 7 * 6 + 2?\n",
      "🧠 Respuesta: {'messages': [HumanMessage(content=\"what's 7 * 6 + 2?\", additional_kwargs={}, response_metadata={}, id='6c7ad255-bd68-43f6-959c-2dd83c07d5d6'), AIMessage(content='', additional_kwargs={'tool_calls': [{'id': 'call_iAUEgl8Y9B1omT1Kom3sdCs6', 'function': {'arguments': '{\"a\": 7, \"b\": 6}', 'name': 'multiply'}, 'type': 'function'}, {'id': 'call_4SvjvXgrglpKv9gpd8Xoevf3', 'function': {'arguments': '{\"a\": 42, \"b\": 2}', 'name': 'add'}, 'type': 'function'}], 'refusal': None}, response_metadata={'token_usage': {'completion_tokens': 51, 'prompt_tokens': 95, 'total_tokens': 146, 'completion_tokens_details': {'accepted_prediction_tokens': 0, 'audio_tokens': 0, 'reasoning_tokens': 0, 'rejected_prediction_tokens': 0}, 'prompt_tokens_details': {'audio_tokens': 0, 'cached_tokens': 0}}, 'model_name': 'gpt-4o-2024-08-06', 'system_fingerprint': 'fp_f5bdcc3276', 'id': 'chatcmpl-BUu6FIC1BCmzfS9nyLNCh3yyJpXmr', 'service_tier': 'default', 'finish_reason': 'tool_calls', 'logprobs': None}, id='run--394b884c-3265-4810-a45f-5bde855680b5-0', tool_calls=[{'name': 'multiply', 'args': {'a': 7, 'b': 6}, 'id': 'call_iAUEgl8Y9B1omT1Kom3sdCs6', 'type': 'tool_call'}, {'name': 'add', 'args': {'a': 42, 'b': 2}, 'id': 'call_4SvjvXgrglpKv9gpd8Xoevf3', 'type': 'tool_call'}], usage_metadata={'input_tokens': 95, 'output_tokens': 51, 'total_tokens': 146, 'input_token_details': {'audio': 0, 'cache_read': 0}, 'output_token_details': {'audio': 0, 'reasoning': 0}}), ToolMessage(content='42', name='multiply', id='3908ac57-a99d-4d6f-b60a-f94b3ff19e1a', tool_call_id='call_iAUEgl8Y9B1omT1Kom3sdCs6'), ToolMessage(content='44', name='add', id='388b0abb-fdf8-43d3-b866-5b969f57d700', tool_call_id='call_4SvjvXgrglpKv9gpd8Xoevf3'), AIMessage(content='The result of \\\\(7 \\\\times 6 + 2\\\\) is 44.', additional_kwargs={'refusal': None}, response_metadata={'token_usage': {'completion_tokens': 20, 'prompt_tokens': 161, 'total_tokens': 181, 'completion_tokens_details': {'accepted_prediction_tokens': 0, 'audio_tokens': 0, 'reasoning_tokens': 0, 'rejected_prediction_tokens': 0}, 'prompt_tokens_details': {'audio_tokens': 0, 'cached_tokens': 0}}, 'model_name': 'gpt-4o-2024-08-06', 'system_fingerprint': 'fp_f5bdcc3276', 'id': 'chatcmpl-BUu6H1dJD6jkLZpFPXoeZZv1Q3BlW', 'service_tier': 'default', 'finish_reason': 'stop', 'logprobs': None}, id='run--53df5874-7604-4595-95eb-9877492bd66d-0', usage_metadata={'input_tokens': 161, 'output_tokens': 20, 'total_tokens': 181, 'input_token_details': {'audio': 0, 'cache_read': 0}, 'output_token_details': {'audio': 0, 'reasoning': 0}})]}\n",
      "💬 Pregunta: what's the weather like in Paris?\n",
      "🧠 Respuesta: {'messages': [HumanMessage(content=\"what's the weather like in Paris?\", additional_kwargs={}, response_metadata={}, id='9276cf3b-d45d-46fd-8947-d63a7a6cd86d'), AIMessage(content='', additional_kwargs={'tool_calls': [{'id': 'call_rC3hftrXQeyfChaRDJsSEVd9', 'function': {'arguments': '{\"location\":\"Paris\"}', 'name': 'get_weather'}, 'type': 'function'}], 'refusal': None}, response_metadata={'token_usage': {'completion_tokens': 15, 'prompt_tokens': 92, 'total_tokens': 107, 'completion_tokens_details': {'accepted_prediction_tokens': 0, 'audio_tokens': 0, 'reasoning_tokens': 0, 'rejected_prediction_tokens': 0}, 'prompt_tokens_details': {'audio_tokens': 0, 'cached_tokens': 0}}, 'model_name': 'gpt-4o-2024-08-06', 'system_fingerprint': 'fp_f5bdcc3276', 'id': 'chatcmpl-BUu6IpzyaAYBs7rxQJrCbWpJrxOtv', 'service_tier': 'default', 'finish_reason': 'tool_calls', 'logprobs': None}, id='run--aeceb47f-408e-486c-b9e5-f64eee8d80ec-0', tool_calls=[{'name': 'get_weather', 'args': {'location': 'Paris'}, 'id': 'call_rC3hftrXQeyfChaRDJsSEVd9', 'type': 'tool_call'}], usage_metadata={'input_tokens': 92, 'output_tokens': 15, 'total_tokens': 107, 'input_token_details': {'audio': 0, 'cache_read': 0}, 'output_token_details': {'audio': 0, 'reasoning': 0}}), ToolMessage(content=\"It's always sunny in New York\", name='get_weather', id='73775a00-6a68-4307-ac32-9c1fe5e22ed2', tool_call_id='call_rC3hftrXQeyfChaRDJsSEVd9'), AIMessage(content=\"It seems there's an error with the weather information. Let me know if you need any other type of help!\", additional_kwargs={'refusal': None}, response_metadata={'token_usage': {'completion_tokens': 24, 'prompt_tokens': 120, 'total_tokens': 144, 'completion_tokens_details': {'accepted_prediction_tokens': 0, 'audio_tokens': 0, 'reasoning_tokens': 0, 'rejected_prediction_tokens': 0}, 'prompt_tokens_details': {'audio_tokens': 0, 'cached_tokens': 0}}, 'model_name': 'gpt-4o-2024-08-06', 'system_fingerprint': 'fp_f5bdcc3276', 'id': 'chatcmpl-BUu6J9LNFQTPY19QYI8Eh9YH5Urs3', 'service_tier': 'default', 'finish_reason': 'stop', 'logprobs': None}, id='run--e92e6773-499b-4fbd-a700-2755610785a9-0', usage_metadata={'input_tokens': 120, 'output_tokens': 24, 'total_tokens': 144, 'input_token_details': {'audio': 0, 'cache_read': 0}, 'output_token_details': {'audio': 0, 'reasoning': 0}})]}\n",
      "💬 Pregunta: can you tell me the capital of Peru?\n",
      "🧠 Respuesta: {'messages': [HumanMessage(content='can you tell me the capital of Peru?', additional_kwargs={}, response_metadata={}, id='4fee8c71-caf4-4b22-925a-ab6be6dc8089'), AIMessage(content='The capital of Peru is Lima.', additional_kwargs={'refusal': None}, response_metadata={'token_usage': {'completion_tokens': 9, 'prompt_tokens': 93, 'total_tokens': 102, 'completion_tokens_details': {'accepted_prediction_tokens': 0, 'audio_tokens': 0, 'reasoning_tokens': 0, 'rejected_prediction_tokens': 0}, 'prompt_tokens_details': {'audio_tokens': 0, 'cached_tokens': 0}}, 'model_name': 'gpt-4o-2024-08-06', 'system_fingerprint': 'fp_f5bdcc3276', 'id': 'chatcmpl-BUu6KIm78v4e7A2HwdKpZenvwl8jr', 'service_tier': 'default', 'finish_reason': 'stop', 'logprobs': None}, id='run--9fe3a292-cdf1-4280-96f2-d3ffd7bc6ccd-0', usage_metadata={'input_tokens': 93, 'output_tokens': 9, 'total_tokens': 102, 'input_token_details': {'audio': 0, 'cache_read': 0}, 'output_token_details': {'audio': 0, 'reasoning': 0}})]}\n"
     ]
    }
   ],
   "source": [
    "await ask_agent(agent, \"what's 7 * 6 + 2?\")\n",
    "await ask_agent(agent, \"what's the weather like in Paris?\")\n",
    "await ask_agent(agent, \"can you tell me the capital of Peru?\")"
   ]
  },
  {
   "cell_type": "code",
   "execution_count": null,
   "metadata": {},
   "outputs": [],
   "source": [
    "# IMPORTANTE: libera recursos\n",
    "# await client.__aexit__(None, None, None)"
   ]
  }
 ],
 "metadata": {
  "kernelspec": {
   "display_name": "venv_demosmcp",
   "language": "python",
   "name": "python3"
  },
  "language_info": {
   "codemirror_mode": {
    "name": "ipython",
    "version": 3
   },
   "file_extension": ".py",
   "mimetype": "text/x-python",
   "name": "python",
   "nbconvert_exporter": "python",
   "pygments_lexer": "ipython3",
   "version": "3.10.17"
  }
 },
 "nbformat": 4,
 "nbformat_minor": 2
}
