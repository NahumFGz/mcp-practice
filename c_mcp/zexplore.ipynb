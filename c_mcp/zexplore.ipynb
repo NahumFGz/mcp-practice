{
 "cells": [
  {
   "cell_type": "code",
   "execution_count": 7,
   "metadata": {},
   "outputs": [
    {
     "data": {
      "text/plain": [
       "True"
      ]
     },
     "execution_count": 7,
     "metadata": {},
     "output_type": "execute_result"
    }
   ],
   "source": [
    "# import dontenv, cargar las variables de entorno y mostrar OPENAI_API_KEY Y TAVILY_API_KEY\n",
    "import dotenv\n",
    "\n",
    "dotenv.load_dotenv()"
   ]
  },
  {
   "cell_type": "code",
   "execution_count": 8,
   "metadata": {},
   "outputs": [
    {
     "data": {
      "image/png": "[encoded data removed]",
      "text/plain": [
       "<IPython.core.display.Image object>"
      ]
     },
     "metadata": {},
     "output_type": "display_data"
    }
   ],
   "source": [
    "from IPython.display import Image, display\n",
    "\n",
    "from typing import Annotated, TypedDict, List\n",
    "from langchain_openai import ChatOpenAI\n",
    "from langchain_community.tools.tavily_search import TavilySearchResults\n",
    "from langgraph.graph import StateGraph, START, END\n",
    "from langgraph.graph.message import add_messages\n",
    "from langgraph.prebuilt import ToolNode, tools_condition\n",
    "from langgraph.checkpoint.memory import MemorySaver\n",
    "\n",
    "# 1. Modelo y herramienta local\n",
    "llm = ChatOpenAI(model=\"gpt-4o-mini\", temperature=0.7)\n",
    "tavily_tool = TavilySearchResults(max_results=2)\n",
    "tools = [tavily_tool]                       # <-- solo Tavily\n",
    "llm_with_tools = llm.bind_tools(tools)\n",
    "\n",
    "# 2. Estado\n",
    "class ChatState(TypedDict):\n",
    "    messages: Annotated[List, add_messages]\n",
    "\n",
    "# 3. Nodos\n",
    "def chatbot(state: ChatState):\n",
    "    resp = llm_with_tools.invoke(state[\"messages\"])\n",
    "    return {\"messages\": [resp]}\n",
    "\n",
    "tool_node = ToolNode(tools)\n",
    "\n",
    "# 4. Grafo mínimal (START → chatbot → tools → chatbot …)\n",
    "builder = StateGraph(ChatState)\n",
    "builder.add_node(\"chatbot\", chatbot)\n",
    "builder.add_node(\"tools\", tool_node)\n",
    "builder.add_edge(START, \"chatbot\")\n",
    "builder.add_conditional_edges(\"chatbot\", tools_condition)\n",
    "builder.add_edge(\"tools\", \"chatbot\")\n",
    "graph = builder.compile(checkpointer=MemorySaver())\n",
    "\n",
    "try:\n",
    "    display(Image(graph.get_graph().draw_mermaid_png()))\n",
    "except Exception:\n",
    "    # Si no tienes las dependencias de GraphViz, muestra ASCII\n",
    "    print(graph.get_graph().draw_ascii())\n",
    "\n",
    "# 5. Helper para probar\n",
    "def ask(query: str):\n",
    "    cfg = {\"configurable\": {\"thread_id\": \"demo1\"}}\n",
    "    events = graph.stream({\"messages\": [{\"role\": \"user\", \"content\": query}]},\n",
    "                          cfg, stream_mode=\"values\")\n",
    "    for ev in events:\n",
    "        if \"messages\" in ev:\n",
    "            print(\"🤖\", ev[\"messages\"][-1].content)"
   ]
  },
  {
   "cell_type": "code",
   "execution_count": 9,
   "metadata": {},
   "outputs": [
    {
     "name": "stdout",
     "output_type": "stream",
     "text": [
      "🤖 ¿Quién fundó RappiPay?\n",
      "🤖 \n",
      "🤖 [{\"title\": \"RappiPay: key figures 2022 - Statista\", \"url\": \"https://www.statista.com/statistics/1356680/key-figures-rappipay-colombia/\", \"content\": \"RappiPay is the fintech founded in 2019 by Colombian startup Rappi and Banco Davivienda. By 2022, the financial platform had more than 800,000\", \"score\": 0.85216236}, {\"title\": \"Rappi - Wikipedia\", \"url\": \"https://en.wikipedia.org/wiki/Rappi\", \"content\": \"History\\n\\nRappi was founded in 2015 by three Colombian entrepreneurs: Simón Borrero, Felipe Villamarin, and Sebastián Mejía.[4]\\n\\nRappi entered Y Combinator's Winter 2016 batch, generating additional investment.[5][6] In August 2018, the company raised another $200 million in funding.[7] SoftBank became a major stakeholder in Rappi in April 2019 with a $1 billion investment that valued Rappi at $3.5 billion.[8][9] [...] Company type | Private\\nIndustry | Online food orderingE-commerceFinancial technology\\nFounded | 2015; 10 years ago(2015)\\nFounders | Simón BorreroFelipe VillamarinSebastián Mejía\\nHeadquarters | Bogotá,Colombia\\nArea served | ColombiaArgentinaBrazilChileCosta RicaEcuadorMexicoPeruUruguay\\nProducts | Mobile app\\nServices | Food deliveryGrocery deliveryMobile paymentOnline shoppingOnline travel agency\\nRevenue | US$800 million(2023)[1] [...] Number of employees | 5,200 employees(2024)[2]350,000 couriers(2024)[3]\\nWebsite | rappi.com\\nRappi is a Latin American super-app headquartered in Bogotá, Colombia, with offices in São Paulo and Mexico City. It was founded in 2015 by Simón Borrero, Sebastian Mejía, and Felipe Villamarín.\", \"score\": 0.82425016}]\n",
      "🤖 RappiPay fue fundada en 2019 por la startup colombiana Rappi y el Banco Davivienda. Rappi, a su vez, fue fundada en 2015 por tres emprendedores colombianos: Simón Borrero, Felipe Villamarín y Sebastián Mejía.\n"
     ]
    }
   ],
   "source": [
    "ask(\"¿Quién fundó RappiPay?\")"
   ]
  },
  {
   "cell_type": "code",
   "execution_count": 10,
   "metadata": {},
   "outputs": [
    {
     "data": {
      "image/png": "[encoded data removed]",
      "text/plain": [
       "<IPython.core.display.Image object>"
      ]
     },
     "metadata": {},
     "output_type": "display_data"
    },
    {
     "name": "stdout",
     "output_type": "stream",
     "text": [
      "🔢 Math: {'messages': [HumanMessage(content=\"what's (3 + 5) x 12?\", additional_kwargs={}, response_metadata={}, id='76c1bc0f-4f72-4b3f-893b-25a79046dce1'), AIMessage(content='', additional_kwargs={'tool_calls': [{'id': 'call_5caWdTxr3uLzl5r1pH4edX7X', 'function': {'arguments': '{\"a\":3,\"b\":5}', 'name': 'add'}, 'type': 'function'}], 'refusal': None}, response_metadata={'token_usage': {'completion_tokens': 18, 'prompt_tokens': 135, 'total_tokens': 153, 'completion_tokens_details': {'accepted_prediction_tokens': 0, 'audio_tokens': 0, 'reasoning_tokens': 0, 'rejected_prediction_tokens': 0}, 'prompt_tokens_details': {'audio_tokens': 0, 'cached_tokens': 0}}, 'model_name': 'gpt-4o-2024-08-06', 'system_fingerprint': 'fp_f5bdcc3276', 'id': 'chatcmpl-BUvYG4cLtMZklgzWai4nRAlOBbU6L', 'service_tier': 'default', 'finish_reason': 'tool_calls', 'logprobs': None}, id='run--7aacb1be-2a8a-4f7f-91de-f0f4f80c2c30-0', tool_calls=[{'name': 'add', 'args': {'a': 3, 'b': 5}, 'id': 'call_5caWdTxr3uLzl5r1pH4edX7X', 'type': 'tool_call'}], usage_metadata={'input_tokens': 135, 'output_tokens': 18, 'total_tokens': 153, 'input_token_details': {'audio': 0, 'cache_read': 0}, 'output_token_details': {'audio': 0, 'reasoning': 0}}), ToolMessage(content='8', name='add', id='bcc54e7a-9c5b-4ead-af9c-f9715d086beb', tool_call_id='call_5caWdTxr3uLzl5r1pH4edX7X'), AIMessage(content='', additional_kwargs={'tool_calls': [{'id': 'call_gwj5Y2NWEihXjLAcjvvMCjR6', 'function': {'arguments': '{\"a\":8,\"b\":12}', 'name': 'multiply'}, 'type': 'function'}], 'refusal': None}, response_metadata={'token_usage': {'completion_tokens': 18, 'prompt_tokens': 160, 'total_tokens': 178, 'completion_tokens_details': {'accepted_prediction_tokens': 0, 'audio_tokens': 0, 'reasoning_tokens': 0, 'rejected_prediction_tokens': 0}, 'prompt_tokens_details': {'audio_tokens': 0, 'cached_tokens': 0}}, 'model_name': 'gpt-4o-2024-08-06', 'system_fingerprint': 'fp_f5bdcc3276', 'id': 'chatcmpl-BUvYHeaqLFkJ0vftnsspE04ex3O8y', 'service_tier': 'default', 'finish_reason': 'tool_calls', 'logprobs': None}, id='run--1069c8e6-42e5-441d-9eba-070547491ee5-0', tool_calls=[{'name': 'multiply', 'args': {'a': 8, 'b': 12}, 'id': 'call_gwj5Y2NWEihXjLAcjvvMCjR6', 'type': 'tool_call'}], usage_metadata={'input_tokens': 160, 'output_tokens': 18, 'total_tokens': 178, 'input_token_details': {'audio': 0, 'cache_read': 0}, 'output_token_details': {'audio': 0, 'reasoning': 0}}), ToolMessage(content='96', name='multiply', id='e4d4e380-d930-4341-8f13-bbe89e9d37c1', tool_call_id='call_gwj5Y2NWEihXjLAcjvvMCjR6'), AIMessage(content='The result of \\\\( (3 + 5) \\\\times 12 \\\\) is 96.', additional_kwargs={'refusal': None}, response_metadata={'token_usage': {'completion_tokens': 22, 'prompt_tokens': 185, 'total_tokens': 207, 'completion_tokens_details': {'accepted_prediction_tokens': 0, 'audio_tokens': 0, 'reasoning_tokens': 0, 'rejected_prediction_tokens': 0}, 'prompt_tokens_details': {'audio_tokens': 0, 'cached_tokens': 0}}, 'model_name': 'gpt-4o-2024-08-06', 'system_fingerprint': 'fp_f5bdcc3276', 'id': 'chatcmpl-BUvYI0VcJJ1NlYgykPoTT41fvQXve', 'service_tier': 'default', 'finish_reason': 'stop', 'logprobs': None}, id='run--d1fd52a3-c1e1-4e52-be5e-dd169856195b-0', usage_metadata={'input_tokens': 185, 'output_tokens': 22, 'total_tokens': 207, 'input_token_details': {'audio': 0, 'cache_read': 0}, 'output_token_details': {'audio': 0, 'reasoning': 0}})]}\n",
      "🌦️ Weather: {'messages': [HumanMessage(content='what is the weather in nyc?', additional_kwargs={}, response_metadata={}, id='dffd6405-2b26-4961-a37c-319b0d72e0d1'), AIMessage(content=\"I'm unable to provide real-time weather updates. You may want to check a reliable weather website or app for the current weather conditions in New York City.\", additional_kwargs={'refusal': None}, response_metadata={'token_usage': {'completion_tokens': 32, 'prompt_tokens': 131, 'total_tokens': 163, 'completion_tokens_details': {'accepted_prediction_tokens': 0, 'audio_tokens': 0, 'reasoning_tokens': 0, 'rejected_prediction_tokens': 0}, 'prompt_tokens_details': {'audio_tokens': 0, 'cached_tokens': 0}}, 'model_name': 'gpt-4o-2024-08-06', 'system_fingerprint': 'fp_f5bdcc3276', 'id': 'chatcmpl-BUvYJFyLUD7ChB5jrcgxFb1IBJGXs', 'service_tier': 'default', 'finish_reason': 'stop', 'logprobs': None}, id='run--a417a572-3257-41b0-9ec4-a9e2dd7ba898-0', usage_metadata={'input_tokens': 131, 'output_tokens': 32, 'total_tokens': 163, 'input_token_details': {'audio': 0, 'cache_read': 0}, 'output_token_details': {'audio': 0, 'reasoning': 0}})]}\n"
     ]
    }
   ],
   "source": [
    "from langchain_mcp_adapters.client import MultiServerMCPClient\n",
    "from langgraph.graph import StateGraph, MessagesState, START\n",
    "from langgraph.prebuilt import ToolNode, tools_condition\n",
    "from langchain_openai import ChatOpenAI\n",
    "from IPython.display import display\n",
    "\n",
    "model = ChatOpenAI(model=\"gpt-4o\")\n",
    "\n",
    "async def main():\n",
    "    async with MultiServerMCPClient(\n",
    "        {\n",
    "            \"math\": {\n",
    "                \"command\": \"python\",\n",
    "                \"args\": [\"./math_server.py\"],  # cambia la ruta si es necesario\n",
    "                \"transport\": \"stdio\",\n",
    "            },\n",
    "            \"weather\": {\n",
    "                \"url\": \"http://localhost:8000/sse\",\n",
    "                \"transport\": \"sse\",\n",
    "            }\n",
    "        }\n",
    "    ) as client:\n",
    "        tools = client.get_tools()\n",
    "\n",
    "        def call_model(state: MessagesState):\n",
    "            response = model.bind_tools(tools).invoke(state[\"messages\"])\n",
    "            return {\"messages\": response}\n",
    "\n",
    "        builder = StateGraph(MessagesState)\n",
    "        builder.add_node(\"call_model\", call_model)\n",
    "        builder.add_node(\"tools\", ToolNode(tools))\n",
    "\n",
    "        builder.add_edge(START, \"call_model\")\n",
    "        builder.add_conditional_edges(\"call_model\", tools_condition)\n",
    "        builder.add_edge(\"tools\", \"call_model\")\n",
    "\n",
    "        graph = builder.compile()\n",
    "\n",
    "        try:\n",
    "            display(Image(graph.get_graph().draw_mermaid_png()))\n",
    "        except Exception:\n",
    "            print(graph.get_graph().draw_ascii())\n",
    "\n",
    "\n",
    "\n",
    "        math_response = await graph.ainvoke({\"messages\": \"what's (3 + 5) x 12?\"})\n",
    "        print(\"🔢 Math:\", math_response)\n",
    "\n",
    "        weather_response = await graph.ainvoke({\"messages\": \"what is the weather in nyc?\"})\n",
    "        print(\"🌦️ Weather:\", weather_response)\n",
    "\n",
    "# Ejecutar en notebook\n",
    "await main()"
   ]
  },
  {
   "cell_type": "code",
   "execution_count": 24,
   "metadata": {},
   "outputs": [
    {
     "name": "stdout",
     "output_type": "stream",
     "text": [
      "[StructuredTool(name='add', description='Add two numbers', args_schema={'properties': {'a': {'title': 'A', 'type': 'integer'}, 'b': {'title': 'B', 'type': 'integer'}}, 'required': ['a', 'b'], 'title': 'addArguments', 'type': 'object'}, response_format='content_and_artifact', coroutine=<function convert_mcp_tool_to_langchain_tool.<locals>.call_tool at 0x10ddb6320>), StructuredTool(name='multiply', description='Multiply two numbers', args_schema={'properties': {'a': {'title': 'A', 'type': 'integer'}, 'b': {'title': 'B', 'type': 'integer'}}, 'required': ['a', 'b'], 'title': 'multiplyArguments', 'type': 'object'}, response_format='content_and_artifact', coroutine=<function convert_mcp_tool_to_langchain_tool.<locals>.call_tool at 0x10ddb63b0>), StructuredTool(name='buscar_contratos_por_ruc', args_schema={'properties': {'ruc': {'title': 'Ruc', 'type': 'string'}}, 'required': ['ruc'], 'title': 'buscar_contratos_por_rucArguments', 'type': 'object'}, response_format='content_and_artifact', coroutine=<function convert_mcp_tool_to_langchain_tool.<locals>.call_tool at 0x10dda03a0>), StructuredTool(name='obtener_asistencias_congresista', args_schema={'properties': {'nombre': {'title': 'Nombre', 'type': 'string'}}, 'required': ['nombre'], 'title': 'obtener_asistencias_congresistaArguments', 'type': 'object'}, response_format='content_and_artifact', coroutine=<function convert_mcp_tool_to_langchain_tool.<locals>.call_tool at 0x10dda04c0>), StructuredTool(name='buscar_votaciones_por_tema', args_schema={'properties': {'tema': {'title': 'Tema', 'type': 'string'}}, 'required': ['tema'], 'title': 'buscar_votaciones_por_temaArguments', 'type': 'object'}, response_format='content_and_artifact', coroutine=<function convert_mcp_tool_to_langchain_tool.<locals>.call_tool at 0x10dda05e0>), TavilySearchResults(max_results=2, api_wrapper=TavilySearchAPIWrapper(tavily_api_key=SecretStr('**********')))]\n"
     ]
    }
   ],
   "source": [
    "from langchain_mcp_adapters.client import MultiServerMCPClient\n",
    "from langgraph.graph import StateGraph, MessagesState, START\n",
    "from langgraph.prebuilt import ToolNode, tools_condition\n",
    "from langchain_openai import ChatOpenAI\n",
    "from IPython.display import display\n",
    "from langgraph.graph import END\n",
    "\n",
    "model = ChatOpenAI(model=\"gpt-4o\")\n",
    "\n",
    "async def main():\n",
    "    async with MultiServerMCPClient(\n",
    "        {\n",
    "            \"math\": {\n",
    "                \"command\": \"python\",\n",
    "                \"args\": [\"./math_server.py\"],\n",
    "                \"transport\": \"stdio\",\n",
    "            },\n",
    "            \"weather\": {\n",
    "                \"url\": \"http://localhost:8000/sse\",\n",
    "                \"transport\": \"sse\",\n",
    "            }\n",
    "        }\n",
    "    ) as client:\n",
    "        tavily_tool = TavilySearchResults(max_results=2)\n",
    "        tools = client.get_tools() + [tavily_tool]\n",
    "        print(tools)    \n",
    "\n",
    "        def call_model(state: MessagesState):\n",
    "            response = model.bind_tools(tools).invoke(state[\"messages\"])\n",
    "            return {\"messages\": response}\n",
    "\n",
    "        builder = StateGraph(MessagesState)\n",
    "        builder.add_node(\"call_model\", call_model)\n",
    "        builder.add_node(\"tools\", ToolNode(tools))\n",
    "\n",
    "        builder.add_edge(START, \"call_model\")\n",
    "        builder.add_conditional_edges(\"call_model\", tools_condition)\n",
    "        builder.add_edge(\"tools\", \"call_model\")\n",
    "\n",
    "        graph = builder.compile()\n",
    "\n",
    "\n",
    "        return graph  # 👈 retornar grafo compilado\n",
    "\n",
    "# Ejecuta esto en una celda\n",
    "graph = await main()"
   ]
  },
  {
   "cell_type": "code",
   "execution_count": 25,
   "metadata": {},
   "outputs": [
    {
     "name": "stdout",
     "output_type": "stream",
     "text": [
      "================================\u001b[1m Human Message \u001b[0m=================================\n",
      "\n",
      "what's 10 x 2 + 5?\n",
      "None\n",
      "==================================\u001b[1m Ai Message \u001b[0m==================================\n",
      "Tool Calls:\n",
      "  multiply (call_7y39RC7P9rKsqxtpzQdNuzZQ)\n",
      " Call ID: call_7y39RC7P9rKsqxtpzQdNuzZQ\n",
      "  Args:\n",
      "    a: 10\n",
      "    b: 2\n",
      "  add (call_y8CFqLydTIG8Vi85MJrGYnM5)\n",
      " Call ID: call_y8CFqLydTIG8Vi85MJrGYnM5\n",
      "  Args:\n",
      "    a: 20\n",
      "    b: 5\n",
      "None\n",
      "=================================\u001b[1m Tool Message \u001b[0m=================================\n",
      "Name: multiply\n",
      "\n",
      "Error: ClosedResourceError()\n",
      " Please fix your mistakes.\n",
      "None\n",
      "=================================\u001b[1m Tool Message \u001b[0m=================================\n",
      "Name: add\n",
      "\n",
      "Error: ClosedResourceError()\n",
      " Please fix your mistakes.\n",
      "None\n",
      "==================================\u001b[1m Ai Message \u001b[0m==================================\n",
      "\n",
      "There was an error performing the calculations. Let me try calculating it directly.\n",
      "\n",
      "To solve \\(10 \\times 2 + 5\\), you do the multiplication first:\n",
      "\n",
      "1. Multiply 10 by 2 to get 20.\n",
      "2. Add 5 to the result from the multiplication: \\(20 + 5 = 25\\).\n",
      "\n",
      "So, \\(10 \\times 2 + 5 = 25\\).\n",
      "None\n"
     ]
    }
   ],
   "source": [
    "agent_response = await graph.ainvoke({\"messages\": \"what's 10 x 2 + 5?\"})\n",
    "for msg in agent_response[\"messages\"]:\n",
    "    print(msg.pretty_print())"
   ]
  },
  {
   "cell_type": "code",
   "execution_count": 26,
   "metadata": {},
   "outputs": [
    {
     "data": {
      "text/plain": [
       "{'messages': [HumanMessage(content=\"what's the weather in Cusco?\", additional_kwargs={}, response_metadata={}, id='33bb99f0-985b-4a58-ac7b-97e371f58194'),\n",
       "  AIMessage(content='', additional_kwargs={'tool_calls': [{'id': 'call_IngFFKiAZwsdJPi8BKeBX33A', 'function': {'arguments': '{\"query\":\"current weather in Cusco\"}', 'name': 'tavily_search_results_json'}, 'type': 'function'}], 'refusal': None}, response_metadata={'token_usage': {'completion_tokens': 23, 'prompt_tokens': 187, 'total_tokens': 210, 'completion_tokens_details': {'accepted_prediction_tokens': 0, 'audio_tokens': 0, 'reasoning_tokens': 0, 'rejected_prediction_tokens': 0}, 'prompt_tokens_details': {'audio_tokens': 0, 'cached_tokens': 0}}, 'model_name': 'gpt-4o-2024-08-06', 'system_fingerprint': 'fp_d8864f8b6b', 'id': 'chatcmpl-BUvfGuJSOJz5Ej4hQbRtGKSmrfDed', 'service_tier': 'default', 'finish_reason': 'tool_calls', 'logprobs': None}, id='run--9be6bd50-c31d-4277-a294-9196515ae911-0', tool_calls=[{'name': 'tavily_search_results_json', 'args': {'query': 'current weather in Cusco'}, 'id': 'call_IngFFKiAZwsdJPi8BKeBX33A', 'type': 'tool_call'}], usage_metadata={'input_tokens': 187, 'output_tokens': 23, 'total_tokens': 210, 'input_token_details': {'audio': 0, 'cache_read': 0}, 'output_token_details': {'audio': 0, 'reasoning': 0}}),\n",
       "  ToolMessage(content='[{\"title\": \"10-Day Weather Forecast for Cuzco, Cusco, Peru\", \"url\": \"https://weather.com/weather/tenday/l/Cuzco+Cusco+Peru?canonicalCityId=efb96dcf96a1b21b47df836e092de336ea0219ef831a6659041c3fa2a12764df\", \"content\": \"recents\\\\n\\\\nWeather Forecasts\\\\n\\\\nRadar & Maps\\\\n\\\\nNews & Media\\\\n\\\\nProducts\\\\n\\\\nHealth & Wellness\\\\n\\\\nAccount\\\\n\\\\nLifestyle\\\\n\\\\nPrivacy\\\\n\\\\nSpecialty Forecasts\\\\n\\\\n10 Day Weather-Cuzco, Cusco, Peru\\\\n\\\\nToday\\\\n\\\\nThu 08 | Day\\\\n\\\\nOvercast. High 64F. Winds NW at 5 to 10 mph.\\\\n\\\\nHeads-up\\\\n\\\\nWind Damage, Large Hail Possible Across The South\\\\n\\\\nThu 08 | Night\\\\n\\\\nSome clouds. Low 41F. Winds light and variable.\\\\n\\\\nFri 09\\\\n\\\\nFri 09 | Day [...] Partly cloudy skies in the morning will give way to cloudy skies during the afternoon. High near 65F. Winds ENE at 5 to 10 mph.\\\\n\\\\nFri 09 | Night\\\\n\\\\nPartly cloudy during the evening followed by cloudy skies overnight. Low 41F. Winds light and variable.\\\\n\\\\nSat 10\\\\n\\\\nSat 10 | Day\\\\n\\\\nSunshine and clouds mixed. High 63F. Winds NNE at 5 to 10 mph.\\\\n\\\\nSat 10 | Night\\\\n\\\\nA few clouds from time to time. Low 39F. Winds NE at 5 to 10 mph.\\\\n\\\\nSun 11\\\\n\\\\nSun 11 | Day [...] Sunshine and clouds mixed. High 63F. Winds NE at 5 to 10 mph.\\\\n\\\\nSun 11 | Night\\\\n\\\\nA few clouds from time to time. Low near 40F. Winds light and variable.\\\\n\\\\nMon 12\\\\n\\\\nMon 12 | Day\\\\n\\\\nPartly cloudy skies. High 64F. Winds NE at 5 to 10 mph.\\\\n\\\\nMon 12 | Night\\\\n\\\\nPartly cloudy. Low near 40F. Winds light and variable.\\\\n\\\\nTue 13\\\\n\\\\nTue 13 | Day\\\\n\\\\nIntervals of clouds and sunshine. High 66F. Winds NNE at 5 to 10 mph.\\\\n\\\\nTue 13 | Night\\\\n\\\\nA few clouds. Low 39F. Winds light and variable.\\\\n\\\\nWed 14\\\\n\\\\nWed 14 | Day\", \"score\": 0.79769903}, {\"title\": \"Weather in Cusco\", \"url\": \"https://www.weatherapi.com/\", \"content\": \"{\\'location\\': {\\'name\\': \\'Cusco\\', \\'region\\': \\'Cusco\\', \\'country\\': \\'Peru\\', \\'lat\\': -13.5183, \\'lon\\': -71.9781, \\'tz_id\\': \\'America/Lima\\', \\'localtime_epoch\\': 1746710997, \\'localtime\\': \\'2025-05-08 08:29\\'}, \\'current\\': {\\'last_updated_epoch\\': 1746710100, \\'last_updated\\': \\'2025-05-08 08:15\\', \\'temp_c\\': 11.3, \\'temp_f\\': 52.3, \\'is_day\\': 1, \\'condition\\': {\\'text\\': \\'Partly cloudy\\', \\'icon\\': \\'//cdn.weatherapi.com/weather/64x64/day/116.png\\', \\'code\\': 1003}, \\'wind_mph\\': 2.2, \\'wind_kph\\': 3.6, \\'wind_degree\\': 275, \\'wind_dir\\': \\'W\\', \\'pressure_mb\\': 1036.0, \\'pressure_in\\': 30.59, \\'precip_mm\\': 0.0, \\'precip_in\\': 0.0, \\'humidity\\': 71, \\'cloud\\': 75, \\'feelslike_c\\': 11.7, \\'feelslike_f\\': 53.0, \\'windchill_c\\': 9.2, \\'windchill_f\\': 48.5, \\'heatindex_c\\': 9.1, \\'heatindex_f\\': 48.3, \\'dewpoint_c\\': 5.6, \\'dewpoint_f\\': 42.0, \\'vis_km\\': 10.0, \\'vis_miles\\': 6.0, \\'uv\\': 2.3, \\'gust_mph\\': 2.6, \\'gust_kph\\': 4.1}}\", \"score\": 0.7937905}]', name='tavily_search_results_json', id='61ff3ca6-39c1-44fd-a2e2-a1e27b11856f', tool_call_id='call_IngFFKiAZwsdJPi8BKeBX33A', artifact={'query': 'current weather in Cusco', 'follow_up_questions': None, 'answer': None, 'images': [], 'results': [{'url': 'https://weather.com/weather/tenday/l/Cuzco+Cusco+Peru?canonicalCityId=efb96dcf96a1b21b47df836e092de336ea0219ef831a6659041c3fa2a12764df', 'title': '10-Day Weather Forecast for Cuzco, Cusco, Peru', 'content': 'recents\\n\\nWeather Forecasts\\n\\nRadar & Maps\\n\\nNews & Media\\n\\nProducts\\n\\nHealth & Wellness\\n\\nAccount\\n\\nLifestyle\\n\\nPrivacy\\n\\nSpecialty Forecasts\\n\\n10 Day Weather-Cuzco, Cusco, Peru\\n\\nToday\\n\\nThu 08 | Day\\n\\nOvercast. High 64F. Winds NW at 5 to 10 mph.\\n\\nHeads-up\\n\\nWind Damage, Large Hail Possible Across The South\\n\\nThu 08 | Night\\n\\nSome clouds. Low 41F. Winds light and variable.\\n\\nFri 09\\n\\nFri 09 | Day [...] Partly cloudy skies in the morning will give way to cloudy skies during the afternoon. High near 65F. Winds ENE at 5 to 10 mph.\\n\\nFri 09 | Night\\n\\nPartly cloudy during the evening followed by cloudy skies overnight. Low 41F. Winds light and variable.\\n\\nSat 10\\n\\nSat 10 | Day\\n\\nSunshine and clouds mixed. High 63F. Winds NNE at 5 to 10 mph.\\n\\nSat 10 | Night\\n\\nA few clouds from time to time. Low 39F. Winds NE at 5 to 10 mph.\\n\\nSun 11\\n\\nSun 11 | Day [...] Sunshine and clouds mixed. High 63F. Winds NE at 5 to 10 mph.\\n\\nSun 11 | Night\\n\\nA few clouds from time to time. Low near 40F. Winds light and variable.\\n\\nMon 12\\n\\nMon 12 | Day\\n\\nPartly cloudy skies. High 64F. Winds NE at 5 to 10 mph.\\n\\nMon 12 | Night\\n\\nPartly cloudy. Low near 40F. Winds light and variable.\\n\\nTue 13\\n\\nTue 13 | Day\\n\\nIntervals of clouds and sunshine. High 66F. Winds NNE at 5 to 10 mph.\\n\\nTue 13 | Night\\n\\nA few clouds. Low 39F. Winds light and variable.\\n\\nWed 14\\n\\nWed 14 | Day', 'score': 0.79769903, 'raw_content': None}, {'title': 'Weather in Cusco', 'url': 'https://www.weatherapi.com/', 'content': \"{'location': {'name': 'Cusco', 'region': 'Cusco', 'country': 'Peru', 'lat': -13.5183, 'lon': -71.9781, 'tz_id': 'America/Lima', 'localtime_epoch': 1746710997, 'localtime': '2025-05-08 08:29'}, 'current': {'last_updated_epoch': 1746710100, 'last_updated': '2025-05-08 08:15', 'temp_c': 11.3, 'temp_f': 52.3, 'is_day': 1, 'condition': {'text': 'Partly cloudy', 'icon': '//cdn.weatherapi.com/weather/64x64/day/116.png', 'code': 1003}, 'wind_mph': 2.2, 'wind_kph': 3.6, 'wind_degree': 275, 'wind_dir': 'W', 'pressure_mb': 1036.0, 'pressure_in': 30.59, 'precip_mm': 0.0, 'precip_in': 0.0, 'humidity': 71, 'cloud': 75, 'feelslike_c': 11.7, 'feelslike_f': 53.0, 'windchill_c': 9.2, 'windchill_f': 48.5, 'heatindex_c': 9.1, 'heatindex_f': 48.3, 'dewpoint_c': 5.6, 'dewpoint_f': 42.0, 'vis_km': 10.0, 'vis_miles': 6.0, 'uv': 2.3, 'gust_mph': 2.6, 'gust_kph': 4.1}}\", 'score': 0.7937905, 'raw_content': None}], 'response_time': 4.79}),\n",
       "  AIMessage(content='The current weather in Cusco is partly cloudy with a temperature of 11.3°C (52.3°F). The wind is blowing from the west at 3.6 km/h (2.2 mph), and there is no precipitation. Humidity is at 71%, and the UV index is 2.3. You can find more details [here](https://www.weatherapi.com/).', additional_kwargs={'refusal': None}, response_metadata={'token_usage': {'completion_tokens': 85, 'prompt_tokens': 1196, 'total_tokens': 1281, 'completion_tokens_details': {'accepted_prediction_tokens': 0, 'audio_tokens': 0, 'reasoning_tokens': 0, 'rejected_prediction_tokens': 0}, 'prompt_tokens_details': {'audio_tokens': 0, 'cached_tokens': 0}}, 'model_name': 'gpt-4o-2024-08-06', 'system_fingerprint': 'fp_d8864f8b6b', 'id': 'chatcmpl-BUvfN9gX9JC4BIIDjjZeMkaI8wrCq', 'service_tier': 'default', 'finish_reason': 'stop', 'logprobs': None}, id='run--394247dd-949c-4acc-8758-cdba32f34bb1-0', usage_metadata={'input_tokens': 1196, 'output_tokens': 85, 'total_tokens': 1281, 'input_token_details': {'audio': 0, 'cache_read': 0}, 'output_token_details': {'audio': 0, 'reasoning': 0}})]}"
      ]
     },
     "execution_count": 26,
     "metadata": {},
     "output_type": "execute_result"
    }
   ],
   "source": [
    "await graph.ainvoke({\"messages\": \"what's the weather in Cusco?\"})"
   ]
  },
  {
   "cell_type": "code",
   "execution_count": null,
   "metadata": {},
   "outputs": [],
   "source": []
  }
 ],
 "metadata": {
  "kernelspec": {
   "display_name": "venv_demosmcp",
   "language": "python",
   "name": "python3"
  },
  "language_info": {
   "codemirror_mode": {
    "name": "ipython",
    "version": 3
   },
   "file_extension": ".py",
   "mimetype": "text/x-python",
   "name": "python",
   "nbconvert_exporter": "python",
   "pygments_lexer": "ipython3",
   "version": "3.10.17"
  }
 },
 "nbformat": 4,
 "nbformat_minor": 2
}
