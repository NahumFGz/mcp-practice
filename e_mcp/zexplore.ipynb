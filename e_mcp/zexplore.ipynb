{
 "cells": [
  {
   "cell_type": "code",
   "execution_count": 1,
   "metadata": {},
   "outputs": [
    {
     "data": {
      "text/plain": [
       "True"
      ]
     },
     "execution_count": 1,
     "metadata": {},
     "output_type": "execute_result"
    }
   ],
   "source": [
    "# import dontenv, cargar las variables de entorno y mostrar OPENAI_API_KEY Y TAVILY_API_KEY\n",
    "import dotenv\n",
    "\n",
    "dotenv.load_dotenv()"
   ]
  },
  {
   "cell_type": "code",
   "execution_count": 5,
   "metadata": {},
   "outputs": [
    {
     "name": "stdout",
     "output_type": "stream",
     "text": [
      "[StructuredTool(name='add', description='Add two numbers', args_schema={'properties': {'a': {'title': 'A', 'type': 'integer'}, 'b': {'title': 'B', 'type': 'integer'}}, 'required': ['a', 'b'], 'title': 'addArguments', 'type': 'object'}, response_format='content_and_artifact', coroutine=<function convert_mcp_tool_to_langchain_tool.<locals>.call_tool at 0x110b5b640>), StructuredTool(name='multiply', description='Multiply two numbers', args_schema={'properties': {'a': {'title': 'A', 'type': 'integer'}, 'b': {'title': 'B', 'type': 'integer'}}, 'required': ['a', 'b'], 'title': 'multiplyArguments', 'type': 'object'}, response_format='content_and_artifact', coroutine=<function convert_mcp_tool_to_langchain_tool.<locals>.call_tool at 0x110b5b6d0>), StructuredTool(name='buscar_contratos_por_ruc', args_schema={'properties': {'ruc': {'title': 'Ruc', 'type': 'string'}}, 'required': ['ruc'], 'title': 'buscar_contratos_por_rucArguments', 'type': 'object'}, response_format='content_and_artifact', coroutine=<function convert_mcp_tool_to_langchain_tool.<locals>.call_tool at 0x110b5bbe0>), StructuredTool(name='obtener_asistencias_congresista', args_schema={'properties': {'nombre': {'title': 'Nombre', 'type': 'string'}}, 'required': ['nombre'], 'title': 'obtener_asistencias_congresistaArguments', 'type': 'object'}, response_format='content_and_artifact', coroutine=<function convert_mcp_tool_to_langchain_tool.<locals>.call_tool at 0x110b5bb50>), StructuredTool(name='buscar_votaciones_por_tema', args_schema={'properties': {'tema': {'title': 'Tema', 'type': 'string'}}, 'required': ['tema'], 'title': 'buscar_votaciones_por_temaArguments', 'type': 'object'}, response_format='content_and_artifact', coroutine=<function convert_mcp_tool_to_langchain_tool.<locals>.call_tool at 0x110b5bc70>), TavilySearchResults(max_results=2, api_wrapper=TavilySearchAPIWrapper(tavily_api_key=SecretStr('**********')))]\n"
     ]
    },
    {
     "data": {
      "image/png": "[encoded data removed]",
      "text/plain": [
       "<IPython.core.display.Image object>"
      ]
     },
     "metadata": {},
     "output_type": "display_data"
    }
   ],
   "source": [
    "from langchain_mcp_adapters.client import MultiServerMCPClient\n",
    "from langgraph.graph import StateGraph, MessagesState, START\n",
    "from langgraph.prebuilt import ToolNode, tools_condition\n",
    "from langchain_openai import ChatOpenAI\n",
    "from IPython.display import Image, display\n",
    "from langgraph.graph import END\n",
    "from langchain_community.tools.tavily_search import TavilySearchResults\n",
    "\n",
    "model = ChatOpenAI(model=\"gpt-4o\")\n",
    "\n",
    "async def main():\n",
    "    async with MultiServerMCPClient(\n",
    "        {\n",
    "            \"math\": {\n",
    "                \"command\": \"python\",\n",
    "                \"args\": [\"./math_server.py\"],\n",
    "                \"transport\": \"stdio\",\n",
    "            },\n",
    "            \"weather\": {\n",
    "                \"url\": \"http://localhost:8000/sse\",\n",
    "                \"transport\": \"sse\",\n",
    "            }\n",
    "        }\n",
    "    ) as client:\n",
    "        tavily_tool = TavilySearchResults(max_results=2)\n",
    "        tools = client.get_tools() + [tavily_tool]\n",
    "        print(tools)    \n",
    "\n",
    "        def call_model(state: MessagesState):\n",
    "            response = model.bind_tools(tools).invoke(state[\"messages\"])\n",
    "            return {\"messages\": response}\n",
    "\n",
    "        builder = StateGraph(MessagesState)\n",
    "        builder.add_node(\"call_model\", call_model)\n",
    "        builder.add_node(\"tools\", ToolNode(tools))\n",
    "\n",
    "        builder.add_edge(START, \"call_model\")\n",
    "        builder.add_conditional_edges(\"call_model\", tools_condition)\n",
    "        builder.add_edge(\"tools\", \"call_model\")\n",
    "        builder.add_edge(\"call_model\", END)\n",
    "\n",
    "        graph = builder.compile()\n",
    "\n",
    "        \n",
    "\n",
    "        display(Image(graph.get_graph().draw_mermaid_png()))\n",
    "\n",
    "\n",
    "        return graph  # 👈 retornar grafo compilado\n",
    "\n",
    "# Ejecuta esto en una celda\n",
    "graph = await main()"
   ]
  },
  {
   "cell_type": "code",
   "execution_count": 6,
   "metadata": {},
   "outputs": [
    {
     "name": "stdout",
     "output_type": "stream",
     "text": [
      "================================\u001b[1m Human Message \u001b[0m=================================\n",
      "\n",
      "what's 10 x 2 + 5?\n",
      "None\n",
      "==================================\u001b[1m Ai Message \u001b[0m==================================\n",
      "Tool Calls:\n",
      "  multiply (call_KQFALR1Zsj24A9TD3wi99zut)\n",
      " Call ID: call_KQFALR1Zsj24A9TD3wi99zut\n",
      "  Args:\n",
      "    a: 10\n",
      "    b: 2\n",
      "  add (call_haBA1oI7qOnCyEj3tEZwf5Hs)\n",
      " Call ID: call_haBA1oI7qOnCyEj3tEZwf5Hs\n",
      "  Args:\n",
      "    a: 20\n",
      "    b: 5\n",
      "None\n",
      "=================================\u001b[1m Tool Message \u001b[0m=================================\n",
      "Name: multiply\n",
      "\n",
      "Error: ClosedResourceError()\n",
      " Please fix your mistakes.\n",
      "None\n",
      "=================================\u001b[1m Tool Message \u001b[0m=================================\n",
      "Name: add\n",
      "\n",
      "Error: ClosedResourceError()\n",
      " Please fix your mistakes.\n",
      "None\n",
      "==================================\u001b[1m Ai Message \u001b[0m==================================\n",
      "\n",
      "It seems there's an issue with processing both the multiplication and addition in parallel. Let me calculate it for you directly:\n",
      "\n",
      "1. Multiply 10 by 2:\n",
      "   - \\( 10 \\times 2 = 20 \\)\n",
      "\n",
      "2. Add 5 to the result:\n",
      "   - \\( 20 + 5 = 25 \\)\n",
      "\n",
      "So, the answer to \\( 10 \\times 2 + 5 \\) is 25.\n",
      "None\n"
     ]
    }
   ],
   "source": [
    "agent_response = await graph.ainvoke({\"messages\": \"what's 10 x 2 + 5?\"})\n",
    "for msg in agent_response[\"messages\"]:\n",
    "    print(msg.pretty_print())"
   ]
  },
  {
   "cell_type": "code",
   "execution_count": 4,
   "metadata": {},
   "outputs": [
    {
     "data": {
      "text/plain": [
       "{'messages': [HumanMessage(content=\"what's the weather in Cusco?\", additional_kwargs={}, response_metadata={}, id='4246be50-a19f-4865-8a8f-473b7ced1ebc'),\n",
       "  AIMessage(content='', additional_kwargs={'tool_calls': [{'id': 'call_uzZKaTdbQeciJzxKKnyBfV8l', 'function': {'arguments': '{\"query\":\"Cusco weather\"}', 'name': 'tavily_search_results_json'}, 'type': 'function'}], 'refusal': None}, response_metadata={'token_usage': {'completion_tokens': 21, 'prompt_tokens': 187, 'total_tokens': 208, 'completion_tokens_details': {'accepted_prediction_tokens': 0, 'audio_tokens': 0, 'reasoning_tokens': 0, 'rejected_prediction_tokens': 0}, 'prompt_tokens_details': {'audio_tokens': 0, 'cached_tokens': 0}}, 'model_name': 'gpt-4o-2024-08-06', 'system_fingerprint': 'fp_f5bdcc3276', 'id': 'chatcmpl-BUwsbfdAq3uuFI75C9Ow4wlXde03H', 'service_tier': 'default', 'finish_reason': 'tool_calls', 'logprobs': None}, id='run--dd3d1fe1-9869-42ef-95b6-ad8fa4925dbf-0', tool_calls=[{'name': 'tavily_search_results_json', 'args': {'query': 'Cusco weather'}, 'id': 'call_uzZKaTdbQeciJzxKKnyBfV8l', 'type': 'tool_call'}], usage_metadata={'input_tokens': 187, 'output_tokens': 21, 'total_tokens': 208, 'input_token_details': {'audio': 0, 'cache_read': 0}, 'output_token_details': {'audio': 0, 'reasoning': 0}}),\n",
       "  ToolMessage(content='[{\"title\": \"Weather in Cusco, Peru\", \"url\": \"https://www.weatherapi.com/\", \"content\": \"{\\'location\\': {\\'name\\': \\'Cusco\\', \\'region\\': \\'Cusco\\', \\'country\\': \\'Peru\\', \\'lat\\': -13.5183, \\'lon\\': -71.9781, \\'tz_id\\': \\'America/Lima\\', \\'localtime_epoch\\': 1746715666, \\'localtime\\': \\'2025-05-08 09:47\\'}, \\'current\\': {\\'last_updated_epoch\\': 1746715500, \\'last_updated\\': \\'2025-05-08 09:45\\', \\'temp_c\\': 14.0, \\'temp_f\\': 57.2, \\'is_day\\': 1, \\'condition\\': {\\'text\\': \\'Partly cloudy\\', \\'icon\\': \\'//cdn.weatherapi.com/weather/64x64/day/116.png\\', \\'code\\': 1003}, \\'wind_mph\\': 2.9, \\'wind_kph\\': 4.7, \\'wind_degree\\': 251, \\'wind_dir\\': \\'WSW\\', \\'pressure_mb\\': 1036.0, \\'pressure_in\\': 30.59, \\'precip_mm\\': 0.0, \\'precip_in\\': 0.0, \\'humidity\\': 63, \\'cloud\\': 75, \\'feelslike_c\\': 14.4, \\'feelslike_f\\': 57.9, \\'windchill_c\\': 11.0, \\'windchill_f\\': 51.7, \\'heatindex_c\\': 11.0, \\'heatindex_f\\': 51.8, \\'dewpoint_c\\': 5.8, \\'dewpoint_f\\': 42.5, \\'vis_km\\': 10.0, \\'vis_miles\\': 6.0, \\'uv\\': 5.3, \\'gust_mph\\': 3.4, \\'gust_kph\\': 5.4}}\", \"score\": 0.9985561}, {\"title\": \"Weather Cusco in May 2025 - Climate-Data.org\", \"url\": \"https://en.climate-data.org/south-america/peru/cusco-1060/r/may-5/\", \"content\": \"Are you planning a holiday with hopefully nice weather in Cusco in May 2025? ... 0.8 mm | 0.0 inch. 8. May, 8 °C | 46 °F, 14 °C | 57 °F, 2 °C | 36 °F, 1.0 mm\", \"score\": 0.93885136}]', name='tavily_search_results_json', id='29f8cda3-ce08-4717-a527-0a2a7373ec63', tool_call_id='call_uzZKaTdbQeciJzxKKnyBfV8l', artifact={'query': 'Cusco weather', 'follow_up_questions': None, 'answer': None, 'images': [], 'results': [{'title': 'Weather in Cusco, Peru', 'url': 'https://www.weatherapi.com/', 'content': \"{'location': {'name': 'Cusco', 'region': 'Cusco', 'country': 'Peru', 'lat': -13.5183, 'lon': -71.9781, 'tz_id': 'America/Lima', 'localtime_epoch': 1746715666, 'localtime': '2025-05-08 09:47'}, 'current': {'last_updated_epoch': 1746715500, 'last_updated': '2025-05-08 09:45', 'temp_c': 14.0, 'temp_f': 57.2, 'is_day': 1, 'condition': {'text': 'Partly cloudy', 'icon': '//cdn.weatherapi.com/weather/64x64/day/116.png', 'code': 1003}, 'wind_mph': 2.9, 'wind_kph': 4.7, 'wind_degree': 251, 'wind_dir': 'WSW', 'pressure_mb': 1036.0, 'pressure_in': 30.59, 'precip_mm': 0.0, 'precip_in': 0.0, 'humidity': 63, 'cloud': 75, 'feelslike_c': 14.4, 'feelslike_f': 57.9, 'windchill_c': 11.0, 'windchill_f': 51.7, 'heatindex_c': 11.0, 'heatindex_f': 51.8, 'dewpoint_c': 5.8, 'dewpoint_f': 42.5, 'vis_km': 10.0, 'vis_miles': 6.0, 'uv': 5.3, 'gust_mph': 3.4, 'gust_kph': 5.4}}\", 'score': 0.9985561, 'raw_content': None}, {'url': 'https://en.climate-data.org/south-america/peru/cusco-1060/r/may-5/', 'title': 'Weather Cusco in May 2025 - Climate-Data.org', 'content': 'Are you planning a holiday with hopefully nice weather in Cusco in May 2025? ... 0.8 mm | 0.0 inch. 8. May, 8 °C | 46 °F, 14 °C | 57 °F, 2 °C | 36 °F, 1.0 mm', 'score': 0.93885136, 'raw_content': None}], 'response_time': 4.15}),\n",
       "  AIMessage(content='Currently, in Cusco, Peru, the weather is partly cloudy with a temperature of 14°C (57.2°F). The wind is blowing from the west-southwest at 4.7 km/h (2.9 mph), and the humidity is at 63%. There is no precipitation at the moment, and the visibility is 10 km (6 miles). The UV index is at 5.3. ', additional_kwargs={'refusal': None}, response_metadata={'token_usage': {'completion_tokens': 89, 'prompt_tokens': 777, 'total_tokens': 866, 'completion_tokens_details': {'accepted_prediction_tokens': 0, 'audio_tokens': 0, 'reasoning_tokens': 0, 'rejected_prediction_tokens': 0}, 'prompt_tokens_details': {'audio_tokens': 0, 'cached_tokens': 0}}, 'model_name': 'gpt-4o-2024-08-06', 'system_fingerprint': 'fp_f5bdcc3276', 'id': 'chatcmpl-BUwshwm5jYZPvXedKrEtRz1faoPFT', 'service_tier': 'default', 'finish_reason': 'stop', 'logprobs': None}, id='run--0ecf85fc-a120-4227-866c-9fc18454708a-0', usage_metadata={'input_tokens': 777, 'output_tokens': 89, 'total_tokens': 866, 'input_token_details': {'audio': 0, 'cache_read': 0}, 'output_token_details': {'audio': 0, 'reasoning': 0}})]}"
      ]
     },
     "execution_count": 4,
     "metadata": {},
     "output_type": "execute_result"
    }
   ],
   "source": [
    "await graph.ainvoke({\"messages\": \"what's the weather in Cusco?\"})"
   ]
  },
  {
   "cell_type": "code",
   "execution_count": null,
   "metadata": {},
   "outputs": [],
   "source": []
  }
 ],
 "metadata": {
  "kernelspec": {
   "display_name": "venv_demcp",
   "language": "python",
   "name": "python3"
  },
  "language_info": {
   "codemirror_mode": {
    "name": "ipython",
    "version": 3
   },
   "file_extension": ".py",
   "mimetype": "text/x-python",
   "name": "python",
   "nbconvert_exporter": "python",
   "pygments_lexer": "ipython3",
   "version": "3.10.17"
  }
 },
 "nbformat": 4,
 "nbformat_minor": 2
}
