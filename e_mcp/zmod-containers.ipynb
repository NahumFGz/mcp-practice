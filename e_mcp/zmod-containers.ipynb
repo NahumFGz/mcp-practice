{
 "cells": [
  {
   "cell_type": "code",
   "execution_count": 1,
   "metadata": {},
   "outputs": [],
   "source": [
    "# %% [markdown]\n",
    "# tools/tavily_tool.py\n",
    "\n",
    "# %%\n",
    "from langchain_community.tools.tavily_search import TavilySearchResults\n",
    "\n",
    "def get_tavily_tool():\n",
    "    return TavilySearchResults(max_results=2)"
   ]
  },
  {
   "cell_type": "code",
   "execution_count": 2,
   "metadata": {},
   "outputs": [],
   "source": [
    "# %% [markdown]\n",
    "# tools/mcp_client_config.py\n",
    "\n",
    "# %%\n",
    "def get_mcp_config():\n",
    "    return {\n",
    "        \"assistance\": {\n",
    "            \"url\": \"http://localhost:9001/sse\",\n",
    "            \"transport\": \"sse\",\n",
    "        },\n",
    "        \"contracting\":{\n",
    "            \"url\": \"http://localhost:9002/sse\",\n",
    "            \"transport\": \"sse\",\n",
    "        },\n",
    "        \"voting\":{\n",
    "            \"url\": \"http://localhost:9003/sse\",\n",
    "            \"transport\": \"sse\",\n",
    "        }\n",
    "    }\n"
   ]
  },
  {
   "cell_type": "code",
   "execution_count": 3,
   "metadata": {},
   "outputs": [],
   "source": [
    "# %% [markdown]\n",
    "# graph/chatbot_graph.py\n",
    "\n",
    "# %%\n",
    "from langgraph.graph import StateGraph, MessagesState, START, END\n",
    "from langgraph.prebuilt import ToolNode, tools_condition\n",
    "from langchain_openai import ChatOpenAI\n",
    "\n",
    "def build_graph(tools):\n",
    "    model = ChatOpenAI(model=\"gpt-4o-mini\")\n",
    "    llm_with_tools = model.bind_tools(tools)\n",
    "\n",
    "    def call_model(state: MessagesState):\n",
    "        response = llm_with_tools.invoke(state[\"messages\"])\n",
    "        return {\"messages\": response}\n",
    "\n",
    "    builder = StateGraph(MessagesState)\n",
    "    builder.add_node(\"call_model\", call_model)\n",
    "    builder.add_node(\"tools\", ToolNode(tools))\n",
    "\n",
    "    builder.add_edge(START, \"call_model\")\n",
    "    builder.add_conditional_edges(\"call_model\", tools_condition)\n",
    "    builder.add_edge(\"tools\", \"call_model\")\n",
    "    builder.add_edge(\"call_model\", END)\n",
    "\n",
    "    return builder.compile()\n"
   ]
  },
  {
   "cell_type": "code",
   "execution_count": 4,
   "metadata": {},
   "outputs": [],
   "source": [
    "# %% [markdown]\n",
    "# main.py\n",
    "\n",
    "# %%\n",
    "import dotenv\n",
    "import asyncio\n",
    "from IPython.display import Image, display\n",
    "\n",
    "from langchain_mcp_adapters.client import MultiServerMCPClient\n",
    "\n",
    "# importa funciones definidas en las otras celdas\n",
    "# si estás en un solo notebook, no necesitas cambiar nada\n",
    "# si estuvieran en archivos separados, sería: from tools.tavily_tool import get_tavily_tool\n",
    "get_tavily_tool = get_tavily_tool  # noqa\n",
    "get_mcp_config = get_mcp_config    # noqa\n",
    "build_graph = build_graph          # noqa\n",
    "\n",
    "# %%\n",
    "dotenv.load_dotenv()  # carga .env\n",
    "\n",
    "# %%\n",
    "async def main():\n",
    "    async with MultiServerMCPClient(get_mcp_config()) as client:\n",
    "        # Obtener herramientas del MCP\n",
    "        mcp_tools = client.get_tools()\n",
    "        print(f\"Herramientas MCP disponibles ({len(mcp_tools)}):\")\n",
    "        for tool in mcp_tools:\n",
    "            print(f\"  - {tool.name}\")\n",
    "\n",
    "        # Agregar Tavily\n",
    "        tools = mcp_tools + [get_tavily_tool()]\n",
    "\n",
    "        # Construir grafo y mostrar diagrama\n",
    "        graph = build_graph(tools)\n",
    "        return graph\n"
   ]
  },
  {
   "cell_type": "code",
   "execution_count": 5,
   "metadata": {},
   "outputs": [
    {
     "name": "stdout",
     "output_type": "stream",
     "text": [
      "Herramientas MCP disponibles (15):\n",
      "  - obtener_asistencias_congresista\n",
      "  - obtener_ranking_asistencia\n",
      "  - listar_faltas_recurrentes\n",
      "  - obtener_historial_asistencia\n",
      "  - obtener_estadisticas_generales_asistencia\n",
      "  - buscar_contratos_por_ruc\n",
      "  - listar_contratos_recientes\n",
      "  - obtener_entidades_top_por_proveedor\n",
      "  - consultar_estado_proveedor\n",
      "  - clasificar_contratos_por_categoria\n",
      "  - buscar_votaciones_por_tema\n",
      "  - resumen_votaciones_congresista\n",
      "  - obtener_votaciones_agrupadas_por_tema\n",
      "  - obtener_participacion_votaciones\n",
      "  - identificar_votos_clave_por_tema\n"
     ]
    },
    {
     "data": {
      "image/png": "[encoded data removed]",
      "text/plain": [
       "<IPython.core.display.Image object>"
      ]
     },
     "metadata": {},
     "output_type": "display_data"
    },
    {
     "name": "stdout",
     "output_type": "stream",
     "text": [
      "================================\u001b[1m Human Message \u001b[0m=================================\n",
      "\n",
      "what's 10 x 2 + 5?\n",
      "None\n",
      "==================================\u001b[1m Ai Message \u001b[0m==================================\n",
      "\n",
      "The calculation \\(10 \\times 2 + 5\\) equals \\(20 + 5 = 25\\).\n",
      "None\n"
     ]
    },
    {
     "data": {
      "text/plain": [
       "{'messages': [HumanMessage(content=\"what's the weather in Cusco?\", additional_kwargs={}, response_metadata={}, id='3b0314f7-b599-4bb5-9466-4b328108645d'),\n",
       "  AIMessage(content='', additional_kwargs={'tool_calls': [{'id': 'call_0MC0y9MNi6yakHgVCQmg67nv', 'function': {'arguments': '{\"query\":\"weather in Cusco\"}', 'name': 'tavily_search_results_json'}, 'type': 'function'}], 'refusal': None}, response_metadata={'token_usage': {'completion_tokens': 22, 'prompt_tokens': 575, 'total_tokens': 597, 'completion_tokens_details': {'accepted_prediction_tokens': 0, 'audio_tokens': 0, 'reasoning_tokens': 0, 'rejected_prediction_tokens': 0}, 'prompt_tokens_details': {'audio_tokens': 0, 'cached_tokens': 0}}, 'model_name': 'gpt-4o-mini-2024-07-18', 'system_fingerprint': 'fp_dbaca60df0', 'id': 'chatcmpl-BV3ZhuXpOGeynq8dzB9V7AsNp4VbQ', 'service_tier': 'default', 'finish_reason': 'tool_calls', 'logprobs': None}, id='run--48a50242-e7ca-4817-869e-166d300c5c9f-0', tool_calls=[{'name': 'tavily_search_results_json', 'args': {'query': 'weather in Cusco'}, 'id': 'call_0MC0y9MNi6yakHgVCQmg67nv', 'type': 'tool_call'}], usage_metadata={'input_tokens': 575, 'output_tokens': 22, 'total_tokens': 597, 'input_token_details': {'audio': 0, 'cache_read': 0}, 'output_token_details': {'audio': 0, 'reasoning': 0}}),\n",
       "  ToolMessage(content='[{\"title\": \"Weather in Cusco\", \"url\": \"https://www.weatherapi.com/\", \"content\": \"{\\'location\\': {\\'name\\': \\'Cusco\\', \\'region\\': \\'Cusco\\', \\'country\\': \\'Peru\\', \\'lat\\': -13.5183, \\'lon\\': -71.9781, \\'tz_id\\': \\'America/Lima\\', \\'localtime_epoch\\': 1746741607, \\'localtime\\': \\'2025-05-08 17:00\\'}, \\'current\\': {\\'last_updated_epoch\\': 1746741600, \\'last_updated\\': \\'2025-05-08 17:00\\', \\'temp_c\\': 14.1, \\'temp_f\\': 57.4, \\'is_day\\': 1, \\'condition\\': {\\'text\\': \\'Partly cloudy\\', \\'icon\\': \\'//cdn.weatherapi.com/weather/64x64/day/116.png\\', \\'code\\': 1003}, \\'wind_mph\\': 5.6, \\'wind_kph\\': 9.0, \\'wind_degree\\': 313, \\'wind_dir\\': \\'NW\\', \\'pressure_mb\\': 1030.0, \\'pressure_in\\': 30.42, \\'precip_mm\\': 0.02, \\'precip_in\\': 0.0, \\'humidity\\': 59, \\'cloud\\': 75, \\'feelslike_c\\': 13.7, \\'feelslike_f\\': 56.6, \\'windchill_c\\': 13.4, \\'windchill_f\\': 56.2, \\'heatindex_c\\': 13.9, \\'heatindex_f\\': 57.0, \\'dewpoint_c\\': 6.0, \\'dewpoint_f\\': 42.7, \\'vis_km\\': 10.0, \\'vis_miles\\': 6.0, \\'uv\\': 0.2, \\'gust_mph\\': 6.6, \\'gust_kph\\': 10.7}}\", \"score\": 0.9539367}, {\"title\": \"10-Day Weather Forecast for Ccorca District, Cusco, Peru\", \"url\": \"https://weather.com/weather/tenday/l/Ccorca+District+Cusco+Peru?canonicalCityId=9cbd840bc231d18bdebd082ac2a6eba1\", \"content\": \"recents\\\\n\\\\nWeather Forecasts\\\\n\\\\nRadar & Maps\\\\n\\\\nNews & Media\\\\n\\\\nProducts\\\\n\\\\nHealth & Wellness\\\\n\\\\nAccount\\\\n\\\\nLifestyle\\\\n\\\\nPrivacy\\\\n\\\\nSpecialty Forecasts\\\\n\\\\n10 Day Weather-Ccorca District, Cusco, Peru\\\\n\\\\nTonight\\\\n\\\\nThu 08 | Night\\\\n\\\\nA few clouds. Low around 40F. Winds light and variable.\\\\n\\\\nHeads-up\\\\n\\\\nWind Damage, Large Hail Possible Across The South\\\\n\\\\nFri 09\\\\n\\\\nFri 09 | Day\\\\n\\\\nA mix of clouds and sun early, then becoming cloudy later in the day. High around 65F. Winds NE at 5 to 10 mph.\\\\n\\\\nFri 09 | Night [...] Partly cloudy during the evening followed by cloudy skies overnight. Low near 40F. Winds light and variable.\\\\n\\\\nSat 10\\\\n\\\\nSat 10 | Day\\\\n\\\\nMostly cloudy. High 63F. Winds NE at 5 to 10 mph.\\\\n\\\\nSat 10 | Night\\\\n\\\\nPartly cloudy skies during the evening will give way to cloudy skies overnight. Low 38F. Winds NE at 5 to 10 mph.\\\\n\\\\nSun 11\\\\n\\\\nSun 11 | Day\\\\n\\\\nIntervals of clouds and sunshine. High 62F. Winds NE at 5 to 10 mph.\\\\n\\\\nSun 11 | Night\\\\n\\\\nA few clouds. Low 39F. Winds light and variable.\\\\n\\\\nMon 12\\\\n\\\\nMon 12 | Day [...] Mainly cloudy. High 61F. Winds NNW at 5 to 10 mph.\\\\n\\\\nSun 18 | Night\\\\n\\\\nMostly cloudy. Low 39F. Winds light and variable.\\\\n\\\\nMon 19\\\\n\\\\nMon 19 | Day\\\\n\\\\nMostly cloudy skies. High 62F. Winds NNW at 5 to 10 mph.\\\\n\\\\nMon 19 | Night\\\\n\\\\nPartly cloudy skies during the evening will give way to cloudy skies overnight. Low 39F. Winds light and variable.\\\\n\\\\nTue 20\\\\n\\\\nTue 20 | Day\\\\n\\\\nCloudy skies early, followed by partial clearing. High 63F. Winds NNW at 5 to 10 mph.\\\\n\\\\nTue 20 | Night\", \"score\": 0.82391036}]', name='tavily_search_results_json', id='9a1a8bd3-f183-4d54-9052-4be09a472a12', tool_call_id='call_0MC0y9MNi6yakHgVCQmg67nv', artifact={'query': 'weather in Cusco', 'follow_up_questions': None, 'answer': None, 'images': [], 'results': [{'title': 'Weather in Cusco', 'url': 'https://www.weatherapi.com/', 'content': \"{'location': {'name': 'Cusco', 'region': 'Cusco', 'country': 'Peru', 'lat': -13.5183, 'lon': -71.9781, 'tz_id': 'America/Lima', 'localtime_epoch': 1746741607, 'localtime': '2025-05-08 17:00'}, 'current': {'last_updated_epoch': 1746741600, 'last_updated': '2025-05-08 17:00', 'temp_c': 14.1, 'temp_f': 57.4, 'is_day': 1, 'condition': {'text': 'Partly cloudy', 'icon': '//cdn.weatherapi.com/weather/64x64/day/116.png', 'code': 1003}, 'wind_mph': 5.6, 'wind_kph': 9.0, 'wind_degree': 313, 'wind_dir': 'NW', 'pressure_mb': 1030.0, 'pressure_in': 30.42, 'precip_mm': 0.02, 'precip_in': 0.0, 'humidity': 59, 'cloud': 75, 'feelslike_c': 13.7, 'feelslike_f': 56.6, 'windchill_c': 13.4, 'windchill_f': 56.2, 'heatindex_c': 13.9, 'heatindex_f': 57.0, 'dewpoint_c': 6.0, 'dewpoint_f': 42.7, 'vis_km': 10.0, 'vis_miles': 6.0, 'uv': 0.2, 'gust_mph': 6.6, 'gust_kph': 10.7}}\", 'score': 0.9539367, 'raw_content': None}, {'url': 'https://weather.com/weather/tenday/l/Ccorca+District+Cusco+Peru?canonicalCityId=9cbd840bc231d18bdebd082ac2a6eba1', 'title': '10-Day Weather Forecast for Ccorca District, Cusco, Peru', 'content': 'recents\\n\\nWeather Forecasts\\n\\nRadar & Maps\\n\\nNews & Media\\n\\nProducts\\n\\nHealth & Wellness\\n\\nAccount\\n\\nLifestyle\\n\\nPrivacy\\n\\nSpecialty Forecasts\\n\\n10 Day Weather-Ccorca District, Cusco, Peru\\n\\nTonight\\n\\nThu 08 | Night\\n\\nA few clouds. Low around 40F. Winds light and variable.\\n\\nHeads-up\\n\\nWind Damage, Large Hail Possible Across The South\\n\\nFri 09\\n\\nFri 09 | Day\\n\\nA mix of clouds and sun early, then becoming cloudy later in the day. High around 65F. Winds NE at 5 to 10 mph.\\n\\nFri 09 | Night [...] Partly cloudy during the evening followed by cloudy skies overnight. Low near 40F. Winds light and variable.\\n\\nSat 10\\n\\nSat 10 | Day\\n\\nMostly cloudy. High 63F. Winds NE at 5 to 10 mph.\\n\\nSat 10 | Night\\n\\nPartly cloudy skies during the evening will give way to cloudy skies overnight. Low 38F. Winds NE at 5 to 10 mph.\\n\\nSun 11\\n\\nSun 11 | Day\\n\\nIntervals of clouds and sunshine. High 62F. Winds NE at 5 to 10 mph.\\n\\nSun 11 | Night\\n\\nA few clouds. Low 39F. Winds light and variable.\\n\\nMon 12\\n\\nMon 12 | Day [...] Mainly cloudy. High 61F. Winds NNW at 5 to 10 mph.\\n\\nSun 18 | Night\\n\\nMostly cloudy. Low 39F. Winds light and variable.\\n\\nMon 19\\n\\nMon 19 | Day\\n\\nMostly cloudy skies. High 62F. Winds NNW at 5 to 10 mph.\\n\\nMon 19 | Night\\n\\nPartly cloudy skies during the evening will give way to cloudy skies overnight. Low 39F. Winds light and variable.\\n\\nTue 20\\n\\nTue 20 | Day\\n\\nCloudy skies early, followed by partial clearing. High 63F. Winds NNW at 5 to 10 mph.\\n\\nTue 20 | Night', 'score': 0.82391036, 'raw_content': None}], 'response_time': 3.71}),\n",
       "  AIMessage(content='The current weather in Cusco is as follows:\\n\\n- **Temperature**: 14.1°C (57.4°F)\\n- **Condition**: Partly cloudy\\n- **Humidity**: 59%\\n- **Wind**: 5.6 mph (9.0 kph) from the northwest\\n- **Visibility**: 10 km\\n- **Pressure**: 1030 mb\\n\\nFor more detailed forecasts or updates, you can visit [Weather API](https://www.weatherapi.com/) or [Weather.com](https://weather.com/weather/tenday/l/Ccorca+District+Cusco+Peru?canonicalCityId=9cbd840bc231d18bdebd082ac2a6eba1).', additional_kwargs={'refusal': None}, response_metadata={'token_usage': {'completion_tokens': 155, 'prompt_tokens': 1584, 'total_tokens': 1739, 'completion_tokens_details': {'accepted_prediction_tokens': 0, 'audio_tokens': 0, 'reasoning_tokens': 0, 'rejected_prediction_tokens': 0}, 'prompt_tokens_details': {'audio_tokens': 0, 'cached_tokens': 0}}, 'model_name': 'gpt-4o-mini-2024-07-18', 'system_fingerprint': 'fp_dbaca60df0', 'id': 'chatcmpl-BV3ZnS6oLux3kqDitCAdVEZZElIrT', 'service_tier': 'default', 'finish_reason': 'stop', 'logprobs': None}, id='run--358e96eb-12e4-4cd7-a840-0dbb4459e85f-0', usage_metadata={'input_tokens': 1584, 'output_tokens': 155, 'total_tokens': 1739, 'input_token_details': {'audio': 0, 'cache_read': 0}, 'output_token_details': {'audio': 0, 'reasoning': 0}})]}"
      ]
     },
     "execution_count": 5,
     "metadata": {},
     "output_type": "execute_result"
    }
   ],
   "source": [
    "# %% [markdown]\n",
    "# Ejecutar main() y probar el grafo\n",
    "\n",
    "# %%\n",
    "graph = await main()\n",
    "display(Image(graph.get_graph().draw_mermaid_png()))\n",
    "\n",
    "# %%\n",
    "agent_response = await graph.ainvoke({\"messages\": \"what's 10 x 2 + 5?\"})\n",
    "for msg in agent_response[\"messages\"]:\n",
    "    print(msg.pretty_print())\n",
    "\n",
    "# %%\n",
    "await graph.ainvoke({\"messages\": \"what's the weather in Cusco?\"})\n"
   ]
  },
  {
   "cell_type": "code",
   "execution_count": 6,
   "metadata": {},
   "outputs": [
    {
     "data": {
      "text/plain": [
       "{'messages': [HumanMessage(content='Hola, que acciones puedo realizar?', additional_kwargs={}, response_metadata={}, id='11518df0-3bdf-43d5-8246-0291f1cfc534'),\n",
       "  AIMessage(content='Puedes realizar varias acciones relacionadas con el seguimiento y análisis de la actividad legislativa en el Congreso. Aquí hay algunas de las acciones que puedes llevar a cabo:\\n\\n1. **Asistencia de Congresistas**:\\n   - Obtener el resumen de asistencias, faltas y licencias de un congresista específico.\\n   - Consultar el historial de asistencia de un congresista por legislatura.\\n   - Ver estadísticas generales de asistencia en el Congreso.\\n   - Listar congresistas con faltas recurrentes.\\n\\n2. **Votaciones**:\\n   - Resumir las estadísticas de votación de un congresista.\\n   - Obtener la participación de un congresista en votaciones.\\n   - Buscar votaciones relevantes relacionadas con un tema específico.\\n   - Identificar votos clave por tema.\\n\\n3. **Contratos de Proveedores**:\\n   - Buscar contratos de un proveedor específico por su RUC.\\n   - Listar contratos recientes de un proveedor.\\n   - Clasificar contratos de un proveedor por categoría (bienes, servicios, obras).\\n   - Consultar el estado de habilitación de un proveedor para contratar con el Estado.\\n   - Identificar las entidades del Estado que más han contratado con un proveedor.\\n\\n4. **Ranking y Estadísticas**:\\n   - Obtener un ranking simplificado de congresistas con mejor asistencia.\\n   - Ver la participación general de los congresistas en votaciones.\\n   - Agrupar votaciones por tema y mostrar su resultado legislativo.\\n\\nSi deseas realizar alguna de estas acciones, házmelo saber y estaré encantado de ayudarte.', additional_kwargs={'refusal': None}, response_metadata={'token_usage': {'completion_tokens': 317, 'prompt_tokens': 574, 'total_tokens': 891, 'completion_tokens_details': {'accepted_prediction_tokens': 0, 'audio_tokens': 0, 'reasoning_tokens': 0, 'rejected_prediction_tokens': 0}, 'prompt_tokens_details': {'audio_tokens': 0, 'cached_tokens': 0}}, 'model_name': 'gpt-4o-mini-2024-07-18', 'system_fingerprint': 'fp_dbaca60df0', 'id': 'chatcmpl-BV3ZqK2htWsVHIsgd83yO9g83PY5f', 'service_tier': 'default', 'finish_reason': 'stop', 'logprobs': None}, id='run--ec84957f-c6ac-4071-8d02-0303b0d13b5b-0', usage_metadata={'input_tokens': 574, 'output_tokens': 317, 'total_tokens': 891, 'input_token_details': {'audio': 0, 'cache_read': 0}, 'output_token_details': {'audio': 0, 'reasoning': 0}})]}"
      ]
     },
     "execution_count": 6,
     "metadata": {},
     "output_type": "execute_result"
    }
   ],
   "source": [
    "await graph.ainvoke({\"messages\": \"Hola, que acciones puedo realizar?\"})"
   ]
  },
  {
   "cell_type": "code",
   "execution_count": 7,
   "metadata": {},
   "outputs": [
    {
     "data": {
      "text/plain": [
       "{'messages': [HumanMessage(content=\"what's the weather in Cusco?\", additional_kwargs={}, response_metadata={}, id='c507681c-e663-4587-83a3-4438c75e8028'),\n",
       "  AIMessage(content='', additional_kwargs={'tool_calls': [{'id': 'call_EPc7jEQWdu8HSpvEnoVqG3gp', 'function': {'arguments': '{\"query\":\"weather in Cusco\"}', 'name': 'tavily_search_results_json'}, 'type': 'function'}], 'refusal': None}, response_metadata={'token_usage': {'completion_tokens': 22, 'prompt_tokens': 575, 'total_tokens': 597, 'completion_tokens_details': {'accepted_prediction_tokens': 0, 'audio_tokens': 0, 'reasoning_tokens': 0, 'rejected_prediction_tokens': 0}, 'prompt_tokens_details': {'audio_tokens': 0, 'cached_tokens': 0}}, 'model_name': 'gpt-4o-mini-2024-07-18', 'system_fingerprint': 'fp_dbaca60df0', 'id': 'chatcmpl-BV3ZvqdcKn5cAeVbPTIc7alILHJWD', 'service_tier': 'default', 'finish_reason': 'tool_calls', 'logprobs': None}, id='run--efc19263-2f57-4726-9f56-4791435eb292-0', tool_calls=[{'name': 'tavily_search_results_json', 'args': {'query': 'weather in Cusco'}, 'id': 'call_EPc7jEQWdu8HSpvEnoVqG3gp', 'type': 'tool_call'}], usage_metadata={'input_tokens': 575, 'output_tokens': 22, 'total_tokens': 597, 'input_token_details': {'audio': 0, 'cache_read': 0}, 'output_token_details': {'audio': 0, 'reasoning': 0}}),\n",
       "  ToolMessage(content='[{\"title\": \"Weather in Cusco\", \"url\": \"https://www.weatherapi.com/\", \"content\": \"{\\'location\\': {\\'name\\': \\'Cusco\\', \\'region\\': \\'Cusco\\', \\'country\\': \\'Peru\\', \\'lat\\': -13.5183, \\'lon\\': -71.9781, \\'tz_id\\': \\'America/Lima\\', \\'localtime_epoch\\': 1746741607, \\'localtime\\': \\'2025-05-08 17:00\\'}, \\'current\\': {\\'last_updated_epoch\\': 1746741600, \\'last_updated\\': \\'2025-05-08 17:00\\', \\'temp_c\\': 14.1, \\'temp_f\\': 57.4, \\'is_day\\': 1, \\'condition\\': {\\'text\\': \\'Partly cloudy\\', \\'icon\\': \\'//cdn.weatherapi.com/weather/64x64/day/116.png\\', \\'code\\': 1003}, \\'wind_mph\\': 5.6, \\'wind_kph\\': 9.0, \\'wind_degree\\': 313, \\'wind_dir\\': \\'NW\\', \\'pressure_mb\\': 1030.0, \\'pressure_in\\': 30.42, \\'precip_mm\\': 0.02, \\'precip_in\\': 0.0, \\'humidity\\': 59, \\'cloud\\': 75, \\'feelslike_c\\': 13.7, \\'feelslike_f\\': 56.6, \\'windchill_c\\': 13.4, \\'windchill_f\\': 56.2, \\'heatindex_c\\': 13.9, \\'heatindex_f\\': 57.0, \\'dewpoint_c\\': 6.0, \\'dewpoint_f\\': 42.7, \\'vis_km\\': 10.0, \\'vis_miles\\': 6.0, \\'uv\\': 0.2, \\'gust_mph\\': 6.6, \\'gust_kph\\': 10.7}}\", \"score\": 0.9539367}, {\"title\": \"10-Day Weather Forecast for Ccorca District, Cusco, Peru\", \"url\": \"https://weather.com/weather/tenday/l/Ccorca+District+Cusco+Peru?canonicalCityId=9cbd840bc231d18bdebd082ac2a6eba1\", \"content\": \"recents\\\\n\\\\nWeather Forecasts\\\\n\\\\nRadar & Maps\\\\n\\\\nNews & Media\\\\n\\\\nProducts\\\\n\\\\nHealth & Wellness\\\\n\\\\nAccount\\\\n\\\\nLifestyle\\\\n\\\\nPrivacy\\\\n\\\\nSpecialty Forecasts\\\\n\\\\n10 Day Weather-Ccorca District, Cusco, Peru\\\\n\\\\nTonight\\\\n\\\\nThu 08 | Night\\\\n\\\\nA few clouds. Low around 40F. Winds light and variable.\\\\n\\\\nHeads-up\\\\n\\\\nWind Damage, Large Hail Possible Across The South\\\\n\\\\nFri 09\\\\n\\\\nFri 09 | Day\\\\n\\\\nA mix of clouds and sun early, then becoming cloudy later in the day. High around 65F. Winds NE at 5 to 10 mph.\\\\n\\\\nFri 09 | Night [...] Partly cloudy during the evening followed by cloudy skies overnight. Low near 40F. Winds light and variable.\\\\n\\\\nSat 10\\\\n\\\\nSat 10 | Day\\\\n\\\\nMostly cloudy. High 63F. Winds NE at 5 to 10 mph.\\\\n\\\\nSat 10 | Night\\\\n\\\\nPartly cloudy skies during the evening will give way to cloudy skies overnight. Low 38F. Winds NE at 5 to 10 mph.\\\\n\\\\nSun 11\\\\n\\\\nSun 11 | Day\\\\n\\\\nIntervals of clouds and sunshine. High 62F. Winds NE at 5 to 10 mph.\\\\n\\\\nSun 11 | Night\\\\n\\\\nA few clouds. Low 39F. Winds light and variable.\\\\n\\\\nMon 12\\\\n\\\\nMon 12 | Day [...] Mainly cloudy. High 61F. Winds NNW at 5 to 10 mph.\\\\n\\\\nSun 18 | Night\\\\n\\\\nMostly cloudy. Low 39F. Winds light and variable.\\\\n\\\\nMon 19\\\\n\\\\nMon 19 | Day\\\\n\\\\nMostly cloudy skies. High 62F. Winds NNW at 5 to 10 mph.\\\\n\\\\nMon 19 | Night\\\\n\\\\nPartly cloudy skies during the evening will give way to cloudy skies overnight. Low 39F. Winds light and variable.\\\\n\\\\nTue 20\\\\n\\\\nTue 20 | Day\\\\n\\\\nCloudy skies early, followed by partial clearing. High 63F. Winds NNW at 5 to 10 mph.\\\\n\\\\nTue 20 | Night\", \"score\": 0.82391036}]', name='tavily_search_results_json', id='5f810163-b5c2-4320-adcd-1e78a4f85103', tool_call_id='call_EPc7jEQWdu8HSpvEnoVqG3gp', artifact={'query': 'weather in Cusco', 'follow_up_questions': None, 'answer': None, 'images': [], 'results': [{'title': 'Weather in Cusco', 'url': 'https://www.weatherapi.com/', 'content': \"{'location': {'name': 'Cusco', 'region': 'Cusco', 'country': 'Peru', 'lat': -13.5183, 'lon': -71.9781, 'tz_id': 'America/Lima', 'localtime_epoch': 1746741607, 'localtime': '2025-05-08 17:00'}, 'current': {'last_updated_epoch': 1746741600, 'last_updated': '2025-05-08 17:00', 'temp_c': 14.1, 'temp_f': 57.4, 'is_day': 1, 'condition': {'text': 'Partly cloudy', 'icon': '//cdn.weatherapi.com/weather/64x64/day/116.png', 'code': 1003}, 'wind_mph': 5.6, 'wind_kph': 9.0, 'wind_degree': 313, 'wind_dir': 'NW', 'pressure_mb': 1030.0, 'pressure_in': 30.42, 'precip_mm': 0.02, 'precip_in': 0.0, 'humidity': 59, 'cloud': 75, 'feelslike_c': 13.7, 'feelslike_f': 56.6, 'windchill_c': 13.4, 'windchill_f': 56.2, 'heatindex_c': 13.9, 'heatindex_f': 57.0, 'dewpoint_c': 6.0, 'dewpoint_f': 42.7, 'vis_km': 10.0, 'vis_miles': 6.0, 'uv': 0.2, 'gust_mph': 6.6, 'gust_kph': 10.7}}\", 'score': 0.9539367, 'raw_content': None}, {'url': 'https://weather.com/weather/tenday/l/Ccorca+District+Cusco+Peru?canonicalCityId=9cbd840bc231d18bdebd082ac2a6eba1', 'title': '10-Day Weather Forecast for Ccorca District, Cusco, Peru', 'content': 'recents\\n\\nWeather Forecasts\\n\\nRadar & Maps\\n\\nNews & Media\\n\\nProducts\\n\\nHealth & Wellness\\n\\nAccount\\n\\nLifestyle\\n\\nPrivacy\\n\\nSpecialty Forecasts\\n\\n10 Day Weather-Ccorca District, Cusco, Peru\\n\\nTonight\\n\\nThu 08 | Night\\n\\nA few clouds. Low around 40F. Winds light and variable.\\n\\nHeads-up\\n\\nWind Damage, Large Hail Possible Across The South\\n\\nFri 09\\n\\nFri 09 | Day\\n\\nA mix of clouds and sun early, then becoming cloudy later in the day. High around 65F. Winds NE at 5 to 10 mph.\\n\\nFri 09 | Night [...] Partly cloudy during the evening followed by cloudy skies overnight. Low near 40F. Winds light and variable.\\n\\nSat 10\\n\\nSat 10 | Day\\n\\nMostly cloudy. High 63F. Winds NE at 5 to 10 mph.\\n\\nSat 10 | Night\\n\\nPartly cloudy skies during the evening will give way to cloudy skies overnight. Low 38F. Winds NE at 5 to 10 mph.\\n\\nSun 11\\n\\nSun 11 | Day\\n\\nIntervals of clouds and sunshine. High 62F. Winds NE at 5 to 10 mph.\\n\\nSun 11 | Night\\n\\nA few clouds. Low 39F. Winds light and variable.\\n\\nMon 12\\n\\nMon 12 | Day [...] Mainly cloudy. High 61F. Winds NNW at 5 to 10 mph.\\n\\nSun 18 | Night\\n\\nMostly cloudy. Low 39F. Winds light and variable.\\n\\nMon 19\\n\\nMon 19 | Day\\n\\nMostly cloudy skies. High 62F. Winds NNW at 5 to 10 mph.\\n\\nMon 19 | Night\\n\\nPartly cloudy skies during the evening will give way to cloudy skies overnight. Low 39F. Winds light and variable.\\n\\nTue 20\\n\\nTue 20 | Day\\n\\nCloudy skies early, followed by partial clearing. High 63F. Winds NNW at 5 to 10 mph.\\n\\nTue 20 | Night', 'score': 0.82391036, 'raw_content': None}], 'response_time': 0.77}),\n",
       "  AIMessage(content='The current weather in Cusco, Peru is as follows:\\n\\n- **Temperature**: 14.1°C (57.4°F)\\n- **Condition**: Partly cloudy \\n- **Wind**: 5.6 mph (9.0 kph) from the Northwest \\n- **Humidity**: 59%\\n- **Pressure**: 1030 mb\\n- **Visibility**: 10 km \\n\\nFor more detailed forecasts, you can visit [WeatherAPI](https://www.weatherapi.com/) or check a 10-day forecast on [Weather.com](https://weather.com/weather/tenday/l/Ccorca+District+Cusco+Peru?canonicalCityId=9cbd840bc231d18bdebd082ac2a6eba1).', additional_kwargs={'refusal': None}, response_metadata={'token_usage': {'completion_tokens': 162, 'prompt_tokens': 1584, 'total_tokens': 1746, 'completion_tokens_details': {'accepted_prediction_tokens': 0, 'audio_tokens': 0, 'reasoning_tokens': 0, 'rejected_prediction_tokens': 0}, 'prompt_tokens_details': {'audio_tokens': 0, 'cached_tokens': 1536}}, 'model_name': 'gpt-4o-mini-2024-07-18', 'system_fingerprint': 'fp_dbaca60df0', 'id': 'chatcmpl-BV3ZxXai9i7h0OabiyEkCb9MwvT0D', 'service_tier': 'default', 'finish_reason': 'stop', 'logprobs': None}, id='run--d03b0f52-595d-4459-971c-cf2cd6389322-0', usage_metadata={'input_tokens': 1584, 'output_tokens': 162, 'total_tokens': 1746, 'input_token_details': {'audio': 0, 'cache_read': 1536}, 'output_token_details': {'audio': 0, 'reasoning': 0}})]}"
      ]
     },
     "execution_count": 7,
     "metadata": {},
     "output_type": "execute_result"
    }
   ],
   "source": [
    "await graph.ainvoke({\"messages\": \"what's the weather in Cusco?\"})"
   ]
  },
  {
   "cell_type": "code",
   "execution_count": null,
   "metadata": {},
   "outputs": [],
   "source": []
  }
 ],
 "metadata": {
  "kernelspec": {
   "display_name": "venv_demcp",
   "language": "python",
   "name": "python3"
  },
  "language_info": {
   "codemirror_mode": {
    "name": "ipython",
    "version": 3
   },
   "file_extension": ".py",
   "mimetype": "text/x-python",
   "name": "python",
   "nbconvert_exporter": "python",
   "pygments_lexer": "ipython3",
   "version": "3.10.17"
  }
 },
 "nbformat": 4,
 "nbformat_minor": 2
}
