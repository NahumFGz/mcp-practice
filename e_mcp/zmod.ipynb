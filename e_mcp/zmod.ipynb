{
 "cells": [
  {
   "cell_type": "code",
   "execution_count": 11,
   "metadata": {},
   "outputs": [],
   "source": [
    "# %% [markdown]\n",
    "# tools/tavily_tool.py\n",
    "\n",
    "# %%\n",
    "from langchain_community.tools.tavily_search import TavilySearchResults\n",
    "\n",
    "def get_tavily_tool():\n",
    "    return TavilySearchResults(max_results=2)"
   ]
  },
  {
   "cell_type": "code",
   "execution_count": 12,
   "metadata": {},
   "outputs": [],
   "source": [
    "# %% [markdown]\n",
    "# tools/mcp_client_config.py\n",
    "\n",
    "# %%\n",
    "def get_mcp_config():\n",
    "    return {\n",
    "        \"math\": {\n",
    "            \"command\": \"python\",\n",
    "            \"args\": [\"./math_server.py\"],  # asegúrate de que esté en la ruta correcta\n",
    "            \"transport\": \"stdio\",\n",
    "        },\n",
    "        \"weather\": {\n",
    "            \"url\": \"http://localhost:8000/sse\",\n",
    "            \"transport\": \"sse\",\n",
    "        }\n",
    "    }\n"
   ]
  },
  {
   "cell_type": "code",
   "execution_count": 13,
   "metadata": {},
   "outputs": [],
   "source": [
    "# %% [markdown]\n",
    "# graph/chatbot_graph.py\n",
    "\n",
    "# %%\n",
    "from langgraph.graph import StateGraph, MessagesState, START, END\n",
    "from langgraph.prebuilt import ToolNode, tools_condition\n",
    "from langchain_openai import ChatOpenAI\n",
    "\n",
    "def build_graph(tools):\n",
    "    model = ChatOpenAI(model=\"gpt-4o-mini\")\n",
    "    llm_with_tools = model.bind_tools(tools)\n",
    "\n",
    "    def call_model(state: MessagesState):\n",
    "        response = llm_with_tools.invoke(state[\"messages\"])\n",
    "        return {\"messages\": response}\n",
    "\n",
    "    builder = StateGraph(MessagesState)\n",
    "    builder.add_node(\"call_model\", call_model)\n",
    "    builder.add_node(\"tools\", ToolNode(tools))\n",
    "\n",
    "    builder.add_edge(START, \"call_model\")\n",
    "    builder.add_conditional_edges(\"call_model\", tools_condition)\n",
    "    builder.add_edge(\"tools\", \"call_model\")\n",
    "    builder.add_edge(\"call_model\", END)\n",
    "\n",
    "    return builder.compile()\n"
   ]
  },
  {
   "cell_type": "code",
   "execution_count": 14,
   "metadata": {},
   "outputs": [],
   "source": [
    "# %% [markdown]\n",
    "# main.py\n",
    "\n",
    "# %%\n",
    "import dotenv\n",
    "import asyncio\n",
    "from IPython.display import Image, display\n",
    "\n",
    "from langchain_mcp_adapters.client import MultiServerMCPClient\n",
    "\n",
    "# importa funciones definidas en las otras celdas\n",
    "# si estás en un solo notebook, no necesitas cambiar nada\n",
    "# si estuvieran en archivos separados, sería: from tools.tavily_tool import get_tavily_tool\n",
    "get_tavily_tool = get_tavily_tool  # noqa\n",
    "get_mcp_config = get_mcp_config    # noqa\n",
    "build_graph = build_graph          # noqa\n",
    "\n",
    "# %%\n",
    "dotenv.load_dotenv()  # carga .env\n",
    "\n",
    "# %%\n",
    "async def main():\n",
    "    async with MultiServerMCPClient(get_mcp_config()) as client:\n",
    "        # Obtener herramientas del MCP\n",
    "        mcp_tools = client.get_tools()\n",
    "        print(f\"Herramientas MCP disponibles ({len(mcp_tools)}):\")\n",
    "        for tool in mcp_tools:\n",
    "            print(f\"  - {tool.name}\")\n",
    "\n",
    "        # Agregar Tavily\n",
    "        tools = mcp_tools + [get_tavily_tool()]\n",
    "\n",
    "        # Construir grafo y mostrar diagrama\n",
    "        graph = build_graph(tools)\n",
    "        return graph\n"
   ]
  },
  {
   "cell_type": "code",
   "execution_count": 15,
   "metadata": {},
   "outputs": [
    {
     "name": "stdout",
     "output_type": "stream",
     "text": [
      "Herramientas MCP disponibles (5):\n",
      "  - add\n",
      "  - multiply\n",
      "  - buscar_contratos_por_ruc\n",
      "  - obtener_asistencias_congresista\n",
      "  - buscar_votaciones_por_tema\n"
     ]
    },
    {
     "data": {
      "image/png": "[encoded data removed]",
      "text/plain": [
       "<IPython.core.display.Image object>"
      ]
     },
     "metadata": {},
     "output_type": "display_data"
    },
    {
     "name": "stdout",
     "output_type": "stream",
     "text": [
      "================================\u001b[1m Human Message \u001b[0m=================================\n",
      "\n",
      "what's 10 x 2 + 5?\n",
      "None\n",
      "==================================\u001b[1m Ai Message \u001b[0m==================================\n",
      "Tool Calls:\n",
      "  multiply (call_KX2NcuDmJtfaM635PNP1r6To)\n",
      " Call ID: call_KX2NcuDmJtfaM635PNP1r6To\n",
      "  Args:\n",
      "    a: 10\n",
      "    b: 2\n",
      "  add (call_TfJtJ27psXGIQuWMWeAEyA60)\n",
      " Call ID: call_TfJtJ27psXGIQuWMWeAEyA60\n",
      "  Args:\n",
      "    a: 20\n",
      "    b: 5\n",
      "None\n",
      "=================================\u001b[1m Tool Message \u001b[0m=================================\n",
      "Name: multiply\n",
      "\n",
      "Error: ClosedResourceError()\n",
      " Please fix your mistakes.\n",
      "None\n",
      "=================================\u001b[1m Tool Message \u001b[0m=================================\n",
      "Name: add\n",
      "\n",
      "Error: ClosedResourceError()\n",
      " Please fix your mistakes.\n",
      "None\n",
      "==================================\u001b[1m Ai Message \u001b[0m==================================\n",
      "\n",
      "It seems there was an error while trying to compute the values. However, I can do the calculation manually.\n",
      "\n",
      "The equation is \\(10 \\times 2 + 5\\).\n",
      "\n",
      "1. First, calculate \\(10 \\times 2 = 20\\).\n",
      "2. Then, add \\(20 + 5 = 25\\).\n",
      "\n",
      "So, \\(10 \\times 2 + 5 = 25\\).\n",
      "None\n"
     ]
    },
    {
     "data": {
      "text/plain": [
       "{'messages': [HumanMessage(content=\"what's the weather in Cusco?\", additional_kwargs={}, response_metadata={}, id='8b17a772-6053-4d94-a76c-becfa41ea363'),\n",
       "  AIMessage(content='', additional_kwargs={'tool_calls': [{'id': 'call_YKmhqPPE9Py6N74MudQIsIXq', 'function': {'arguments': '{\"query\":\"weather in Cusco\"}', 'name': 'tavily_search_results_json'}, 'type': 'function'}], 'refusal': None}, response_metadata={'token_usage': {'completion_tokens': 22, 'prompt_tokens': 187, 'total_tokens': 209, 'completion_tokens_details': {'accepted_prediction_tokens': 0, 'audio_tokens': 0, 'reasoning_tokens': 0, 'rejected_prediction_tokens': 0}, 'prompt_tokens_details': {'audio_tokens': 0, 'cached_tokens': 0}}, 'model_name': 'gpt-4o-mini-2024-07-18', 'system_fingerprint': 'fp_0392822090', 'id': 'chatcmpl-BUx3EaOKFbBscX3mHcx4CFrNcNJbJ', 'service_tier': 'default', 'finish_reason': 'tool_calls', 'logprobs': None}, id='run--ce9eaca7-44bb-480f-9a0b-4d4e238703c5-0', tool_calls=[{'name': 'tavily_search_results_json', 'args': {'query': 'weather in Cusco'}, 'id': 'call_YKmhqPPE9Py6N74MudQIsIXq', 'type': 'tool_call'}], usage_metadata={'input_tokens': 187, 'output_tokens': 22, 'total_tokens': 209, 'input_token_details': {'audio': 0, 'cache_read': 0}, 'output_token_details': {'audio': 0, 'reasoning': 0}}),\n",
       "  ToolMessage(content='[{\"title\": \"Weather in Cusco\", \"url\": \"https://www.weatherapi.com/\", \"content\": \"{\\'location\\': {\\'name\\': \\'Cusco\\', \\'region\\': \\'Cusco\\', \\'country\\': \\'Peru\\', \\'lat\\': -13.5183, \\'lon\\': -71.9781, \\'tz_id\\': \\'America/Lima\\', \\'localtime_epoch\\': 1746716530, \\'localtime\\': \\'2025-05-08 10:02\\'}, \\'current\\': {\\'last_updated_epoch\\': 1746716400, \\'last_updated\\': \\'2025-05-08 10:00\\', \\'temp_c\\': 14.1, \\'temp_f\\': 57.4, \\'is_day\\': 1, \\'condition\\': {\\'text\\': \\'Partly cloudy\\', \\'icon\\': \\'//cdn.weatherapi.com/weather/64x64/day/116.png\\', \\'code\\': 1003}, \\'wind_mph\\': 3.4, \\'wind_kph\\': 5.4, \\'wind_degree\\': 249, \\'wind_dir\\': \\'WSW\\', \\'pressure_mb\\': 1036.0, \\'pressure_in\\': 30.59, \\'precip_mm\\': 0.01, \\'precip_in\\': 0.0, \\'humidity\\': 63, \\'cloud\\': 75, \\'feelslike_c\\': 14.3, \\'feelslike_f\\': 57.8, \\'windchill_c\\': 12.7, \\'windchill_f\\': 54.9, \\'heatindex_c\\': 12.7, \\'heatindex_f\\': 54.9, \\'dewpoint_c\\': 5.7, \\'dewpoint_f\\': 42.2, \\'vis_km\\': 10.0, \\'vis_miles\\': 6.0, \\'uv\\': 8.5, \\'gust_mph\\': 3.9, \\'gust_kph\\': 6.2}}\", \"score\": 0.8713402}, {\"title\": \"10-Day Weather Forecast for Ccorca District, Cusco, Peru\", \"url\": \"https://weather.com/weather/tenday/l/Ccorca+District+Cusco+Peru?canonicalCityId=9cbd840bc231d18bdebd082ac2a6eba1\", \"content\": \"recents\\\\n\\\\nWeather Forecasts\\\\n\\\\nRadar & Maps\\\\n\\\\nNews & Media\\\\n\\\\nProducts\\\\n\\\\nHealth & Wellness\\\\n\\\\nAccount\\\\n\\\\nLifestyle\\\\n\\\\nPrivacy\\\\n\\\\nSpecialty Forecasts\\\\n\\\\n10 Day Weather-Ccorca District, Cusco, Peru\\\\n\\\\nToday\\\\n\\\\nThu 08 | Day\\\\n\\\\nMore clouds than sun. High 63F. Winds NW at 5 to 10 mph.\\\\n\\\\nHeads-up\\\\n\\\\nWind Damage, Large Hail Possible Across The South\\\\n\\\\nThu 08 | Night\\\\n\\\\nSome clouds. Low 41F. Winds light and variable.\\\\n\\\\nFri 09\\\\n\\\\nFri 09 | Day [...] Partly cloudy skies during the morning hours will become overcast in the afternoon. High 64F. Winds ENE at 5 to 10 mph.\\\\n\\\\nFri 09 | Night\\\\n\\\\nPartly cloudy skies during the evening will give way to cloudy skies overnight. Low around 40F. Winds light and variable.\\\\n\\\\nSat 10\\\\n\\\\nSat 10 | Day\\\\n\\\\nSunshine and clouds mixed. High 62F. Winds NNE at 5 to 10 mph.\\\\n\\\\nSat 10 | Night\\\\n\\\\nA few clouds from time to time. Low 39F. Winds NE at 5 to 10 mph.\\\\n\\\\nSun 11\\\\n\\\\nSun 11 | Day [...] Sunshine and clouds mixed. High 62F. Winds NE at 5 to 10 mph.\\\\n\\\\nSun 11 | Night\\\\n\\\\nPartly cloudy. Low 39F. Winds light and variable.\\\\n\\\\nMon 12\\\\n\\\\nMon 12 | Day\\\\n\\\\nSunshine and clouds mixed. High 64F. Winds NE at 5 to 10 mph.\\\\n\\\\nMon 12 | Night\\\\n\\\\nPartly cloudy skies. Low 39F. Winds light and variable.\\\\n\\\\nTue 13\\\\n\\\\nTue 13 | Day\\\\n\\\\nPartly cloudy skies. High near 65F. Winds NNE at 5 to 10 mph.\\\\n\\\\nTue 13 | Night\\\\n\\\\nPartly cloudy skies. Low 39F. Winds light and variable.\\\\n\\\\nWed 14\\\\n\\\\nWed 14 | Day\", \"score\": 0.82425016}]', name='tavily_search_results_json', id='3b3b6828-1e10-4199-9c3b-6ac70ae0625d', tool_call_id='call_YKmhqPPE9Py6N74MudQIsIXq', artifact={'query': 'weather in Cusco', 'follow_up_questions': None, 'answer': None, 'images': [], 'results': [{'title': 'Weather in Cusco', 'url': 'https://www.weatherapi.com/', 'content': \"{'location': {'name': 'Cusco', 'region': 'Cusco', 'country': 'Peru', 'lat': -13.5183, 'lon': -71.9781, 'tz_id': 'America/Lima', 'localtime_epoch': 1746716530, 'localtime': '2025-05-08 10:02'}, 'current': {'last_updated_epoch': 1746716400, 'last_updated': '2025-05-08 10:00', 'temp_c': 14.1, 'temp_f': 57.4, 'is_day': 1, 'condition': {'text': 'Partly cloudy', 'icon': '//cdn.weatherapi.com/weather/64x64/day/116.png', 'code': 1003}, 'wind_mph': 3.4, 'wind_kph': 5.4, 'wind_degree': 249, 'wind_dir': 'WSW', 'pressure_mb': 1036.0, 'pressure_in': 30.59, 'precip_mm': 0.01, 'precip_in': 0.0, 'humidity': 63, 'cloud': 75, 'feelslike_c': 14.3, 'feelslike_f': 57.8, 'windchill_c': 12.7, 'windchill_f': 54.9, 'heatindex_c': 12.7, 'heatindex_f': 54.9, 'dewpoint_c': 5.7, 'dewpoint_f': 42.2, 'vis_km': 10.0, 'vis_miles': 6.0, 'uv': 8.5, 'gust_mph': 3.9, 'gust_kph': 6.2}}\", 'score': 0.8713402, 'raw_content': None}, {'url': 'https://weather.com/weather/tenday/l/Ccorca+District+Cusco+Peru?canonicalCityId=9cbd840bc231d18bdebd082ac2a6eba1', 'title': '10-Day Weather Forecast for Ccorca District, Cusco, Peru', 'content': 'recents\\n\\nWeather Forecasts\\n\\nRadar & Maps\\n\\nNews & Media\\n\\nProducts\\n\\nHealth & Wellness\\n\\nAccount\\n\\nLifestyle\\n\\nPrivacy\\n\\nSpecialty Forecasts\\n\\n10 Day Weather-Ccorca District, Cusco, Peru\\n\\nToday\\n\\nThu 08 | Day\\n\\nMore clouds than sun. High 63F. Winds NW at 5 to 10 mph.\\n\\nHeads-up\\n\\nWind Damage, Large Hail Possible Across The South\\n\\nThu 08 | Night\\n\\nSome clouds. Low 41F. Winds light and variable.\\n\\nFri 09\\n\\nFri 09 | Day [...] Partly cloudy skies during the morning hours will become overcast in the afternoon. High 64F. Winds ENE at 5 to 10 mph.\\n\\nFri 09 | Night\\n\\nPartly cloudy skies during the evening will give way to cloudy skies overnight. Low around 40F. Winds light and variable.\\n\\nSat 10\\n\\nSat 10 | Day\\n\\nSunshine and clouds mixed. High 62F. Winds NNE at 5 to 10 mph.\\n\\nSat 10 | Night\\n\\nA few clouds from time to time. Low 39F. Winds NE at 5 to 10 mph.\\n\\nSun 11\\n\\nSun 11 | Day [...] Sunshine and clouds mixed. High 62F. Winds NE at 5 to 10 mph.\\n\\nSun 11 | Night\\n\\nPartly cloudy. Low 39F. Winds light and variable.\\n\\nMon 12\\n\\nMon 12 | Day\\n\\nSunshine and clouds mixed. High 64F. Winds NE at 5 to 10 mph.\\n\\nMon 12 | Night\\n\\nPartly cloudy skies. Low 39F. Winds light and variable.\\n\\nTue 13\\n\\nTue 13 | Day\\n\\nPartly cloudy skies. High near 65F. Winds NNE at 5 to 10 mph.\\n\\nTue 13 | Night\\n\\nPartly cloudy skies. Low 39F. Winds light and variable.\\n\\nWed 14\\n\\nWed 14 | Day', 'score': 0.82425016, 'raw_content': None}], 'response_time': 3.94}),\n",
       "  AIMessage(content=\"The current weather in Cusco is as follows:\\n\\n- **Temperature:** 14.1°C (57.4°F)\\n- **Condition:** Partly cloudy\\n- **Humidity:** 63%\\n- **Wind:** 3.4 mph (5.4 kph) from the WSW\\n- **Pressure:** 1036 mb\\n- **Visibility:** 10 km\\n\\nOverall, it's a pleasant day, though you may want to bring a light jacket due to the cool temperatures. \\n\\nFor more details, you can visit [WeatherAPI](https://www.weatherapi.com/) or view a [10-day forecast](https://weather.com/weather/tenday/l/Ccorca+District+Cusco+Peru?canonicalCityId=9cbd840bc231d18bdebd082ac2a6eba1).\", additional_kwargs={'refusal': None}, response_metadata={'token_usage': {'completion_tokens': 173, 'prompt_tokens': 1184, 'total_tokens': 1357, 'completion_tokens_details': {'accepted_prediction_tokens': 0, 'audio_tokens': 0, 'reasoning_tokens': 0, 'rejected_prediction_tokens': 0}, 'prompt_tokens_details': {'audio_tokens': 0, 'cached_tokens': 0}}, 'model_name': 'gpt-4o-mini-2024-07-18', 'system_fingerprint': 'fp_0392822090', 'id': 'chatcmpl-BUx3KoqIVsCFB3VzM8jUyUlFLWPSn', 'service_tier': 'default', 'finish_reason': 'stop', 'logprobs': None}, id='run--eb97cdb4-aff0-49f0-b946-c1a8e1446b61-0', usage_metadata={'input_tokens': 1184, 'output_tokens': 173, 'total_tokens': 1357, 'input_token_details': {'audio': 0, 'cache_read': 0}, 'output_token_details': {'audio': 0, 'reasoning': 0}})]}"
      ]
     },
     "execution_count": 15,
     "metadata": {},
     "output_type": "execute_result"
    }
   ],
   "source": [
    "# %% [markdown]\n",
    "# Ejecutar main() y probar el grafo\n",
    "\n",
    "# %%\n",
    "graph = await main()\n",
    "display(Image(graph.get_graph().draw_mermaid_png()))\n",
    "\n",
    "# %%\n",
    "agent_response = await graph.ainvoke({\"messages\": \"what's 10 x 2 + 5?\"})\n",
    "for msg in agent_response[\"messages\"]:\n",
    "    print(msg.pretty_print())\n",
    "\n",
    "# %%\n",
    "await graph.ainvoke({\"messages\": \"what's the weather in Cusco?\"})\n"
   ]
  },
  {
   "cell_type": "code",
   "execution_count": 17,
   "metadata": {},
   "outputs": [
    {
     "data": {
      "text/plain": [
       "{'messages': [HumanMessage(content='Hola, que acciones puedo realizar?', additional_kwargs={}, response_metadata={}, id='323dbbf4-f61b-471c-9713-c157c015edf3'),\n",
       "  AIMessage(content='¡Hola! Aquí tienes algunas acciones que puedes realizar:\\n\\n1. **Buscar contratos por RUC**: Si tienes un RUC, puedo ayudarte a encontrar información sobre contratos relacionados.\\n2. **Obtener asistencias de un congresista**: Proporciona el nombre de un congresista, y puedo mostrarte sus asistencias.\\n3. **Buscar votaciones por tema**: Si hay un tema específico que te interesa, puedo buscar votaciones relacionadas con ese tema.\\n4. **Realizar cálculos matemáticos**: Puedo sumar o multiplicar números.\\n\\nSi deseas realizar alguna de estas acciones, solo déjamelo saber y proporciona la información necesaria.', additional_kwargs={'refusal': None}, response_metadata={'token_usage': {'completion_tokens': 135, 'prompt_tokens': 186, 'total_tokens': 321, 'completion_tokens_details': {'accepted_prediction_tokens': 0, 'audio_tokens': 0, 'reasoning_tokens': 0, 'rejected_prediction_tokens': 0}, 'prompt_tokens_details': {'audio_tokens': 0, 'cached_tokens': 0}}, 'model_name': 'gpt-4o-mini-2024-07-18', 'system_fingerprint': 'fp_0392822090', 'id': 'chatcmpl-BUx3SWqssi5iA8OewBYeIPy0cDdGd', 'service_tier': 'default', 'finish_reason': 'stop', 'logprobs': None}, id='run--bf030a4b-b617-4df9-83d0-5035d0cf3bdc-0', usage_metadata={'input_tokens': 186, 'output_tokens': 135, 'total_tokens': 321, 'input_token_details': {'audio': 0, 'cache_read': 0}, 'output_token_details': {'audio': 0, 'reasoning': 0}})]}"
      ]
     },
     "execution_count": 17,
     "metadata": {},
     "output_type": "execute_result"
    }
   ],
   "source": [
    "await graph.ainvoke({\"messages\": \"Hola, que acciones puedo realizar?\"})"
   ]
  },
  {
   "cell_type": "code",
   "execution_count": 18,
   "metadata": {},
   "outputs": [
    {
     "data": {
      "text/plain": [
       "{'messages': [HumanMessage(content=\"what's the weather in Cusco?\", additional_kwargs={}, response_metadata={}, id='74fae21d-0132-4ff3-bc6e-beeec83fc43d'),\n",
       "  AIMessage(content='', additional_kwargs={'tool_calls': [{'id': 'call_RzD8ctp0WdBG5spdKG9VqFZc', 'function': {'arguments': '{\"query\":\"current weather in Cusco\"}', 'name': 'tavily_search_results_json'}, 'type': 'function'}], 'refusal': None}, response_metadata={'token_usage': {'completion_tokens': 23, 'prompt_tokens': 187, 'total_tokens': 210, 'completion_tokens_details': {'accepted_prediction_tokens': 0, 'audio_tokens': 0, 'reasoning_tokens': 0, 'rejected_prediction_tokens': 0}, 'prompt_tokens_details': {'audio_tokens': 0, 'cached_tokens': 0}}, 'model_name': 'gpt-4o-mini-2024-07-18', 'system_fingerprint': 'fp_0392822090', 'id': 'chatcmpl-BUx3huTAFSfUoQNnHhYa6nMfJZDmj', 'service_tier': 'default', 'finish_reason': 'tool_calls', 'logprobs': None}, id='run--808534c3-3b1b-4ca6-9e77-5e9c30dabc53-0', tool_calls=[{'name': 'tavily_search_results_json', 'args': {'query': 'current weather in Cusco'}, 'id': 'call_RzD8ctp0WdBG5spdKG9VqFZc', 'type': 'tool_call'}], usage_metadata={'input_tokens': 187, 'output_tokens': 23, 'total_tokens': 210, 'input_token_details': {'audio': 0, 'cache_read': 0}, 'output_token_details': {'audio': 0, 'reasoning': 0}}),\n",
       "  ToolMessage(content='[{\"title\": \"Weather in Cusco\", \"url\": \"https://www.weatherapi.com/\", \"content\": \"{\\'location\\': {\\'name\\': \\'Cusco\\', \\'region\\': \\'Cusco\\', \\'country\\': \\'Peru\\', \\'lat\\': -13.5183, \\'lon\\': -71.9781, \\'tz_id\\': \\'America/Lima\\', \\'localtime_epoch\\': 1746716530, \\'localtime\\': \\'2025-05-08 10:02\\'}, \\'current\\': {\\'last_updated_epoch\\': 1746716400, \\'last_updated\\': \\'2025-05-08 10:00\\', \\'temp_c\\': 14.1, \\'temp_f\\': 57.4, \\'is_day\\': 1, \\'condition\\': {\\'text\\': \\'Partly cloudy\\', \\'icon\\': \\'//cdn.weatherapi.com/weather/64x64/day/116.png\\', \\'code\\': 1003}, \\'wind_mph\\': 3.4, \\'wind_kph\\': 5.4, \\'wind_degree\\': 249, \\'wind_dir\\': \\'WSW\\', \\'pressure_mb\\': 1036.0, \\'pressure_in\\': 30.59, \\'precip_mm\\': 0.01, \\'precip_in\\': 0.0, \\'humidity\\': 63, \\'cloud\\': 75, \\'feelslike_c\\': 14.3, \\'feelslike_f\\': 57.8, \\'windchill_c\\': 12.7, \\'windchill_f\\': 54.9, \\'heatindex_c\\': 12.7, \\'heatindex_f\\': 54.9, \\'dewpoint_c\\': 5.7, \\'dewpoint_f\\': 42.2, \\'vis_km\\': 10.0, \\'vis_miles\\': 6.0, \\'uv\\': 8.5, \\'gust_mph\\': 3.9, \\'gust_kph\\': 6.2}}\", \"score\": 0.8695398}, {\"title\": \"10-Day Weather Forecast for Cuzco, Cusco, Peru\", \"url\": \"https://weather.com/weather/tenday/l/Cuzco+Cusco+Peru?canonicalCityId=efb96dcf96a1b21b47df836e092de336ea0219ef831a6659041c3fa2a12764df\", \"content\": \"recents\\\\n\\\\nWeather Forecasts\\\\n\\\\nRadar & Maps\\\\n\\\\nNews & Media\\\\n\\\\nProducts\\\\n\\\\nHealth & Wellness\\\\n\\\\nAccount\\\\n\\\\nLifestyle\\\\n\\\\nPrivacy\\\\n\\\\nSpecialty Forecasts\\\\n\\\\n10 Day Weather-Cuzco, Cusco, Peru\\\\n\\\\nToday\\\\n\\\\nThu 08 | Day\\\\n\\\\nCloudy. High 63F. Winds NW at 5 to 10 mph.\\\\n\\\\nHeads-up\\\\n\\\\nWind Damage, Large Hail Possible Across The South\\\\n\\\\nThu 08 | Night\\\\n\\\\nA few clouds. Low 41F. Winds light and variable.\\\\n\\\\nFri 09\\\\n\\\\nFri 09 | Day [...] Partly cloudy skies during the morning hours will become overcast in the afternoon. High 64F. Winds ENE at 5 to 10 mph.\\\\n\\\\nFri 09 | Night\\\\n\\\\nPartly cloudy skies during the evening will give way to cloudy skies overnight. Low around 40F. Winds light and variable.\\\\n\\\\nSat 10\\\\n\\\\nSat 10 | Day\\\\n\\\\nPartly cloudy skies. High 62F. Winds NNE at 5 to 10 mph.\\\\n\\\\nSat 10 | Night\\\\n\\\\nA few clouds from time to time. Low 39F. Winds NE at 5 to 10 mph.\\\\n\\\\nSun 11\\\\n\\\\nSun 11 | Day [...] Intervals of clouds and sunshine. High 62F. Winds NE at 5 to 10 mph.\\\\n\\\\nSun 11 | Night\\\\n\\\\nA few clouds. Low 39F. Winds light and variable.\\\\n\\\\nMon 12\\\\n\\\\nMon 12 | Day\\\\n\\\\nIntervals of clouds and sunshine. High 64F. Winds NE at 5 to 10 mph.\\\\n\\\\nMon 12 | Night\\\\n\\\\nPartly cloudy skies. Low 39F. Winds light and variable.\\\\n\\\\nTue 13\\\\n\\\\nTue 13 | Day\\\\n\\\\nPartly cloudy skies. High around 65F. Winds NNE at 5 to 10 mph.\\\\n\\\\nTue 13 | Night\\\\n\\\\nPartly cloudy. Low 38F. Winds light and variable.\\\\n\\\\nWed 14\\\\n\\\\nWed 14 | Day\", \"score\": 0.80442166}]', name='tavily_search_results_json', id='27061f76-f33a-4c2f-b99e-cdd55fdb4353', tool_call_id='call_RzD8ctp0WdBG5spdKG9VqFZc', artifact={'query': 'current weather in Cusco', 'follow_up_questions': None, 'answer': None, 'images': [], 'results': [{'title': 'Weather in Cusco', 'url': 'https://www.weatherapi.com/', 'content': \"{'location': {'name': 'Cusco', 'region': 'Cusco', 'country': 'Peru', 'lat': -13.5183, 'lon': -71.9781, 'tz_id': 'America/Lima', 'localtime_epoch': 1746716530, 'localtime': '2025-05-08 10:02'}, 'current': {'last_updated_epoch': 1746716400, 'last_updated': '2025-05-08 10:00', 'temp_c': 14.1, 'temp_f': 57.4, 'is_day': 1, 'condition': {'text': 'Partly cloudy', 'icon': '//cdn.weatherapi.com/weather/64x64/day/116.png', 'code': 1003}, 'wind_mph': 3.4, 'wind_kph': 5.4, 'wind_degree': 249, 'wind_dir': 'WSW', 'pressure_mb': 1036.0, 'pressure_in': 30.59, 'precip_mm': 0.01, 'precip_in': 0.0, 'humidity': 63, 'cloud': 75, 'feelslike_c': 14.3, 'feelslike_f': 57.8, 'windchill_c': 12.7, 'windchill_f': 54.9, 'heatindex_c': 12.7, 'heatindex_f': 54.9, 'dewpoint_c': 5.7, 'dewpoint_f': 42.2, 'vis_km': 10.0, 'vis_miles': 6.0, 'uv': 8.5, 'gust_mph': 3.9, 'gust_kph': 6.2}}\", 'score': 0.8695398, 'raw_content': None}, {'url': 'https://weather.com/weather/tenday/l/Cuzco+Cusco+Peru?canonicalCityId=efb96dcf96a1b21b47df836e092de336ea0219ef831a6659041c3fa2a12764df', 'title': '10-Day Weather Forecast for Cuzco, Cusco, Peru', 'content': 'recents\\n\\nWeather Forecasts\\n\\nRadar & Maps\\n\\nNews & Media\\n\\nProducts\\n\\nHealth & Wellness\\n\\nAccount\\n\\nLifestyle\\n\\nPrivacy\\n\\nSpecialty Forecasts\\n\\n10 Day Weather-Cuzco, Cusco, Peru\\n\\nToday\\n\\nThu 08 | Day\\n\\nCloudy. High 63F. Winds NW at 5 to 10 mph.\\n\\nHeads-up\\n\\nWind Damage, Large Hail Possible Across The South\\n\\nThu 08 | Night\\n\\nA few clouds. Low 41F. Winds light and variable.\\n\\nFri 09\\n\\nFri 09 | Day [...] Partly cloudy skies during the morning hours will become overcast in the afternoon. High 64F. Winds ENE at 5 to 10 mph.\\n\\nFri 09 | Night\\n\\nPartly cloudy skies during the evening will give way to cloudy skies overnight. Low around 40F. Winds light and variable.\\n\\nSat 10\\n\\nSat 10 | Day\\n\\nPartly cloudy skies. High 62F. Winds NNE at 5 to 10 mph.\\n\\nSat 10 | Night\\n\\nA few clouds from time to time. Low 39F. Winds NE at 5 to 10 mph.\\n\\nSun 11\\n\\nSun 11 | Day [...] Intervals of clouds and sunshine. High 62F. Winds NE at 5 to 10 mph.\\n\\nSun 11 | Night\\n\\nA few clouds. Low 39F. Winds light and variable.\\n\\nMon 12\\n\\nMon 12 | Day\\n\\nIntervals of clouds and sunshine. High 64F. Winds NE at 5 to 10 mph.\\n\\nMon 12 | Night\\n\\nPartly cloudy skies. Low 39F. Winds light and variable.\\n\\nTue 13\\n\\nTue 13 | Day\\n\\nPartly cloudy skies. High around 65F. Winds NNE at 5 to 10 mph.\\n\\nTue 13 | Night\\n\\nPartly cloudy. Low 38F. Winds light and variable.\\n\\nWed 14\\n\\nWed 14 | Day', 'score': 0.80442166, 'raw_content': None}], 'response_time': 3.75}),\n",
       "  AIMessage(content='The current weather in Cusco is partly cloudy with a temperature of approximately 14.1°C (57.4°F). The wind is blowing from the west-southwest at about 5.4 kph (3.4 mph), and the humidity is around 63%. \\n\\nFor further details on the weather, you can check [this source](https://www.weatherapi.com/).', additional_kwargs={'refusal': None}, response_metadata={'token_usage': {'completion_tokens': 82, 'prompt_tokens': 1197, 'total_tokens': 1279, 'completion_tokens_details': {'accepted_prediction_tokens': 0, 'audio_tokens': 0, 'reasoning_tokens': 0, 'rejected_prediction_tokens': 0}, 'prompt_tokens_details': {'audio_tokens': 0, 'cached_tokens': 0}}, 'model_name': 'gpt-4o-mini-2024-07-18', 'system_fingerprint': 'fp_0392822090', 'id': 'chatcmpl-BUx3mJBjGoRsQDOZ780kWRIncJDF9', 'service_tier': 'default', 'finish_reason': 'stop', 'logprobs': None}, id='run--6f176f94-84ae-4fe0-84f3-096586485b2d-0', usage_metadata={'input_tokens': 1197, 'output_tokens': 82, 'total_tokens': 1279, 'input_token_details': {'audio': 0, 'cache_read': 0}, 'output_token_details': {'audio': 0, 'reasoning': 0}})]}"
      ]
     },
     "execution_count": 18,
     "metadata": {},
     "output_type": "execute_result"
    }
   ],
   "source": [
    "await graph.ainvoke({\"messages\": \"what's the weather in Cusco?\"})"
   ]
  },
  {
   "cell_type": "code",
   "execution_count": null,
   "metadata": {},
   "outputs": [],
   "source": []
  }
 ],
 "metadata": {
  "kernelspec": {
   "display_name": "venv_demcp",
   "language": "python",
   "name": "python3"
  },
  "language_info": {
   "codemirror_mode": {
    "name": "ipython",
    "version": 3
   },
   "file_extension": ".py",
   "mimetype": "text/x-python",
   "name": "python",
   "nbconvert_exporter": "python",
   "pygments_lexer": "ipython3",
   "version": "3.10.17"
  }
 },
 "nbformat": 4,
 "nbformat_minor": 2
}
