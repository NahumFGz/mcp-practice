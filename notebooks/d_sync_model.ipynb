{
 "cells": [
  {
   "cell_type": "markdown",
   "metadata": {},
   "source": [
    "# 1. Test async model"
   ]
  },
  {
   "cell_type": "code",
   "execution_count": 1,
   "metadata": {},
   "outputs": [],
   "source": [
    "from typing import Annotated\n",
    "from typing_extensions import TypedDict\n",
    "\n",
    "# LLMs y mensajes de LangChain\n",
    "from langchain_openai import ChatOpenAI\n",
    "from langchain_core.messages import (\n",
    "    AIMessage,\n",
    "    HumanMessage,\n",
    "    SystemMessage\n",
    ")\n",
    "\n",
    "# Herramienta Tavily (búsqueda)\n",
    "from langchain_community.tools.tavily_search import TavilySearchResults\n",
    "\n",
    "# LangGraph\n",
    "from langgraph.graph import StateGraph, START, END\n",
    "from langgraph.graph.message import add_messages\n",
    "from langgraph.prebuilt import ToolNode, tools_condition\n",
    "from langgraph.checkpoint.memory import MemorySaver\n",
    "\n",
    "# Para visualizar el grafo en un notebook (opcional)\n",
    "from IPython.display import Image, display"
   ]
  },
  {
   "cell_type": "code",
   "execution_count": 2,
   "metadata": {},
   "outputs": [],
   "source": [
    "# =====================================================================\n",
    "# 2) DEFINIR ESTADO\n",
    "# =====================================================================\n",
    "class ChatState(TypedDict):\n",
    "    \"\"\"\n",
    "    - messages: historial (HumanMessage, AIMessage, etc.)\n",
    "    - topic_decision: 'yes'/'no' indica si la última pregunta\n",
    "      se considera 'respondible' en el contexto la transparencia gubernamental\n",
    "    \"\"\"\n",
    "    messages: Annotated[list, add_messages]\n",
    "    topic_decision: str\n",
    "\n",
    "\n",
    "# =====================================================================\n",
    "# 3) CREAR EL StateGraph BUILDER\n",
    "# =====================================================================\n",
    "graph_builder = StateGraph(ChatState)\n",
    "\n",
    "\n",
    "# =====================================================================\n",
    "# 4) DEFINIR LOS DOS MODELOS\n",
    "#    - llm_classifier (temperature=0) para la clasificación\n",
    "#    - llm_main (chat principal, con system_message)\n",
    "# =====================================================================\n",
    "llm_classifier = ChatOpenAI(\n",
    "    model=\"gpt-4o-mini\",  # ejemplificativo\n",
    "    temperature=0.0,\n",
    "    timeout=30\n",
    ")\n",
    "\n",
    "llm_fallback = ChatOpenAI(\n",
    "    model=\"gpt-4o-mini\",\n",
    "    temperature=0.7,\n",
    "    timeout=30\n",
    ")\n",
    "\n",
    "llm_main = ChatOpenAI(\n",
    "    model=\"gpt-4o-mini\",\n",
    "    temperature=0.7,\n",
    "    timeout=30\n",
    ")\n",
    "\n",
    "# Mensaje de sistema para el nodo principal\n",
    "system_prompt = (\n",
    "    \"Eres un asistente conversacional especializado en temas de transparencia gubernamental del Estado peruano. \"\n",
    "    \"Respondes de forma clara, respetuosa y profesional, utilizando fuentes confiables cuando es necesario. \"\n",
    "    \"Puedes ayudar con información sobre contrataciones públicas, empresas proveedoras del Estado, \"\n",
    "    \"asistencia y votaciones del Congreso entre los años 2006 y 2024. \"\n",
    "    \"Tu objetivo es facilitar el acceso a datos públicos relevantes para la ciudadanía.\"\n",
    ")\n",
    "system_message = SystemMessage(content=system_prompt)\n",
    "\n",
    "# Mensaje de sistema para el nodo fallback\n",
    "fallback_prompt = (\n",
    "        \"Eres un asistente cordial y profesional. Aunque no puedes responder preguntas \"\n",
    "        \"fuera del dominio de transparencia gubernamental del Estado peruano, debes explicar \"\n",
    "        \"educadamente cuál es tu función y sugerir temas válidos, como contrataciones públicas o votaciones del Congreso. \"\n",
    "        \"Si el usuario simplemente saluda, responde con cortesía e invita a hacer una consulta sobre esos temas.\"\n",
    "    )\n",
    "fallback_system_message = SystemMessage(content=fallback_prompt)\n",
    "\n",
    "\n",
    "# =====================================================================\n",
    "# 5) HERRAMIENTA TAVILY\n",
    "# =====================================================================\n",
    "tavily_tool = TavilySearchResults(max_results=2)\n",
    "tools = [tavily_tool]\n",
    "\n",
    "# Decirle al llm_main que conoce y puede usar la herramienta\n",
    "llm_with_tools = llm_main.bind_tools(tools)"
   ]
  },
  {
   "cell_type": "code",
   "execution_count": 3,
   "metadata": {},
   "outputs": [],
   "source": [
    "# =====================================================================\n",
    "# 6) NODOS\n",
    "# =====================================================================\n",
    "def topic_classifier_node(state: ChatState):\n",
    "    \"\"\"\n",
    "    Analiza todo el historial y decide si la última pregunta del usuario\n",
    "    se puede responder en el contexto de transparencia gubernamental.\n",
    "\n",
    "    Devuelve {\"topic_decision\": \"yes\"} o {\"topic_decision\": \"no\"}.\n",
    "    \"\"\"\n",
    "    if not state[\"messages\"]:\n",
    "        return {\"topic_decision\": \"no\"}\n",
    "\n",
    "    conversation_text = \"\"\n",
    "    for msg in state[\"messages\"]:\n",
    "        if isinstance(msg, HumanMessage):\n",
    "            conversation_text += f\"Usuario: {msg.content}\\n\"\n",
    "        elif isinstance(msg, AIMessage):\n",
    "            conversation_text += f\"Asistente: {msg.content}\\n\"\n",
    "\n",
    "    classification_prompt = f\"\"\"\n",
    "Eres un verificador que decide si la última pregunta del usuario puede\n",
    "ser respondida en el contexto de transparencia gubernamental del Estado\n",
    "peruano, considerando toda la conversación previa.\n",
    "\n",
    "- Si la conversación está relacionada con contrataciones públicas, \n",
    "  empresas proveedoras del Estado, o actividad parlamentaria (asistencia,\n",
    "  votaciones, licencias), responde 'yes'.\n",
    "- Si no está relacionada con eso, responde 'no'.\n",
    "\n",
    "Responde únicamente con 'yes' o 'no'.\n",
    "\n",
    "--- CONVERSACIÓN ---\n",
    "{conversation_text}\n",
    "--- FIN ---\n",
    "¿Se puede responder esta última pregunta dentro del contexto de transparencia gubernamental?\n",
    "\"\"\"\n",
    "\n",
    "    decision_msg = llm_classifier.invoke([HumanMessage(content=classification_prompt)])\n",
    "    decision_str = decision_msg.content.strip().lower()\n",
    "\n",
    "    if decision_str.startswith(\"y\"):\n",
    "        return {\"topic_decision\": \"yes\"}\n",
    "    else:\n",
    "        return {\"topic_decision\": \"no\"}\n",
    "\n",
    "\n",
    "def route_topic(state: ChatState) -> str:\n",
    "    \"\"\"\n",
    "    Lee state[\"topic_decision\"] y retorna 'chatbot' o 'fallback'.\n",
    "    \"\"\"\n",
    "    return \"chatbot\" if state.get(\"topic_decision\", \"no\").startswith(\"y\") else \"fallback\"\n",
    "\n",
    "\n",
    "def chatbot_node(state: ChatState):\n",
    "    \"\"\"\n",
    "    Nodo principal:\n",
    "    - Usa todo el historial + system_message\n",
    "    - Invoca llm_with_tools (con acceso a herramientas como búsqueda o consultas estructuradas).\n",
    "    \"\"\"\n",
    "    messages = [system_message] + state[\"messages\"]\n",
    "    response = llm_with_tools.invoke(messages)\n",
    "    return {\"messages\": [response]}\n",
    "\n",
    "def fallback_node(state: ChatState):\n",
    "    \"\"\"\n",
    "    Usa un modelo especializado para responder amablemente cuando la consulta\n",
    "    está fuera de dominio. Informa al usuario sobre el propósito del asistente.\n",
    "    \"\"\"\n",
    "    messages = [fallback_system_message] + state[\"messages\"]\n",
    "    response = llm_fallback.invoke(messages)\n",
    "    return {\"messages\": [response]}\n",
    "\n",
    "tool_node = ToolNode(tools=tools)"
   ]
  },
  {
   "cell_type": "code",
   "execution_count": 4,
   "metadata": {},
   "outputs": [
    {
     "data": {
      "text/plain": [
       "<langgraph.graph.state.StateGraph at 0x10a149c00>"
      ]
     },
     "execution_count": 4,
     "metadata": {},
     "output_type": "execute_result"
    }
   ],
   "source": [
    "# =====================================================================\n",
    "# 7) AÑADIR AL BUILDER\n",
    "# =====================================================================\n",
    "graph_builder.add_node(\"topic_classifier\", topic_classifier_node)\n",
    "graph_builder.add_node(\"chatbot\", chatbot_node)\n",
    "graph_builder.add_node(\"fallback\", fallback_node)\n",
    "graph_builder.add_node(\"tools\", tool_node)"
   ]
  },
  {
   "cell_type": "code",
   "execution_count": 5,
   "metadata": {},
   "outputs": [
    {
     "data": {
      "text/plain": [
       "<langgraph.graph.state.StateGraph at 0x10a149c00>"
      ]
     },
     "execution_count": 5,
     "metadata": {},
     "output_type": "execute_result"
    }
   ],
   "source": [
    "# =====================================================================\n",
    "# 8) CONECTAR NODOS\n",
    "# =====================================================================\n",
    "# - START -> topic_classifier\n",
    "graph_builder.add_edge(START, \"topic_classifier\")\n",
    "\n",
    "# - topic_classifier -> route_topic -> (chatbot | fallback)\n",
    "graph_builder.add_conditional_edges(\n",
    "    \"topic_classifier\",\n",
    "    route_topic,\n",
    "    {\"chatbot\": \"chatbot\", \"fallback\": \"fallback\"},\n",
    ")\n",
    "\n",
    "# - chatbot -> tools_condition -> (tools o END)\n",
    "graph_builder.add_conditional_edges(\"chatbot\", tools_condition)\n",
    "graph_builder.add_edge(\"tools\", \"chatbot\")\n",
    "\n",
    "# - fallback -> END\n",
    "graph_builder.add_edge(\"fallback\", END)\n"
   ]
  },
  {
   "cell_type": "code",
   "execution_count": 6,
   "metadata": {},
   "outputs": [],
   "source": [
    "# =====================================================================\n",
    "# 9) COMPILAR CON MemorySaver (almacena historial)\n",
    "# =====================================================================\n",
    "memory_saver = MemorySaver()\n",
    "graph = graph_builder.compile(checkpointer=memory_saver)\n"
   ]
  },
  {
   "cell_type": "code",
   "execution_count": 7,
   "metadata": {},
   "outputs": [
    {
     "data": {
      "image/png": "[encoded data removed]",
      "text/plain": [
       "<IPython.core.display.Image object>"
      ]
     },
     "metadata": {},
     "output_type": "display_data"
    }
   ],
   "source": [
    "# =====================================================================\n",
    "# 10) VISUALIZAR GRAFO (EN NOTEBOOK, OPCIONAL)\n",
    "# =====================================================================\n",
    "try:\n",
    "    display(Image(graph.get_graph().draw_mermaid_png()))\n",
    "except Exception:\n",
    "    print(graph.get_graph().draw_ascii())"
   ]
  },
  {
   "cell_type": "code",
   "execution_count": 11,
   "metadata": {},
   "outputs": [],
   "source": [
    "# =====================================================================\n",
    "# 11) FUNCIÓN DE BUCLE DE CONVERSACIÓN\n",
    "# =====================================================================\n",
    "def run_chatbot():\n",
    "    \"\"\"\n",
    "    Loop interactivo. \n",
    "    Se detiene con 'salir', 'exit', 'quit'.\n",
    "    Usamos 'rappi-classifier-demo' como thread_id.\n",
    "    \"\"\"\n",
    "    config = {\"configurable\": {\"thread_id\": \"rappi-classifier-demo\"}}\n",
    "\n",
    "    print(\"¡Bienvenido al Chatbot de RappiPay!\\n\"\n",
    "          \"Escribe 'salir' para terminar.\\n\")\n",
    "\n",
    "    while True:\n",
    "        user_input = input(\"Usuario: \")\n",
    "        if user_input.lower() in [\"salir\", \"quit\", \"exit\"]:\n",
    "            print(\"Saliendo... ¡Hasta luego!\")\n",
    "            break\n",
    "\n",
    "        events = graph.stream(\n",
    "            {\"messages\": [{\"role\": \"user\", \"content\": user_input}]},\n",
    "            config,\n",
    "            stream_mode=\"values\"\n",
    "        )\n",
    "        # Mostrar la última respuesta\n",
    "        for event in events:\n",
    "            if \"messages\" in event:\n",
    "                msg = event[\"messages\"][-1]\n",
    "                print(\"Asistente:\", msg.content)"
   ]
  },
  {
   "cell_type": "code",
   "execution_count": 12,
   "metadata": {},
   "outputs": [
    {
     "name": "stdout",
     "output_type": "stream",
     "text": [
      "¡Bienvenido al Chatbot de RappiPay!\n",
      "Escribe 'salir' para terminar.\n",
      "\n",
      "Asistente: hola\n",
      "Asistente: hola\n",
      "Asistente: ¡Hola de nuevo! Si tienes alguna pregunta o consulta sobre temas de transparencia gubernamental en el Estado peruano, como contrataciones públicas o votaciones del Congreso, no dudes en decírmelo. Estoy aquí para ayudarte.\n",
      "Asistente: quiero chocolate\n",
      "Asistente: quiero chocolate\n",
      "Asistente: Entiendo que te gustaría disfrutar de chocolate, pero mi función es ayudarte con preguntas relacionadas con la transparencia gubernamental del Estado peruano. Si tienes alguna consulta sobre temas como contrataciones públicas o votaciones del Congreso, estaré encantado de asistirte.\n",
      "Asistente: puedes darme las noticias del congresista muñante de esta semana\n",
      "Asistente: puedes darme las noticias del congresista muñante de esta semana\n",
      "Asistente: \n",
      "Asistente: [{\"title\": \"Últimas noticias de Alejandro Muñante hoy Sábado 3 mayo\", \"url\": \"https://rpp.pe/noticias/alejandro-munante\", \"content\": \"Muñante califica de \\\"narrativa ruin\\\" contra el Congreso críticas a ley que modificó tipificación de crimen organizado\\n\\nCongreso\\n\\nMuñante cuestionó repartición de comisiones ordinarias y denunció posible “instrumentalización”\\n\\nCongreso\\n\\nCongresistas opinaron sobre retorno a comisión de dictamen que impide postular a sentenciados por delitos graves\\n\\nCongreso\\n\\nAlejandro Muñante denunció en Ética a Pasión Dávila y Flor Pablo, acusados de promover partidos políticos en semana de representación [...] Alejandro Muñante\\n\\nCongreso\\n\\nAlejandro Muñante respalda reconsideración para inhabilitar a Vizcarra y Sagasti: \\\"Solo faltaron 5 votos\\\"\\n\\nCongreso\\n\\nMuñante dice que restitución de la detención preliminar se debatirá en un pleno temático la primera semana de marzo\\n\\nCongreso\\n\\nMuñante dice que el Congreso aprobó “por error” la eliminación de la detención preliminar en casos de no flagrancia\\n\\nCongreso [...] Muñante señala “intención subalterna” del Ejecutivo por demora en observación de ley que restituye detención preliminar\\n\\nCongreso\\n\\n“Lo que todo el mundo sabe”: Muñante sobre presunta repartición de altos cargos entre Fuerza Popular y APP\\n\\nCongreso\\n\\nMuñante sobre presunta red de prostitución en el Congreso: \\\"Se hará un control exhaustivo de todas las contrataciones\\\"\\n\\nCongreso\\n\\nPresidente de Confiep: \\\"Es importante no aislar al sector privado del financiamiento de partidos\\\"\\n\\nCongreso\", \"score\": 0.8156003}, {\"title\": \"Noticias sobre Alejandro Muñante hoy martes 29 de abril\", \"url\": \"https://elcomercio.pe/noticias/alejandro-munante/\", \"content\": \"El congresista negó haber presentado una denuncia ante una fiscalía del Cercado de Lima y dijo que solo ha pedido que se declare la ilegalidad de...\\n\\n26/06/2024 _ 19:26\\n\\nAlejandro Muñante es el nuevo vocero de la bancada de Renovación Popular\\n\\nNoelia Herrera Medina fue elegida primera vocera suplente, mientras que Jorge Zeballos Aponte fue designado segundo vocero suplente.\\n\\n17/06/2024 _ 12:35\\n\\nEl Congreso cierra la legislatura: Estos los principales temas que quedaron sin resolver [...] También plantea que se incremente el límite de los aportes que personas naturales pueden realizar a las organizaciones políticas, para que llegue...\\n\\n06/11/2024 _ 16:31\\n\\nCongresista Alejandro Muñante propone elevar el financiamiento privado en las organizaciones políticas\\n\\nIniciativa también establece el monto mínimo de aportes que puede recibir un candidato para una campaña en el caso de elecciones congresales, reg...\\n\\n30/10/2024 _ 10:48 [...] La Comisión Permanente permanecerá en funciones hasta el 19 de julio para evaluar dictámenes, pero tiene restricciones.\\n\\n12/06/2024 _ 10:32\\n\\nCongreso: dictamen que impide postular a condenados por asesinato fue incluido en agenda de esta semana\\n\\nTexto de reforma constitucional fue incluido en la agenda priorizada de las últimas sesiones plenarias de este legislatura que concluye el 15 de ...\\n\\nanterior\\n\\nsiguiente\", \"score\": 0.7559439}]\n",
      "Asistente: Aquí tienes un resumen de las últimas noticias sobre el congresista Alejandro Muñante esta semana:\n",
      "\n",
      "1. **Críticas a la Ley de Crimen Organizado**: Muñante ha calificado de \"narrativa ruin\" las críticas hacia el Congreso relacionadas con la modificación de la tipificación del crimen organizado.\n",
      "\n",
      "2. **Repartición de Comisiones**: Ha cuestionado la repartición de las comisiones ordinarias y ha denunciado una posible “instrumentalización” política.\n",
      "\n",
      "3. **Inhabilitación de Ex Presidentes**: Muñante ha respaldado una reconsideración para inhabilitar a los expresidentes Martín Vizcarra y Francisco Sagasti, mencionando que solo faltaron 5 votos para su aprobación.\n",
      "\n",
      "4. **Detención Preliminar**: Ha señalado que la restitución de la detención preliminar se debatirá en un pleno temático la primera semana de marzo, y ha expresado que el Congreso aprobó “por error” la eliminación de esta medida en casos de no flagrancia.\n",
      "\n",
      "5. **Denuncias en Ética**: Muñante ha presentado denuncias ante la Comisión de Ética contra otros congresistas, acusándolos de promover partidos políticos en semanas de representación.\n",
      "\n",
      "Puedes leer más sobre estos temas en las siguientes fuentes:\n",
      "- [RPP - Alejandro Muñante](https://rpp.pe/noticias/alejandro-munante)\n",
      "- [El Comercio - Alejandro Muñante](https://elcomercio.pe/noticias/alejandro-munante/)\n",
      "\n",
      "Si necesitas más información o alguna otra consulta, no dudes en decírmelo.\n",
      "Saliendo... ¡Hasta luego!\n"
     ]
    }
   ],
   "source": [
    "run_chatbot()"
   ]
  },
  {
   "cell_type": "code",
   "execution_count": null,
   "metadata": {},
   "outputs": [],
   "source": []
  }
 ],
 "metadata": {
  "kernelspec": {
   "display_name": "venv_mcptesis",
   "language": "python",
   "name": "python3"
  },
  "language_info": {
   "codemirror_mode": {
    "name": "ipython",
    "version": 3
   },
   "file_extension": ".py",
   "mimetype": "text/x-python",
   "name": "python",
   "nbconvert_exporter": "python",
   "pygments_lexer": "ipython3",
   "version": "3.10.17"
  }
 },
 "nbformat": 4,
 "nbformat_minor": 2
}
