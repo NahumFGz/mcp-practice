{
 "cells": [
  {
   "cell_type": "code",
   "execution_count": 6,
   "metadata": {},
   "outputs": [],
   "source": [
    "# 🧠 Paso 1: Importar librerías necesarias\n",
    "from IPython.display import display, Markdown\n",
    "from IPython.display import Markdown, display\n",
    "from langchain_core.messages import AIMessage, HumanMessage, ToolMessage\n",
    "from langchain_mcp_adapters.client import MultiServerMCPClient\n",
    "from langchain_openai import ChatOpenAI\n",
    "from langgraph.prebuilt import create_react_agent\n",
    "import json\n",
    "\n",
    "\n",
    "# 🔑 Paso 2: Configurar el modelo\n",
    "model = ChatOpenAI(model=\"gpt-4o-mini\")  # Asegúrate de tener OPENAI_API_KEY exportada"
   ]
  },
  {
   "cell_type": "code",
   "execution_count": 7,
   "metadata": {},
   "outputs": [],
   "source": [
    "# 🔗 Paso 3: Crear el cliente y conectar al servidor MCP vía SSE\n",
    "\n",
    "async def crear_agente():\n",
    "    client = MultiServerMCPClient({\n",
    "        \"transparencia\": {\n",
    "            \"url\": \"http://localhost:8000/sse\",\n",
    "            \"transport\": \"sse\",\n",
    "        }\n",
    "    })\n",
    "    await client.__aenter__()\n",
    "    tools = client.get_tools()\n",
    "    agent = create_react_agent(model, tools)\n",
    "    return client, agent\n",
    "\n",
    "client, agent = await crear_agente()"
   ]
  },
  {
   "cell_type": "code",
   "execution_count": 8,
   "metadata": {},
   "outputs": [],
   "source": [
    "# 🧾 Paso 4: Realizar consultas de ejemplo\n",
    "\n",
    "async def preguntar(pregunta: str):\n",
    "    respuesta = await agent.ainvoke({\"messages\": pregunta})\n",
    "    display(Markdown(f\"**Pregunta:** {pregunta}\\n\\n**Respuesta:** {respuesta}\"))"
   ]
  },
  {
   "cell_type": "code",
   "execution_count": 14,
   "metadata": {},
   "outputs": [],
   "source": [
    "def mostrar_respuesta_struct(respuesta):\n",
    "    \"\"\"\n",
    "    Muestra los mensajes estructurados y las herramientas llamadas por el agente.\n",
    "    \"\"\"\n",
    "    if not isinstance(respuesta, dict) or \"messages\" not in respuesta:\n",
    "        display(Markdown(\"⚠️ **Respuesta no válida o sin mensajes.**\"))\n",
    "        return\n",
    "\n",
    "    mensajes = respuesta[\"messages\"]\n",
    "\n",
    "    for m in mensajes:\n",
    "        if isinstance(m, HumanMessage):\n",
    "            display(Markdown(f\"**👤 Usuario:** {m.content}\"))\n",
    "\n",
    "        elif isinstance(m, AIMessage):\n",
    "            # Mostrar tool_calls si existen\n",
    "            tool_calls = m.additional_kwargs.get(\"tool_calls\", [])\n",
    "            for call in tool_calls:\n",
    "                tool_name = call.get(\"function\", {}).get(\"name\")\n",
    "                args_str = call.get(\"function\", {}).get(\"arguments\")\n",
    "                try:\n",
    "                    args = json.loads(args_str)\n",
    "                    args_fmt = json.dumps(args, indent=2, ensure_ascii=False)\n",
    "                except Exception:\n",
    "                    args_fmt = args_str\n",
    "                display(Markdown(f\"**🧩 Tool Call:** `{tool_name}` con argumentos:\\n```json\\n{args_fmt}\\n```\"))\n",
    "\n",
    "            # Mostrar contenido del modelo (si no está vacío)\n",
    "            if m.content.strip():\n",
    "                display(Markdown(f\"**🤖 Modelo:** {m.content}\"))\n",
    "\n",
    "        elif isinstance(m, ToolMessage):\n",
    "            try:\n",
    "                data = json.loads(m.content)\n",
    "                formatted = json.dumps(data, indent=2, ensure_ascii=False)\n",
    "                display(Markdown(f\"**🛠️ Tool Response (`{m.name}`):**\\n```json\\n{formatted}\\n```\"))\n",
    "            except json.JSONDecodeError:\n",
    "                display(Markdown(f\"**🛠️ Tool Response (`{m.name}`):**\\n{m.content}\"))"
   ]
  },
  {
   "cell_type": "code",
   "execution_count": 15,
   "metadata": {},
   "outputs": [
    {
     "data": {
      "text/markdown": [
       "**👤 Usuario:** ¿Cuántos contratos tiene la empresa con RUC 20512345678?"
      ],
      "text/plain": [
       "<IPython.core.display.Markdown object>"
      ]
     },
     "metadata": {},
     "output_type": "display_data"
    },
    {
     "data": {
      "text/markdown": [
       "**🧩 Tool Call:** `buscar_contratos_por_ruc` con argumentos:\n",
       "```json\n",
       "{\n",
       "  \"ruc\": \"20512345678\"\n",
       "}\n",
       "```"
      ],
      "text/plain": [
       "<IPython.core.display.Markdown object>"
      ]
     },
     "metadata": {},
     "output_type": "display_data"
    },
    {
     "data": {
      "text/markdown": [
       "**🛠️ Tool Response (`buscar_contratos_por_ruc`):**\n",
       "```json\n",
       "{\n",
       "  \"ruc\": \"20512345678\",\n",
       "  \"total_contratos\": 42,\n",
       "  \"monto_total\": 1250000.5,\n",
       "  \"entidades_top\": [\n",
       "    \"MINSA\",\n",
       "    \"Gobierno Regional de Lima\"\n",
       "  ]\n",
       "}\n",
       "```"
      ],
      "text/plain": [
       "<IPython.core.display.Markdown object>"
      ]
     },
     "metadata": {},
     "output_type": "display_data"
    },
    {
     "data": {
      "text/markdown": [
       "**🤖 Modelo:** La empresa con RUC 20512345678 tiene un total de 42 contratos. El monto total de estos contratos asciende a 1,250,000.5 soles. Las entidades principales con las que tiene contratos son el MINSA y el Gobierno Regional de Lima."
      ],
      "text/plain": [
       "<IPython.core.display.Markdown object>"
      ]
     },
     "metadata": {},
     "output_type": "display_data"
    }
   ],
   "source": [
    "respuesta = await agent.ainvoke({\"messages\": \"¿Cuántos contratos tiene la empresa con RUC 20512345678?\"})\n",
    "mostrar_respuesta_struct(respuesta)"
   ]
  },
  {
   "cell_type": "code",
   "execution_count": 16,
   "metadata": {},
   "outputs": [
    {
     "data": {
      "text/markdown": [
       "**👤 Usuario:** ¿Cuántos contratos tiene la empresa con RUC 20512345678? y con que entidades tiene contratos?"
      ],
      "text/plain": [
       "<IPython.core.display.Markdown object>"
      ]
     },
     "metadata": {},
     "output_type": "display_data"
    },
    {
     "data": {
      "text/markdown": [
       "**🧩 Tool Call:** `buscar_contratos_por_ruc` con argumentos:\n",
       "```json\n",
       "{\n",
       "  \"ruc\": \"20512345678\"\n",
       "}\n",
       "```"
      ],
      "text/plain": [
       "<IPython.core.display.Markdown object>"
      ]
     },
     "metadata": {},
     "output_type": "display_data"
    },
    {
     "data": {
      "text/markdown": [
       "**🛠️ Tool Response (`buscar_contratos_por_ruc`):**\n",
       "```json\n",
       "{\n",
       "  \"ruc\": \"20512345678\",\n",
       "  \"total_contratos\": 42,\n",
       "  \"monto_total\": 1250000.5,\n",
       "  \"entidades_top\": [\n",
       "    \"MINSA\",\n",
       "    \"Gobierno Regional de Lima\"\n",
       "  ]\n",
       "}\n",
       "```"
      ],
      "text/plain": [
       "<IPython.core.display.Markdown object>"
      ]
     },
     "metadata": {},
     "output_type": "display_data"
    },
    {
     "data": {
      "text/markdown": [
       "**🤖 Modelo:** La empresa con RUC 20512345678 tiene un total de 42 contratos. Las principales entidades con las que tiene contratos son:\n",
       "\n",
       "- MINSA\n",
       "- Gobierno Regional de Lima\n",
       "\n",
       "El monto total de los contratos asciende a 1,250,000.5 soles."
      ],
      "text/plain": [
       "<IPython.core.display.Markdown object>"
      ]
     },
     "metadata": {},
     "output_type": "display_data"
    }
   ],
   "source": [
    "respuesta = await agent.ainvoke({\"messages\": \"¿Cuántos contratos tiene la empresa con RUC 20512345678? y con que entidades tiene contratos?\"})\n",
    "mostrar_respuesta_struct(respuesta)"
   ]
  },
  {
   "cell_type": "code",
   "execution_count": 17,
   "metadata": {},
   "outputs": [
    {
     "data": {
      "text/markdown": [
       "**👤 Usuario:** Hola, que acciones puedes realizar?"
      ],
      "text/plain": [
       "<IPython.core.display.Markdown object>"
      ]
     },
     "metadata": {},
     "output_type": "display_data"
    },
    {
     "data": {
      "text/markdown": [
       "**🤖 Modelo:** Hola, puedo ayudarte con varias tareas relacionadas con la búsqueda de información. Aquí hay algunas acciones que puedo realizar:\n",
       "\n",
       "1. **Buscar contratos por RUC**: Puedo encontrar información sobre contratos asociados a un número de RUC específico.\n",
       "2. **Obtener asistencias de congresistas**: Puedo proporcionarte información sobre las asistencias de un congresista en particular.\n",
       "3. **Buscar votaciones por tema**: Puedo buscar y mostrar información sobre votaciones relacionadas con un tema específico.\n",
       "\n",
       "Si necesitas alguno de estos servicios o tienes otra consulta, ¡háznoslo saber!"
      ],
      "text/plain": [
       "<IPython.core.display.Markdown object>"
      ]
     },
     "metadata": {},
     "output_type": "display_data"
    }
   ],
   "source": [
    "respuesta = await agent.ainvoke({\"messages\": \"Hola, que acciones puedes realizar?\"})\n",
    "mostrar_respuesta_struct(respuesta)"
   ]
  },
  {
   "cell_type": "code",
   "execution_count": 18,
   "metadata": {},
   "outputs": [
    {
     "data": {
      "text/markdown": [
       "**👤 Usuario:** Recuerdas mi pregunta anterior?"
      ],
      "text/plain": [
       "<IPython.core.display.Markdown object>"
      ]
     },
     "metadata": {},
     "output_type": "display_data"
    },
    {
     "data": {
      "text/markdown": [
       "**🤖 Modelo:** No tengo la capacidad de recordar conversaciones anteriores. Pero estoy aquí para ayudarte. ¿Cuál es tu pregunta?"
      ],
      "text/plain": [
       "<IPython.core.display.Markdown object>"
      ]
     },
     "metadata": {},
     "output_type": "display_data"
    }
   ],
   "source": [
    "respuesta = await agent.ainvoke({\"messages\": \"Recuerdas mi pregunta anterior?\"})\n",
    "mostrar_respuesta_struct(respuesta)"
   ]
  },
  {
   "cell_type": "code",
   "execution_count": null,
   "metadata": {},
   "outputs": [],
   "source": []
  }
 ],
 "metadata": {
  "kernelspec": {
   "display_name": "venv_demosmcp",
   "language": "python",
   "name": "python3"
  },
  "language_info": {
   "codemirror_mode": {
    "name": "ipython",
    "version": 3
   },
   "file_extension": ".py",
   "mimetype": "text/x-python",
   "name": "python",
   "nbconvert_exporter": "python",
   "pygments_lexer": "ipython3",
   "version": "3.10.17"
  }
 },
 "nbformat": 4,
 "nbformat_minor": 2
}
