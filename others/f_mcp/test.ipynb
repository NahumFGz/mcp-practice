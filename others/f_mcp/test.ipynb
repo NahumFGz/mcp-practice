{
 "cells": [
  {
   "cell_type": "code",
   "execution_count": 1,
   "metadata": {},
   "outputs": [],
   "source": [
    "# 📌 Celda 1: Imports\n",
    "from langchain.chat_models import init_chat_model\n",
    "from langchain_mcp_adapters.client import MultiServerMCPClient\n",
    "from langgraph.graph import START, MessagesState, StateGraph\n",
    "from langgraph.prebuilt import ToolNode, tools_condition\n"
   ]
  },
  {
   "cell_type": "code",
   "execution_count": 2,
   "metadata": {},
   "outputs": [],
   "source": [
    "# 📌 Celda 2: Definición de la clase procesadora\n",
    "class NotebookMCPClient:\n",
    "    def __init__(self):\n",
    "        self.server_configs = {\n",
    "            \"assistance\": {\"url\": \"http://localhost:9001/sse\", \"transport\": \"sse\"},\n",
    "            \"contracting\": {\"url\": \"http://localhost:9002/sse\", \"transport\": \"sse\"},\n",
    "            \"voting\": {\"url\": \"http://localhost:9003/sse\", \"transport\": \"sse\"},\n",
    "        }\n",
    "        self.client = None\n",
    "        self.graph = None\n",
    "        self.model = init_chat_model(\"openai:gpt-4.1\")\n",
    "\n",
    "    async def start(self):\n",
    "        self.client = MultiServerMCPClient(self.server_configs)\n",
    "        await self.client.__aenter__()\n",
    "\n",
    "        tools = self.client.get_tools()\n",
    "        print(f\"🔧 Herramientas cargadas: {[t.name for t in tools]}\")\n",
    "\n",
    "        def call_model(state: MessagesState):\n",
    "            response = self.model.bind_tools(tools).invoke(state[\"messages\"])\n",
    "            return {\"messages\": response}\n",
    "\n",
    "        builder = StateGraph(MessagesState)\n",
    "        builder.add_node(\"call_model\", call_model)\n",
    "        builder.add_node(\"tools\", ToolNode(tools))\n",
    "        builder.add_edge(START, \"call_model\")\n",
    "        builder.add_conditional_edges(\"call_model\", tools_condition)\n",
    "        builder.add_edge(\"tools\", \"call_model\")\n",
    "        self.graph = builder.compile()\n",
    "\n",
    "    async def stop(self):\n",
    "        if self.client:\n",
    "            await self.client.__aexit__(None, None, None)\n",
    "\n",
    "    async def run(self, pregunta: str):\n",
    "        if not self.graph:\n",
    "            raise RuntimeError(\"Primero debes ejecutar `await client.start()`\")\n",
    "        return await self.graph.ainvoke({\"messages\": pregunta})\n"
   ]
  },
  {
   "cell_type": "code",
   "execution_count": 3,
   "metadata": {},
   "outputs": [
    {
     "name": "stdout",
     "output_type": "stream",
     "text": [
      "🔧 Herramientas cargadas: ['obtener_asistencias_congresista', 'obtener_ranking_asistencia', 'listar_faltas_recurrentes', 'obtener_historial_asistencia', 'obtener_estadisticas_generales_asistencia', 'buscar_contratos_por_ruc', 'listar_contratos_recientes', 'obtener_entidades_top_por_proveedor', 'consultar_estado_proveedor', 'clasificar_contratos_por_categoria', 'buscar_votaciones_por_tema', 'resumen_votaciones_congresista', 'obtener_votaciones_agrupadas_por_tema', 'obtener_participacion_votaciones', 'identificar_votos_clave_por_tema']\n"
     ]
    }
   ],
   "source": [
    "# 📌 Celda 3: Crear la instancia y levantarla\n",
    "client = NotebookMCPClient()\n",
    "await client.start()"
   ]
  },
  {
   "cell_type": "code",
   "execution_count": 4,
   "metadata": {},
   "outputs": [],
   "source": [
    "# 📌 Celda 4: Función de utilidad para preguntar\n",
    "async def preguntar_a_mcp(pregunta: str):\n",
    "    respuesta = await client.run(pregunta)\n",
    "    print(\"🧠 Respuesta:\")\n",
    "    for mensaje in respuesta[\"messages\"]:\n",
    "        print(\"-\", mensaje.content)\n"
   ]
  },
  {
   "cell_type": "code",
   "execution_count": 5,
   "metadata": {},
   "outputs": [
    {
     "name": "stdout",
     "output_type": "stream",
     "text": [
      "🧠 Respuesta:\n",
      "- ¿Cuántos contratos tiene la empresa con RUC 123456789?\n",
      "- \n",
      "- {\n",
      "  \"ruc\": \"123456789\",\n",
      "  \"total_contratos\": 42,\n",
      "  \"monto_total\": 1250000.5,\n",
      "  \"entidades_top\": [\n",
      "    \"MINSA\",\n",
      "    \"Gobierno Regional de Lima\",\n",
      "    \"MTC\"\n",
      "  ]\n",
      "}\n",
      "- La empresa con RUC 123456789 tiene un total de 42 contratos con el Estado.\n"
     ]
    }
   ],
   "source": [
    "# 📌 Celda 5: Ejemplo de uso\n",
    "await preguntar_a_mcp(\"¿Cuántos contratos tiene la empresa con RUC 123456789?\")"
   ]
  },
  {
   "cell_type": "code",
   "execution_count": 7,
   "metadata": {},
   "outputs": [
    {
     "name": "stdout",
     "output_type": "stream",
     "text": [
      "🧠 Respuesta:\n",
      "- Que herramientas tienes disponibles?\n",
      "- Actualmente, tengo acceso a varias herramientas que me permiten obtener información sobre la actividad parlamentaria y la contratación con el Estado peruano. Algunas de las principales funcionalidades que puedo ofrecer son:\n",
      "\n",
      "1. Asistencias y Faltas en el Congreso:\n",
      "- Consultar el resumen de asistencias, faltas y licencias de cada congresista.\n",
      "- Ranking de congresistas con mejor asistencia.\n",
      "- Listar a congresistas con altas tasas de faltas.\n",
      "- Estadísticas generales sobre la asistencia en el Congreso.\n",
      "- Historial detallado de la asistencia de congresistas por legislaturas.\n",
      "\n",
      "2. Contratos con el Estado Peruano:\n",
      "- Buscar y listar contratos de proveedores del Estado usando su RUC.\n",
      "- Ver los contratos más recientes de un proveedor.\n",
      "- Consultar si un proveedor está habilitado para contratar con el Estado.\n",
      "- Analizar los contratos por categoría (bienes, servicios, obras).\n",
      "- Ver las entidades estatales que más han contratado con un proveedor.\n",
      "\n",
      "3. Votaciones en el Congreso:\n",
      "- Buscar votaciones relacionadas con temas específicos.\n",
      "- Resumir estadísticas de votaciones de cada congresista.\n",
      "- Ver la participación de congresistas en votaciones.\n",
      "- Identificar congresistas que fueron clave en votaciones importantes.\n",
      "- Agrupar y resumir votaciones por temas legislativos.\n",
      "\n",
      "¿Te gustaría información sobre algún tema específico o deseas que te explique con más detalle cómo usar alguna de estas herramientas?\n"
     ]
    }
   ],
   "source": [
    "await preguntar_a_mcp(\"Que herramientas tienes disponibles?\")"
   ]
  },
  {
   "cell_type": "code",
   "execution_count": 9,
   "metadata": {},
   "outputs": [],
   "source": [
    "# 📌 Celda 6: Cierre (opcional al terminar) --No comaptible con Jupyter\n",
    "# await client.stop()¿"
   ]
  },
  {
   "cell_type": "code",
   "execution_count": null,
   "metadata": {},
   "outputs": [],
   "source": []
  }
 ],
 "metadata": {
  "kernelspec": {
   "display_name": "venv_mcptesis",
   "language": "python",
   "name": "python3"
  },
  "language_info": {
   "codemirror_mode": {
    "name": "ipython",
    "version": 3
   },
   "file_extension": ".py",
   "mimetype": "text/x-python",
   "name": "python",
   "nbconvert_exporter": "python",
   "pygments_lexer": "ipython3",
   "version": "3.10.17"
  }
 },
 "nbformat": 4,
 "nbformat_minor": 2
}
