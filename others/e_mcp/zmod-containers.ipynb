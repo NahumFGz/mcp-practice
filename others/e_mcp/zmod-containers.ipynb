{
 "cells": [
  {
   "cell_type": "code",
   "execution_count": 8,
   "metadata": {},
   "outputs": [],
   "source": [
    "# %% [markdown]\n",
    "# tools/tavily_tool.py\n",
    "\n",
    "# %%\n",
    "from langchain_community.tools.tavily_search import TavilySearchResults\n",
    "\n",
    "def get_tavily_tool():\n",
    "    return TavilySearchResults(max_results=2)"
   ]
  },
  {
   "cell_type": "code",
   "execution_count": 9,
   "metadata": {},
   "outputs": [],
   "source": [
    "# %% [markdown]\n",
    "# tools/mcp_client_config.py\n",
    "\n",
    "# %%\n",
    "def get_mcp_config():\n",
    "    return {\n",
    "        \"assistance\": {\n",
    "            \"url\": \"http://localhost:9001/sse\",\n",
    "            \"transport\": \"sse\",\n",
    "        },\n",
    "        \"contracting\":{\n",
    "            \"url\": \"http://localhost:9002/sse\",\n",
    "            \"transport\": \"sse\",\n",
    "        },\n",
    "        \"voting\":{\n",
    "            \"url\": \"http://localhost:9003/sse\",\n",
    "            \"transport\": \"sse\",\n",
    "        }\n",
    "    }\n"
   ]
  },
  {
   "cell_type": "code",
   "execution_count": 10,
   "metadata": {},
   "outputs": [],
   "source": [
    "# %% [markdown]\n",
    "# graph/chatbot_graph.py\n",
    "\n",
    "# %%\n",
    "from langgraph.graph import StateGraph, MessagesState, START, END\n",
    "from langgraph.prebuilt import ToolNode, tools_condition\n",
    "from langchain_openai import ChatOpenAI\n",
    "\n",
    "def build_graph(tools):\n",
    "    model = ChatOpenAI(model=\"gpt-4o-mini\")\n",
    "    llm_with_tools = model.bind_tools(tools)\n",
    "\n",
    "    def call_model(state: MessagesState):\n",
    "        response = llm_with_tools.invoke(state[\"messages\"])\n",
    "        return {\"messages\": response}\n",
    "\n",
    "    builder = StateGraph(MessagesState)\n",
    "    builder.add_node(\"call_model\", call_model)\n",
    "    builder.add_node(\"tools\", ToolNode(tools))\n",
    "\n",
    "    builder.add_edge(START, \"call_model\")\n",
    "    builder.add_conditional_edges(\"call_model\", tools_condition)\n",
    "    builder.add_edge(\"tools\", \"call_model\")\n",
    "    builder.add_edge(\"call_model\", END)\n",
    "\n",
    "    return builder.compile()\n"
   ]
  },
  {
   "cell_type": "code",
   "execution_count": 11,
   "metadata": {},
   "outputs": [],
   "source": [
    "# %% [markdown]\n",
    "# main.py\n",
    "\n",
    "# %%\n",
    "import dotenv\n",
    "import asyncio\n",
    "from IPython.display import Image, display\n",
    "\n",
    "from langchain_mcp_adapters.client import MultiServerMCPClient\n",
    "\n",
    "# importa funciones definidas en las otras celdas\n",
    "# si estás en un solo notebook, no necesitas cambiar nada\n",
    "# si estuvieran en archivos separados, sería: from tools.tavily_tool import get_tavily_tool\n",
    "get_tavily_tool = get_tavily_tool  # noqa\n",
    "get_mcp_config = get_mcp_config    # noqa\n",
    "build_graph = build_graph          # noqa\n",
    "\n",
    "# %%\n",
    "dotenv.load_dotenv()  # carga .env\n",
    "\n",
    "# %%\n",
    "async def main():\n",
    "    async with MultiServerMCPClient(get_mcp_config()) as client:\n",
    "        # Obtener herramientas del MCP\n",
    "        mcp_tools = client.get_tools()\n",
    "        print(f\"Herramientas MCP disponibles ({len(mcp_tools)}):\")\n",
    "        for tool in mcp_tools:\n",
    "            print(f\"  - {tool.name}\")\n",
    "\n",
    "        # Agregar Tavily\n",
    "        tools = mcp_tools + [get_tavily_tool()]\n",
    "\n",
    "        # Construir grafo y mostrar diagrama\n",
    "        graph = build_graph(tools)\n",
    "        return graph\n"
   ]
  },
  {
   "cell_type": "code",
   "execution_count": 12,
   "metadata": {},
   "outputs": [
    {
     "name": "stdout",
     "output_type": "stream",
     "text": [
      "Herramientas MCP disponibles (15):\n",
      "  - obtener_asistencias_congresista\n",
      "  - obtener_ranking_asistencia\n",
      "  - listar_faltas_recurrentes\n",
      "  - obtener_historial_asistencia\n",
      "  - obtener_estadisticas_generales_asistencia\n",
      "  - buscar_contratos_por_ruc\n",
      "  - listar_contratos_recientes\n",
      "  - obtener_entidades_top_por_proveedor\n",
      "  - consultar_estado_proveedor\n",
      "  - clasificar_contratos_por_categoria\n",
      "  - buscar_votaciones_por_tema\n",
      "  - resumen_votaciones_congresista\n",
      "  - obtener_votaciones_agrupadas_por_tema\n",
      "  - obtener_participacion_votaciones\n",
      "  - identificar_votos_clave_por_tema\n"
     ]
    },
    {
     "data": {
      "image/png": "[encoded data removed]",
      "text/plain": [
       "<IPython.core.display.Image object>"
      ]
     },
     "metadata": {},
     "output_type": "display_data"
    },
    {
     "name": "stdout",
     "output_type": "stream",
     "text": [
      "================================\u001b[1m Human Message \u001b[0m=================================\n",
      "\n",
      "what's 10 x 2 + 5?\n",
      "None\n",
      "==================================\u001b[1m Ai Message \u001b[0m==================================\n",
      "\n",
      "The calculation for \\(10 \\times 2 + 5\\) is as follows:\n",
      "\n",
      "1. Multiply: \\(10 \\times 2 = 20\\)\n",
      "2. Add: \\(20 + 5 = 25\\)\n",
      "\n",
      "Therefore, \\(10 \\times 2 + 5 = 25\\).\n",
      "None\n"
     ]
    },
    {
     "data": {
      "text/plain": [
       "{'messages': [HumanMessage(content=\"what's the weather in Cusco?\", additional_kwargs={}, response_metadata={}, id='d081c447-0e1a-4816-a5fa-7a71df1d0c51'),\n",
       "  AIMessage(content='', additional_kwargs={'tool_calls': [{'id': 'call_1K4cDMtcWPM1dwusWaIUZFA4', 'function': {'arguments': '{\"query\":\"weather in Cusco\"}', 'name': 'tavily_search_results_json'}, 'type': 'function'}], 'refusal': None}, response_metadata={'token_usage': {'completion_tokens': 22, 'prompt_tokens': 575, 'total_tokens': 597, 'completion_tokens_details': {'accepted_prediction_tokens': 0, 'audio_tokens': 0, 'reasoning_tokens': 0, 'rejected_prediction_tokens': 0}, 'prompt_tokens_details': {'audio_tokens': 0, 'cached_tokens': 0}}, 'model_name': 'gpt-4o-mini-2024-07-18', 'system_fingerprint': 'fp_dbaca60df0', 'id': 'chatcmpl-BV6V3m7msPIzBDX76aTrvO3CG8MRb', 'service_tier': 'default', 'finish_reason': 'tool_calls', 'logprobs': None}, id='run--9d4ef62c-97f7-45ac-8009-88116c975d37-0', tool_calls=[{'name': 'tavily_search_results_json', 'args': {'query': 'weather in Cusco'}, 'id': 'call_1K4cDMtcWPM1dwusWaIUZFA4', 'type': 'tool_call'}], usage_metadata={'input_tokens': 575, 'output_tokens': 22, 'total_tokens': 597, 'input_token_details': {'audio': 0, 'cache_read': 0}, 'output_token_details': {'audio': 0, 'reasoning': 0}}),\n",
       "  ToolMessage(content='[{\"title\": \"Weather in Cusco\", \"url\": \"https://www.weatherapi.com/\", \"content\": \"{\\'location\\': {\\'name\\': \\'Cusco\\', \\'region\\': \\'Cusco\\', \\'country\\': \\'Peru\\', \\'lat\\': -13.5183, \\'lon\\': -71.9781, \\'tz_id\\': \\'America/Lima\\', \\'localtime_epoch\\': 1746752612, \\'localtime\\': \\'2025-05-08 20:03\\'}, \\'current\\': {\\'last_updated_epoch\\': 1746752400, \\'last_updated\\': \\'2025-05-08 20:00\\', \\'temp_c\\': 9.2, \\'temp_f\\': 48.6, \\'is_day\\': 0, \\'condition\\': {\\'text\\': \\'Clear\\', \\'icon\\': \\'//cdn.weatherapi.com/weather/64x64/night/113.png\\', \\'code\\': 1000}, \\'wind_mph\\': 4.5, \\'wind_kph\\': 7.2, \\'wind_degree\\': 336, \\'wind_dir\\': \\'NNW\\', \\'pressure_mb\\': 1017.0, \\'pressure_in\\': 30.03, \\'precip_mm\\': 0.0, \\'precip_in\\': 0.0, \\'humidity\\': 75, \\'cloud\\': 10, \\'feelslike_c\\': 8.3, \\'feelslike_f\\': 46.9, \\'windchill_c\\': 8.3, \\'windchill_f\\': 46.9, \\'heatindex_c\\': 9.2, \\'heatindex_f\\': 48.6, \\'dewpoint_c\\': 5.1, \\'dewpoint_f\\': 41.1, \\'vis_km\\': 10.0, \\'vis_miles\\': 6.0, \\'uv\\': 0.0, \\'gust_mph\\': 6.8, \\'gust_kph\\': 10.9}}\", \"score\": 0.897881}, {\"title\": \"Weather in Cusco in September 2025 - Detailed Forecast\", \"url\": \"https://www.easeweather.com/south-america/peru/cusco/september\", \"content\": \"In general, the average temperature in Cusco at the beginning of September is 15.3 °C. As the month progressed, temperatures tended to moderately rise, reaching\", \"score\": 0.8719229}]', name='tavily_search_results_json', id='0a9a5064-df50-49b5-a7a9-06aa2de7626b', tool_call_id='call_1K4cDMtcWPM1dwusWaIUZFA4', artifact={'query': 'weather in Cusco', 'follow_up_questions': None, 'answer': None, 'images': [], 'results': [{'title': 'Weather in Cusco', 'url': 'https://www.weatherapi.com/', 'content': \"{'location': {'name': 'Cusco', 'region': 'Cusco', 'country': 'Peru', 'lat': -13.5183, 'lon': -71.9781, 'tz_id': 'America/Lima', 'localtime_epoch': 1746752612, 'localtime': '2025-05-08 20:03'}, 'current': {'last_updated_epoch': 1746752400, 'last_updated': '2025-05-08 20:00', 'temp_c': 9.2, 'temp_f': 48.6, 'is_day': 0, 'condition': {'text': 'Clear', 'icon': '//cdn.weatherapi.com/weather/64x64/night/113.png', 'code': 1000}, 'wind_mph': 4.5, 'wind_kph': 7.2, 'wind_degree': 336, 'wind_dir': 'NNW', 'pressure_mb': 1017.0, 'pressure_in': 30.03, 'precip_mm': 0.0, 'precip_in': 0.0, 'humidity': 75, 'cloud': 10, 'feelslike_c': 8.3, 'feelslike_f': 46.9, 'windchill_c': 8.3, 'windchill_f': 46.9, 'heatindex_c': 9.2, 'heatindex_f': 48.6, 'dewpoint_c': 5.1, 'dewpoint_f': 41.1, 'vis_km': 10.0, 'vis_miles': 6.0, 'uv': 0.0, 'gust_mph': 6.8, 'gust_kph': 10.9}}\", 'score': 0.897881, 'raw_content': None}, {'url': 'https://www.easeweather.com/south-america/peru/cusco/september', 'title': 'Weather in Cusco in September 2025 - Detailed Forecast', 'content': 'In general, the average temperature in Cusco at the beginning of September is 15.3 °C. As the month progressed, temperatures tended to moderately rise, reaching', 'score': 0.8719229, 'raw_content': None}], 'response_time': 2.35}),\n",
       "  AIMessage(content='The current weather in Cusco is as follows:\\n\\n- **Temperature:** 9.2 °C (48.6 °F)\\n- **Condition:** Clear\\n- **Wind:** 4.5 mph (7.2 kph) coming from the NNW\\n- **Humidity:** 75%\\n- **Pressure:** 1017 mb\\n- **Visibility:** 10 km\\n\\nFor more information, you can check a detailed weather site [here](https://www.weatherapi.com/).', additional_kwargs={'refusal': None}, response_metadata={'token_usage': {'completion_tokens': 103, 'prompt_tokens': 1116, 'total_tokens': 1219, 'completion_tokens_details': {'accepted_prediction_tokens': 0, 'audio_tokens': 0, 'reasoning_tokens': 0, 'rejected_prediction_tokens': 0}, 'prompt_tokens_details': {'audio_tokens': 0, 'cached_tokens': 0}}, 'model_name': 'gpt-4o-mini-2024-07-18', 'system_fingerprint': 'fp_dbaca60df0', 'id': 'chatcmpl-BV6V7FEOEZ7rCAzx8AJd5Vi2WbP4M', 'service_tier': 'default', 'finish_reason': 'stop', 'logprobs': None}, id='run--f93771a3-92ac-4450-a021-e6231f72c42d-0', usage_metadata={'input_tokens': 1116, 'output_tokens': 103, 'total_tokens': 1219, 'input_token_details': {'audio': 0, 'cache_read': 0}, 'output_token_details': {'audio': 0, 'reasoning': 0}})]}"
      ]
     },
     "execution_count": 12,
     "metadata": {},
     "output_type": "execute_result"
    }
   ],
   "source": [
    "# %% [markdown]\n",
    "# Ejecutar main() y probar el grafo\n",
    "\n",
    "# %%\n",
    "graph = await main()\n",
    "display(Image(graph.get_graph().draw_mermaid_png()))\n",
    "\n",
    "# %%\n",
    "agent_response = await graph.ainvoke({\"messages\": \"what's 10 x 2 + 5?\"})\n",
    "for msg in agent_response[\"messages\"]:\n",
    "    print(msg.pretty_print())\n",
    "\n",
    "# %%\n",
    "await graph.ainvoke({\"messages\": \"what's the weather in Cusco?\"})\n"
   ]
  },
  {
   "cell_type": "code",
   "execution_count": 13,
   "metadata": {},
   "outputs": [
    {
     "data": {
      "text/plain": [
       "{'messages': [HumanMessage(content='Hola, que acciones puedo realizar?', additional_kwargs={}, response_metadata={}, id='a7d04393-5885-4129-8180-835f298e60a0'),\n",
       "  AIMessage(content='¡Hola! Puedes realizar diversas acciones relacionadas con el Congreso, como:\\n\\n1. **Consultar estadísticas de asistencia**: Obtén información sobre la asistencia de los congresistas, incluyendo un ranking de los que tienen mejor asistencia.\\n2. **Revisar asistencias específicas**: Accede al resumen de asistencias, faltas y licencias de un congresista en particular.\\n3. **Historial de asistencia**: Consulta el historial de asistencia de un congresista por legislatura.\\n4. **Identificar faltas**: Lista congresistas que superan un umbral específico de faltas.\\n5. **Consultar votaciones**: Investiga votaciones relevantes sobre temas específicos y estadísticas de votación de un congresista.\\n6. **Participación en votaciones**: Analiza cuántas veces ha participado un congresista respecto al total de votaciones.\\n7. **Identificación de votos clave**: Descubre qué congresistas fueron decisivos en votaciones relacionadas con un tema.\\n8. **Contratación del Estado**: Busca información sobre proveedores del Estado, como contratos, entidades que más han contratado, y si están habilitados para contratar.\\n\\nDime qué acción específica te gustaría realizar y estaré encantado de ayudarte.', additional_kwargs={'refusal': None}, response_metadata={'token_usage': {'completion_tokens': 252, 'prompt_tokens': 574, 'total_tokens': 826, 'completion_tokens_details': {'accepted_prediction_tokens': 0, 'audio_tokens': 0, 'reasoning_tokens': 0, 'rejected_prediction_tokens': 0}, 'prompt_tokens_details': {'audio_tokens': 0, 'cached_tokens': 0}}, 'model_name': 'gpt-4o-mini-2024-07-18', 'system_fingerprint': 'fp_dbaca60df0', 'id': 'chatcmpl-BV6V9Z64YP9ym1jxvEtPA1naH5XYk', 'service_tier': 'default', 'finish_reason': 'stop', 'logprobs': None}, id='run--204c2465-8dd2-418a-b16e-1dab3b616f8e-0', usage_metadata={'input_tokens': 574, 'output_tokens': 252, 'total_tokens': 826, 'input_token_details': {'audio': 0, 'cache_read': 0}, 'output_token_details': {'audio': 0, 'reasoning': 0}})]}"
      ]
     },
     "execution_count": 13,
     "metadata": {},
     "output_type": "execute_result"
    }
   ],
   "source": [
    "await graph.ainvoke({\"messages\": \"Hola, que acciones puedo realizar?\"})"
   ]
  },
  {
   "cell_type": "code",
   "execution_count": 14,
   "metadata": {},
   "outputs": [
    {
     "data": {
      "text/plain": [
       "{'messages': [HumanMessage(content=\"what's the weather in Cusco?\", additional_kwargs={}, response_metadata={}, id='881cf368-c209-4a06-9af5-74d46d615c22'),\n",
       "  AIMessage(content='', additional_kwargs={'tool_calls': [{'id': 'call_p4m60LQTPOYu4rG86Lm6HWTg', 'function': {'arguments': '{\"query\":\"current weather in Cusco\"}', 'name': 'tavily_search_results_json'}, 'type': 'function'}], 'refusal': None}, response_metadata={'token_usage': {'completion_tokens': 23, 'prompt_tokens': 575, 'total_tokens': 598, 'completion_tokens_details': {'accepted_prediction_tokens': 0, 'audio_tokens': 0, 'reasoning_tokens': 0, 'rejected_prediction_tokens': 0}, 'prompt_tokens_details': {'audio_tokens': 0, 'cached_tokens': 0}}, 'model_name': 'gpt-4o-mini-2024-07-18', 'system_fingerprint': 'fp_dbaca60df0', 'id': 'chatcmpl-BV6VF4NHeMZPTp5wCO1krCH1VcT1l', 'service_tier': 'default', 'finish_reason': 'tool_calls', 'logprobs': None}, id='run--5b9ab781-b70f-4179-9fae-8e00b8d71a9d-0', tool_calls=[{'name': 'tavily_search_results_json', 'args': {'query': 'current weather in Cusco'}, 'id': 'call_p4m60LQTPOYu4rG86Lm6HWTg', 'type': 'tool_call'}], usage_metadata={'input_tokens': 575, 'output_tokens': 23, 'total_tokens': 598, 'input_token_details': {'audio': 0, 'cache_read': 0}, 'output_token_details': {'audio': 0, 'reasoning': 0}}),\n",
       "  ToolMessage(content='[{\"title\": \"Weather in Cusco\", \"url\": \"https://www.weatherapi.com/\", \"content\": \"{\\'location\\': {\\'name\\': \\'Cusco\\', \\'region\\': \\'Cusco\\', \\'country\\': \\'Peru\\', \\'lat\\': -13.5183, \\'lon\\': -71.9781, \\'tz_id\\': \\'America/Lima\\', \\'localtime_epoch\\': 1746752867, \\'localtime\\': \\'2025-05-08 20:07\\'}, \\'current\\': {\\'last_updated_epoch\\': 1746752400, \\'last_updated\\': \\'2025-05-08 20:00\\', \\'temp_c\\': 9.2, \\'temp_f\\': 48.6, \\'is_day\\': 0, \\'condition\\': {\\'text\\': \\'Clear\\', \\'icon\\': \\'//cdn.weatherapi.com/weather/64x64/night/113.png\\', \\'code\\': 1000}, \\'wind_mph\\': 4.5, \\'wind_kph\\': 7.2, \\'wind_degree\\': 336, \\'wind_dir\\': \\'NNW\\', \\'pressure_mb\\': 1017.0, \\'pressure_in\\': 30.03, \\'precip_mm\\': 0.0, \\'precip_in\\': 0.0, \\'humidity\\': 75, \\'cloud\\': 10, \\'feelslike_c\\': 8.3, \\'feelslike_f\\': 46.9, \\'windchill_c\\': 8.3, \\'windchill_f\\': 46.9, \\'heatindex_c\\': 9.2, \\'heatindex_f\\': 48.6, \\'dewpoint_c\\': 5.1, \\'dewpoint_f\\': 41.1, \\'vis_km\\': 10.0, \\'vis_miles\\': 6.0, \\'uv\\': 0.0, \\'gust_mph\\': 6.8, \\'gust_kph\\': 10.9}}\", \"score\": 0.8585376}, {\"title\": \"Weather for Cuzco, Cusco, Peru - Time and Date\", \"url\": \"https://www.timeanddate.com/weather/peru/cuzco\", \"content\": \"Weather in Cuzco, Cusco, Peru\\\\n\\\\nPassing clouds.\\\\n\\\\nFeels Like: 49\\xa0°FForecast: 68 / 42\\xa0°FWind: 3 mph ↑ from West\\\\n\\\\nLocation: | Cuzco Airport\\\\nCurrent Time: | May 8, 2025 at 8:07:48 pm\\\\nLatest Report: | May 8, 2025 at 7:30 pm\\\\nVisibility: | N/A\\\\nPressure: | 30.45 \\\\\"Hg(20.25 \\\\\"Hg at 3379m altitude)\\\\nHumidity: | 71%\\\\nDew Point: | 41\\xa0°F\\\\nUpcoming 5 hours\\\\n\\\\nNow | 9:00 pm | 10:00 pm | 11:00 pm | 12:00 am | 1:00 am\\\\n |  |  |  |  | \\\\n50\\xa0°F | 48\\xa0°F | 46\\xa0°F | 45\\xa0°F | 44\\xa0°F | 44\\xa0°F\\\\nSee more hour-by-hour weather [...] Humidity | 72% | 89% | 55% | 35% | 77% | 86% | 58%\\\\nDew Point | 39\\xa0°F | 41\\xa0°F | 38\\xa0°F | 36\\xa0°F | 42\\xa0°F | 40\\xa0°F | 39\\xa0°F\\\\nVisibility | 6\\xa0mi | 6\\xa0mi | 8\\xa0mi | 8\\xa0mi | 6\\xa0mi | 6\\xa0mi | 7\\xa0mi\\\\nProbability of Precipitation | 6% | 5% | 5% | 9% | 7% | 5% | 7%\\\\n* Updated Thursday, May 8, 2025 2:43:15 pm Cuzco time - Weather by CustomWeather, © 2025\\\\n14 day forecast, day-by-dayHour-by-hour forecast for next week [...] | Thursday | Friday | Saturday\\\\n | Evening | Night | Morning | Afternoon | Evening | Night | Morning\\\\nForecast |  |  |  |  |  |  | \\\\nTemperature | 48\\xa0°F | 44\\xa0°F | 54\\xa0°F | 64\\xa0°F | 49\\xa0°F | 44\\xa0°F | 53\\xa0°F\\\\n | Broken clouds. | Clear. | Sunny. | Mostly cloudy. | Mostly clear. | Cloudy. | Cloudy.\\\\nFeels Like | 46\\xa0°F | 44\\xa0°F | 54\\xa0°F | 64\\xa0°F | 48\\xa0°F | 44\\xa0°F | 53\\xa0°F\\\\nWind Speed | 4 mph | 2 mph | 1 mph | 4 mph | 4 mph | 3 mph | 2 mph\\\\nWind Direction | NNW↑ | WSW↑ | S↑ | NNW↑ | NNE↑ | N↑ | NE↑\", \"score\": 0.8098936}]', name='tavily_search_results_json', id='9c64fce1-1276-464e-a797-23df590b556a', tool_call_id='call_p4m60LQTPOYu4rG86Lm6HWTg', artifact={'query': 'current weather in Cusco', 'follow_up_questions': None, 'answer': None, 'images': [], 'results': [{'title': 'Weather in Cusco', 'url': 'https://www.weatherapi.com/', 'content': \"{'location': {'name': 'Cusco', 'region': 'Cusco', 'country': 'Peru', 'lat': -13.5183, 'lon': -71.9781, 'tz_id': 'America/Lima', 'localtime_epoch': 1746752867, 'localtime': '2025-05-08 20:07'}, 'current': {'last_updated_epoch': 1746752400, 'last_updated': '2025-05-08 20:00', 'temp_c': 9.2, 'temp_f': 48.6, 'is_day': 0, 'condition': {'text': 'Clear', 'icon': '//cdn.weatherapi.com/weather/64x64/night/113.png', 'code': 1000}, 'wind_mph': 4.5, 'wind_kph': 7.2, 'wind_degree': 336, 'wind_dir': 'NNW', 'pressure_mb': 1017.0, 'pressure_in': 30.03, 'precip_mm': 0.0, 'precip_in': 0.0, 'humidity': 75, 'cloud': 10, 'feelslike_c': 8.3, 'feelslike_f': 46.9, 'windchill_c': 8.3, 'windchill_f': 46.9, 'heatindex_c': 9.2, 'heatindex_f': 48.6, 'dewpoint_c': 5.1, 'dewpoint_f': 41.1, 'vis_km': 10.0, 'vis_miles': 6.0, 'uv': 0.0, 'gust_mph': 6.8, 'gust_kph': 10.9}}\", 'score': 0.8585376, 'raw_content': None}, {'url': 'https://www.timeanddate.com/weather/peru/cuzco', 'title': 'Weather for Cuzco, Cusco, Peru - Time and Date', 'content': 'Weather in Cuzco, Cusco, Peru\\n\\nPassing clouds.\\n\\nFeels Like: 49\\xa0°FForecast: 68 / 42\\xa0°FWind: 3 mph ↑ from West\\n\\nLocation: | Cuzco Airport\\nCurrent Time: | May 8, 2025 at 8:07:48 pm\\nLatest Report: | May 8, 2025 at 7:30 pm\\nVisibility: | N/A\\nPressure: | 30.45 \"Hg(20.25 \"Hg at 3379m altitude)\\nHumidity: | 71%\\nDew Point: | 41\\xa0°F\\nUpcoming 5 hours\\n\\nNow | 9:00 pm | 10:00 pm | 11:00 pm | 12:00 am | 1:00 am\\n |  |  |  |  | \\n50\\xa0°F | 48\\xa0°F | 46\\xa0°F | 45\\xa0°F | 44\\xa0°F | 44\\xa0°F\\nSee more hour-by-hour weather [...] Humidity | 72% | 89% | 55% | 35% | 77% | 86% | 58%\\nDew Point | 39\\xa0°F | 41\\xa0°F | 38\\xa0°F | 36\\xa0°F | 42\\xa0°F | 40\\xa0°F | 39\\xa0°F\\nVisibility | 6\\xa0mi | 6\\xa0mi | 8\\xa0mi | 8\\xa0mi | 6\\xa0mi | 6\\xa0mi | 7\\xa0mi\\nProbability of Precipitation | 6% | 5% | 5% | 9% | 7% | 5% | 7%\\n* Updated Thursday, May 8, 2025 2:43:15 pm Cuzco time - Weather by CustomWeather, © 2025\\n14 day forecast, day-by-dayHour-by-hour forecast for next week [...] | Thursday | Friday | Saturday\\n | Evening | Night | Morning | Afternoon | Evening | Night | Morning\\nForecast |  |  |  |  |  |  | \\nTemperature | 48\\xa0°F | 44\\xa0°F | 54\\xa0°F | 64\\xa0°F | 49\\xa0°F | 44\\xa0°F | 53\\xa0°F\\n | Broken clouds. | Clear. | Sunny. | Mostly cloudy. | Mostly clear. | Cloudy. | Cloudy.\\nFeels Like | 46\\xa0°F | 44\\xa0°F | 54\\xa0°F | 64\\xa0°F | 48\\xa0°F | 44\\xa0°F | 53\\xa0°F\\nWind Speed | 4 mph | 2 mph | 1 mph | 4 mph | 4 mph | 3 mph | 2 mph\\nWind Direction | NNW↑ | WSW↑ | S↑ | NNW↑ | NNE↑ | N↑ | NE↑', 'score': 0.8098936, 'raw_content': None}], 'response_time': 3.77}),\n",
       "  AIMessage(content='The current weather in Cusco, Peru is as follows:\\n\\n- **Temperature**: 9.2°C (48.6°F)\\n- **Condition**: Clear\\n- **Humidity**: 75%\\n- **Wind**: 4.5 mph (7.2 kph) from the NNW\\n- **Visibility**: 10 km\\n- **Pressure**: 1017 mb\\n\\nFeel free to check more details [here](https://www.weatherapi.com/) or [here](https://www.timeanddate.com/weather/peru/cuzco).', additional_kwargs={'refusal': None}, response_metadata={'token_usage': {'completion_tokens': 120, 'prompt_tokens': 1692, 'total_tokens': 1812, 'completion_tokens_details': {'accepted_prediction_tokens': 0, 'audio_tokens': 0, 'reasoning_tokens': 0, 'rejected_prediction_tokens': 0}, 'prompt_tokens_details': {'audio_tokens': 0, 'cached_tokens': 0}}, 'model_name': 'gpt-4o-mini-2024-07-18', 'system_fingerprint': 'fp_dbaca60df0', 'id': 'chatcmpl-BV6VKld7QgqBSlh1u4w6WxhWyCRmU', 'service_tier': 'default', 'finish_reason': 'stop', 'logprobs': None}, id='run--b6c5eeaa-99d8-4e15-8d1e-89ac3f7e57a8-0', usage_metadata={'input_tokens': 1692, 'output_tokens': 120, 'total_tokens': 1812, 'input_token_details': {'audio': 0, 'cache_read': 0}, 'output_token_details': {'audio': 0, 'reasoning': 0}})]}"
      ]
     },
     "execution_count": 14,
     "metadata": {},
     "output_type": "execute_result"
    }
   ],
   "source": [
    "await graph.ainvoke({\"messages\": \"what's the weather in Cusco?\"})"
   ]
  },
  {
   "cell_type": "code",
   "execution_count": 18,
   "metadata": {},
   "outputs": [
    {
     "data": {
      "text/plain": [
       "{'messages': [HumanMessage(content='Pueds listar los contratos recientes del ruc 20524320496?', additional_kwargs={}, response_metadata={}, id='fe30337b-26f4-45bd-a9ed-fa3105325f53'),\n",
       "  AIMessage(content='', additional_kwargs={'tool_calls': [{'id': 'call_fm7FxQkb3rKHlztnWE1PsG3x', 'function': {'arguments': '{\"ruc\":\"20524320496\"}', 'name': 'listar_contratos_recientes'}, 'type': 'function'}], 'refusal': None}, response_metadata={'token_usage': {'completion_tokens': 24, 'prompt_tokens': 582, 'total_tokens': 606, 'completion_tokens_details': {'accepted_prediction_tokens': 0, 'audio_tokens': 0, 'reasoning_tokens': 0, 'rejected_prediction_tokens': 0}, 'prompt_tokens_details': {'audio_tokens': 0, 'cached_tokens': 0}}, 'model_name': 'gpt-4o-mini-2024-07-18', 'system_fingerprint': 'fp_dbaca60df0', 'id': 'chatcmpl-BV6Xgm0T29Z0FE1mSHoV9TbtNKfSA', 'service_tier': 'default', 'finish_reason': 'tool_calls', 'logprobs': None}, id='run--6d210812-2a8d-42fe-9fc1-836433b800db-0', tool_calls=[{'name': 'listar_contratos_recientes', 'args': {'ruc': '20524320496'}, 'id': 'call_fm7FxQkb3rKHlztnWE1PsG3x', 'type': 'tool_call'}], usage_metadata={'input_tokens': 582, 'output_tokens': 24, 'total_tokens': 606, 'input_token_details': {'audio': 0, 'cache_read': 0}, 'output_token_details': {'audio': 0, 'reasoning': 0}}),\n",
       "  ToolMessage(content='Error: ClosedResourceError()\\n Please fix your mistakes.', name='listar_contratos_recientes', id='4336db6a-9cd3-45c1-8058-7796a50bb9c9', tool_call_id='call_fm7FxQkb3rKHlztnWE1PsG3x', status='error'),\n",
       "  AIMessage(content='', additional_kwargs={'tool_calls': [{'id': 'call_f0PfpgQxjaYfoWb6O0ldMYkB', 'function': {'arguments': '{\"ruc\":\"20524320496\"}', 'name': 'listar_contratos_recientes'}, 'type': 'function'}], 'refusal': None}, response_metadata={'token_usage': {'completion_tokens': 24, 'prompt_tokens': 628, 'total_tokens': 652, 'completion_tokens_details': {'accepted_prediction_tokens': 0, 'audio_tokens': 0, 'reasoning_tokens': 0, 'rejected_prediction_tokens': 0}, 'prompt_tokens_details': {'audio_tokens': 0, 'cached_tokens': 0}}, 'model_name': 'gpt-4o-mini-2024-07-18', 'system_fingerprint': 'fp_dbaca60df0', 'id': 'chatcmpl-BV6Xhtm9zfRmqvRqqqkdJgBt7T2Mo', 'service_tier': 'default', 'finish_reason': 'tool_calls', 'logprobs': None}, id='run--2c07208a-dbeb-4d36-9e09-3673fabcdc31-0', tool_calls=[{'name': 'listar_contratos_recientes', 'args': {'ruc': '20524320496'}, 'id': 'call_f0PfpgQxjaYfoWb6O0ldMYkB', 'type': 'tool_call'}], usage_metadata={'input_tokens': 628, 'output_tokens': 24, 'total_tokens': 652, 'input_token_details': {'audio': 0, 'cache_read': 0}, 'output_token_details': {'audio': 0, 'reasoning': 0}}),\n",
       "  ToolMessage(content='Error: ClosedResourceError()\\n Please fix your mistakes.', name='listar_contratos_recientes', id='25701806-8570-40ef-869f-dcd0702dc584', tool_call_id='call_f0PfpgQxjaYfoWb6O0ldMYkB', status='error'),\n",
       "  AIMessage(content='Parece que hay un problema técnico al intentar acceder a los contratos recientes del RUC 20524320496. Te recomendaría intentar más tarde o verificar la validez del RUC. Si necesitas información adicional o asistencia en otro tema, házmelo saber.', additional_kwargs={'refusal': None}, response_metadata={'token_usage': {'completion_tokens': 55, 'prompt_tokens': 674, 'total_tokens': 729, 'completion_tokens_details': {'accepted_prediction_tokens': 0, 'audio_tokens': 0, 'reasoning_tokens': 0, 'rejected_prediction_tokens': 0}, 'prompt_tokens_details': {'audio_tokens': 0, 'cached_tokens': 0}}, 'model_name': 'gpt-4o-mini-2024-07-18', 'system_fingerprint': 'fp_dbaca60df0', 'id': 'chatcmpl-BV6XiZCm8BtWx3pizCzuMFpHj7pRN', 'service_tier': 'default', 'finish_reason': 'stop', 'logprobs': None}, id='run--54263a10-61d1-4cdd-b2de-7e89d7d01087-0', usage_metadata={'input_tokens': 674, 'output_tokens': 55, 'total_tokens': 729, 'input_token_details': {'audio': 0, 'cache_read': 0}, 'output_token_details': {'audio': 0, 'reasoning': 0}})]}"
      ]
     },
     "execution_count": 18,
     "metadata": {},
     "output_type": "execute_result"
    }
   ],
   "source": [
    "await graph.ainvoke({\"messages\": \"Pueds listar los contratos recientes del ruc 20524320496?\"})"
   ]
  },
  {
   "cell_type": "code",
   "execution_count": null,
   "metadata": {},
   "outputs": [],
   "source": []
  }
 ],
 "metadata": {
  "kernelspec": {
   "display_name": "venv_mcptesis",
   "language": "python",
   "name": "python3"
  },
  "language_info": {
   "codemirror_mode": {
    "name": "ipython",
    "version": 3
   },
   "file_extension": ".py",
   "mimetype": "text/x-python",
   "name": "python",
   "nbconvert_exporter": "python",
   "pygments_lexer": "ipython3",
   "version": "3.10.17"
  }
 },
 "nbformat": 4,
 "nbformat_minor": 2
}
