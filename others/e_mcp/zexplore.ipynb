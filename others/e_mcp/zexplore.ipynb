{
 "cells": [
  {
   "cell_type": "code",
   "execution_count": 8,
   "metadata": {},
   "outputs": [],
   "source": [
    "from langchain_mcp_adapters.client import MultiServerMCPClient\n",
    "from langgraph.graph import StateGraph, MessagesState, START\n",
    "from langgraph.prebuilt import ToolNode, tools_condition\n",
    "\n",
    "from langchain.chat_models import init_chat_model\n",
    "model = init_chat_model(\"openai:gpt-4.1\")\n",
    "\n",
    "async with MultiServerMCPClient(\n",
    "    {\n",
    "        \"math\": {\n",
    "            \"command\": \"python\",\n",
    "            \"args\": [\"./math_server.py\"],\n",
    "            \"transport\": \"stdio\",\n",
    "        },\n",
    "        \"transparencia\": {\n",
    "            \"command\": \"python\",\n",
    "            \"args\": [\"./mcp_server_transparencia.py\"],\n",
    "            \"transport\": \"stdio\",\n",
    "        }\n",
    "    }\n",
    ") as client:\n",
    "    tools = client.get_tools()\n",
    "    def call_model(state: MessagesState):\n",
    "        response = model.bind_tools(tools).invoke(state[\"messages\"])\n",
    "        return {\"messages\": response}\n",
    "\n",
    "    builder = StateGraph(MessagesState)\n",
    "    builder.add_node(call_model)\n",
    "    builder.add_node(ToolNode(tools))\n",
    "    builder.add_edge(START, \"call_model\")\n",
    "    builder.add_conditional_edges(\n",
    "        \"call_model\",\n",
    "        tools_condition,\n",
    "    )\n",
    "    builder.add_edge(\"tools\", \"call_model\")\n",
    "    graph = builder.compile()\n",
    "    math_response = await graph.ainvoke({\"messages\": \"what's (3 + 5) x 12?\"})\n",
    "    weather_response = await graph.ainvoke({\"messages\": \"Cuantos contratos tiene el proveedor con ruc 20500000001?\"})"
   ]
  },
  {
   "cell_type": "code",
   "execution_count": 13,
   "metadata": {},
   "outputs": [
    {
     "data": {
      "text/plain": [
       "{'messages': [HumanMessage(content=\"what's (3 + 5) x 12?\", additional_kwargs={}, response_metadata={}, id='c127de5d-179d-40b3-822a-8853a7610ad9'),\n",
       "  AIMessage(content='', additional_kwargs={'tool_calls': [{'id': 'call_QLiWNeEbeaDwrkQ4Gqp1B1FB', 'function': {'arguments': '{\"a\":3,\"b\":5}', 'name': 'add'}, 'type': 'function'}], 'refusal': None}, response_metadata={'token_usage': {'completion_tokens': 18, 'prompt_tokens': 162, 'total_tokens': 180, 'completion_tokens_details': {'accepted_prediction_tokens': 0, 'audio_tokens': 0, 'reasoning_tokens': 0, 'rejected_prediction_tokens': 0}, 'prompt_tokens_details': {'audio_tokens': 0, 'cached_tokens': 0}}, 'model_name': 'gpt-4.1-2025-04-14', 'system_fingerprint': 'fp_a1102cf978', 'id': 'chatcmpl-BV7G7lGKSaA73xmRnfRiPZwDVFTsO', 'service_tier': 'default', 'finish_reason': 'tool_calls', 'logprobs': None}, id='run--95ad7584-85ec-4719-a94c-0abc17629861-0', tool_calls=[{'name': 'add', 'args': {'a': 3, 'b': 5}, 'id': 'call_QLiWNeEbeaDwrkQ4Gqp1B1FB', 'type': 'tool_call'}], usage_metadata={'input_tokens': 162, 'output_tokens': 18, 'total_tokens': 180, 'input_token_details': {'audio': 0, 'cache_read': 0}, 'output_token_details': {'audio': 0, 'reasoning': 0}}),\n",
       "  ToolMessage(content='8', name='add', id='b10ebe41-b729-4362-8fbd-8d911300f6ff', tool_call_id='call_QLiWNeEbeaDwrkQ4Gqp1B1FB'),\n",
       "  AIMessage(content='', additional_kwargs={'tool_calls': [{'id': 'call_hkHUJhVHVp4UWAAePNcwmz6d', 'function': {'arguments': '{\"a\":8,\"b\":12}', 'name': 'multiply'}, 'type': 'function'}], 'refusal': None}, response_metadata={'token_usage': {'completion_tokens': 18, 'prompt_tokens': 187, 'total_tokens': 205, 'completion_tokens_details': {'accepted_prediction_tokens': 0, 'audio_tokens': 0, 'reasoning_tokens': 0, 'rejected_prediction_tokens': 0}, 'prompt_tokens_details': {'audio_tokens': 0, 'cached_tokens': 0}}, 'model_name': 'gpt-4.1-2025-04-14', 'system_fingerprint': 'fp_a1102cf978', 'id': 'chatcmpl-BV7G80SNmqasj4On3ssbEezYX26Sw', 'service_tier': 'default', 'finish_reason': 'tool_calls', 'logprobs': None}, id='run--22abc8be-5fc8-45c4-a2d6-e4912f94872d-0', tool_calls=[{'name': 'multiply', 'args': {'a': 8, 'b': 12}, 'id': 'call_hkHUJhVHVp4UWAAePNcwmz6d', 'type': 'tool_call'}], usage_metadata={'input_tokens': 187, 'output_tokens': 18, 'total_tokens': 205, 'input_token_details': {'audio': 0, 'cache_read': 0}, 'output_token_details': {'audio': 0, 'reasoning': 0}}),\n",
       "  ToolMessage(content='96', name='multiply', id='4eba8a82-9a3a-4d20-b379-c85ace8640ec', tool_call_id='call_hkHUJhVHVp4UWAAePNcwmz6d'),\n",
       "  AIMessage(content='(3 + 5) × 12 is 96.', additional_kwargs={'refusal': None}, response_metadata={'token_usage': {'completion_tokens': 15, 'prompt_tokens': 212, 'total_tokens': 227, 'completion_tokens_details': {'accepted_prediction_tokens': 0, 'audio_tokens': 0, 'reasoning_tokens': 0, 'rejected_prediction_tokens': 0}, 'prompt_tokens_details': {'audio_tokens': 0, 'cached_tokens': 0}}, 'model_name': 'gpt-4.1-2025-04-14', 'system_fingerprint': 'fp_a1102cf978', 'id': 'chatcmpl-BV7G98bJEtxoB4OifWurkLi7bw6Rr', 'service_tier': 'default', 'finish_reason': 'stop', 'logprobs': None}, id='run--a6596130-f5ca-4a60-9ab6-c24e2d38e892-0', usage_metadata={'input_tokens': 212, 'output_tokens': 15, 'total_tokens': 227, 'input_token_details': {'audio': 0, 'cache_read': 0}, 'output_token_details': {'audio': 0, 'reasoning': 0}})]}"
      ]
     },
     "execution_count": 13,
     "metadata": {},
     "output_type": "execute_result"
    }
   ],
   "source": [
    "math_response"
   ]
  },
  {
   "cell_type": "code",
   "execution_count": 14,
   "metadata": {},
   "outputs": [
    {
     "data": {
      "text/plain": [
       "{'messages': [HumanMessage(content='Cuantos contratos tiene el proveedor con ruc 20500000001?', additional_kwargs={}, response_metadata={}, id='cdbf6482-6b90-4600-b4e6-a0a9212396fe'),\n",
       "  AIMessage(content='', additional_kwargs={'tool_calls': [{'id': 'call_NrqK0ZBGWiqi61msI40eL0nY', 'function': {'arguments': '{\"ruc\":\"20500000001\"}', 'name': 'buscar_contratos_por_ruc'}, 'type': 'function'}], 'refusal': None}, response_metadata={'token_usage': {'completion_tokens': 24, 'prompt_tokens': 165, 'total_tokens': 189, 'completion_tokens_details': {'accepted_prediction_tokens': 0, 'audio_tokens': 0, 'reasoning_tokens': 0, 'rejected_prediction_tokens': 0}, 'prompt_tokens_details': {'audio_tokens': 0, 'cached_tokens': 0}}, 'model_name': 'gpt-4.1-2025-04-14', 'system_fingerprint': 'fp_a1102cf978', 'id': 'chatcmpl-BV7G9kIztS7UThV9AQQPoMqbikVMg', 'service_tier': 'default', 'finish_reason': 'tool_calls', 'logprobs': None}, id='run--e7ba89a3-4525-4cf4-86ce-ed0ebc83f966-0', tool_calls=[{'name': 'buscar_contratos_por_ruc', 'args': {'ruc': '20500000001'}, 'id': 'call_NrqK0ZBGWiqi61msI40eL0nY', 'type': 'tool_call'}], usage_metadata={'input_tokens': 165, 'output_tokens': 24, 'total_tokens': 189, 'input_token_details': {'audio': 0, 'cache_read': 0}, 'output_token_details': {'audio': 0, 'reasoning': 0}}),\n",
       "  ToolMessage(content='{\\n  \"ruc\": \"20500000001\",\\n  \"total_contratos\": 42,\\n  \"monto_total\": 1250000.5,\\n  \"entidades_top\": [\\n    \"MINSA\",\\n    \"Gobierno Regional de Lima\"\\n  ]\\n}', name='buscar_contratos_por_ruc', id='509e14f5-a5bc-4ede-a7a1-5939e8f36138', tool_call_id='call_NrqK0ZBGWiqi61msI40eL0nY'),\n",
       "  AIMessage(content='El proveedor con RUC 20500000001 tiene 42 contratos.', additional_kwargs={'refusal': None}, response_metadata={'token_usage': {'completion_tokens': 17, 'prompt_tokens': 259, 'total_tokens': 276, 'completion_tokens_details': {'accepted_prediction_tokens': 0, 'audio_tokens': 0, 'reasoning_tokens': 0, 'rejected_prediction_tokens': 0}, 'prompt_tokens_details': {'audio_tokens': 0, 'cached_tokens': 0}}, 'model_name': 'gpt-4.1-2025-04-14', 'system_fingerprint': 'fp_a1102cf978', 'id': 'chatcmpl-BV7GAcy3U9WFqtCymq4ILzVnkG08P', 'service_tier': 'default', 'finish_reason': 'stop', 'logprobs': None}, id='run--1c97cd52-dab2-48b9-8904-573eaab215b1-0', usage_metadata={'input_tokens': 259, 'output_tokens': 17, 'total_tokens': 276, 'input_token_details': {'audio': 0, 'cache_read': 0}, 'output_token_details': {'audio': 0, 'reasoning': 0}})]}"
      ]
     },
     "execution_count": 14,
     "metadata": {},
     "output_type": "execute_result"
    }
   ],
   "source": [
    "weather_response"
   ]
  },
  {
   "cell_type": "code",
   "execution_count": 16,
   "metadata": {},
   "outputs": [
    {
     "data": {
      "text/plain": [
       "[HumanMessage(content='Cuantos contratos tiene el proveedor con ruc 20500000001?', additional_kwargs={}, response_metadata={}, id='cdbf6482-6b90-4600-b4e6-a0a9212396fe'),\n",
       " AIMessage(content='', additional_kwargs={'tool_calls': [{'id': 'call_NrqK0ZBGWiqi61msI40eL0nY', 'function': {'arguments': '{\"ruc\":\"20500000001\"}', 'name': 'buscar_contratos_por_ruc'}, 'type': 'function'}], 'refusal': None}, response_metadata={'token_usage': {'completion_tokens': 24, 'prompt_tokens': 165, 'total_tokens': 189, 'completion_tokens_details': {'accepted_prediction_tokens': 0, 'audio_tokens': 0, 'reasoning_tokens': 0, 'rejected_prediction_tokens': 0}, 'prompt_tokens_details': {'audio_tokens': 0, 'cached_tokens': 0}}, 'model_name': 'gpt-4.1-2025-04-14', 'system_fingerprint': 'fp_a1102cf978', 'id': 'chatcmpl-BV7G9kIztS7UThV9AQQPoMqbikVMg', 'service_tier': 'default', 'finish_reason': 'tool_calls', 'logprobs': None}, id='run--e7ba89a3-4525-4cf4-86ce-ed0ebc83f966-0', tool_calls=[{'name': 'buscar_contratos_por_ruc', 'args': {'ruc': '20500000001'}, 'id': 'call_NrqK0ZBGWiqi61msI40eL0nY', 'type': 'tool_call'}], usage_metadata={'input_tokens': 165, 'output_tokens': 24, 'total_tokens': 189, 'input_token_details': {'audio': 0, 'cache_read': 0}, 'output_token_details': {'audio': 0, 'reasoning': 0}}),\n",
       " ToolMessage(content='{\\n  \"ruc\": \"20500000001\",\\n  \"total_contratos\": 42,\\n  \"monto_total\": 1250000.5,\\n  \"entidades_top\": [\\n    \"MINSA\",\\n    \"Gobierno Regional de Lima\"\\n  ]\\n}', name='buscar_contratos_por_ruc', id='509e14f5-a5bc-4ede-a7a1-5939e8f36138', tool_call_id='call_NrqK0ZBGWiqi61msI40eL0nY'),\n",
       " AIMessage(content='El proveedor con RUC 20500000001 tiene 42 contratos.', additional_kwargs={'refusal': None}, response_metadata={'token_usage': {'completion_tokens': 17, 'prompt_tokens': 259, 'total_tokens': 276, 'completion_tokens_details': {'accepted_prediction_tokens': 0, 'audio_tokens': 0, 'reasoning_tokens': 0, 'rejected_prediction_tokens': 0}, 'prompt_tokens_details': {'audio_tokens': 0, 'cached_tokens': 0}}, 'model_name': 'gpt-4.1-2025-04-14', 'system_fingerprint': 'fp_a1102cf978', 'id': 'chatcmpl-BV7GAcy3U9WFqtCymq4ILzVnkG08P', 'service_tier': 'default', 'finish_reason': 'stop', 'logprobs': None}, id='run--1c97cd52-dab2-48b9-8904-573eaab215b1-0', usage_metadata={'input_tokens': 259, 'output_tokens': 17, 'total_tokens': 276, 'input_token_details': {'audio': 0, 'cache_read': 0}, 'output_token_details': {'audio': 0, 'reasoning': 0}})]"
      ]
     },
     "execution_count": 16,
     "metadata": {},
     "output_type": "execute_result"
    }
   ],
   "source": [
    "weather_response['messages']"
   ]
  },
  {
   "cell_type": "code",
   "execution_count": null,
   "metadata": {},
   "outputs": [],
   "source": []
  }
 ],
 "metadata": {
  "kernelspec": {
   "display_name": "venv_mcptesis",
   "language": "python",
   "name": "python3"
  },
  "language_info": {
   "codemirror_mode": {
    "name": "ipython",
    "version": 3
   },
   "file_extension": ".py",
   "mimetype": "text/x-python",
   "name": "python",
   "nbconvert_exporter": "python",
   "pygments_lexer": "ipython3",
   "version": "3.10.17"
  }
 },
 "nbformat": 4,
 "nbformat_minor": 2
}
